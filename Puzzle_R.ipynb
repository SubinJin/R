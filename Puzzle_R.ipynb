{
 "cells": [
  {
   "cell_type": "markdown",
   "metadata": {},
   "source": [
    "## 1. R 환경 구축"
   ]
  },
  {
   "cell_type": "code",
   "execution_count": null,
   "metadata": {},
   "outputs": [],
   "source": [
    "install.packages('sqldf')\n",
    "install.packages('reshape')"
   ]
  },
  {
   "cell_type": "code",
   "execution_count": 1,
   "metadata": {},
   "outputs": [
    {
     "name": "stderr",
     "output_type": "stream",
     "text": [
      "Loading required package: gsubfn\n",
      "Loading required package: proto\n",
      "Loading required package: RSQLite\n"
     ]
    }
   ],
   "source": [
    "library('readxl')\n",
    "library('sqldf')\n",
    "library('reshape')"
   ]
  },
  {
   "cell_type": "markdown",
   "metadata": {},
   "source": [
    "## 2. EDA"
   ]
  },
  {
   "cell_type": "code",
   "execution_count": 2,
   "metadata": {},
   "outputs": [],
   "source": [
    "repair <- read.csv('C:\\\\Users\\\\jeens\\\\Downloads\\\\RepairExample_English.csv')"
   ]
  },
  {
   "cell_type": "code",
   "execution_count": 3,
   "metadata": {},
   "outputs": [
    {
     "data": {
      "text/html": [
       "<table>\n",
       "<thead><tr><th scope=col>caseID</th><th scope=col>taskID</th><th scope=col>originator</th><th scope=col>eventtype</th><th scope=col>timestamp</th><th scope=col>contact</th><th scope=col>RepairType</th><th scope=col>objectKey</th><th scope=col>RepairInternally</th><th scope=col>EstimatedRepairTime</th><th scope=col>RepairCode</th><th scope=col>RepairOK</th></tr></thead>\n",
       "<tbody>\n",
       "\t<tr><td>1                 </td><td>FirstContact      </td><td>Dian              </td><td>complete          </td><td>1970-01-02 8:08   </td><td>Phone             </td><td>                  </td><td>  NA              </td><td>NA                </td><td>NA                </td><td>NA                </td><td>NA                </td></tr>\n",
       "\t<tr><td>1                 </td><td>MakeTicket        </td><td>Dian              </td><td>start             </td><td>1970-01-02 8:08   </td><td>                  </td><td>                  </td><td>  NA              </td><td>NA                </td><td>NA                </td><td>NA                </td><td>NA                </td></tr>\n",
       "\t<tr><td>1                 </td><td>MakeTicket        </td><td>Dian              </td><td>complete          </td><td>1970-01-02 8:11   </td><td>                  </td><td>E                 </td><td>1340              </td><td>NA                </td><td>NA                </td><td>NA                </td><td>NA                </td></tr>\n",
       "\t<tr><td>1                 </td><td>ArrangeSurvey     </td><td>Dian              </td><td>start             </td><td>1970-01-02 8:11   </td><td>                  </td><td>                  </td><td>  NA              </td><td>NA                </td><td>NA                </td><td>NA                </td><td>NA                </td></tr>\n",
       "\t<tr><td>1                 </td><td>ArrangeSurvey     </td><td>Dian              </td><td>complete          </td><td>1970-01-02 8:16   </td><td>                  </td><td>                  </td><td>  NA              </td><td>NA                </td><td>NA                </td><td>NA                </td><td>NA                </td></tr>\n",
       "\t<tr><td>1                 </td><td>InformClientSurvey</td><td>System            </td><td>complete          </td><td>1970-01-02 8:16   </td><td>                  </td><td>                  </td><td>  NA              </td><td>NA                </td><td>NA                </td><td>NA                </td><td>NA                </td></tr>\n",
       "</tbody>\n",
       "</table>\n"
      ],
      "text/latex": [
       "\\begin{tabular}{r|llllllllllll}\n",
       " caseID & taskID & originator & eventtype & timestamp & contact & RepairType & objectKey & RepairInternally & EstimatedRepairTime & RepairCode & RepairOK\\\\\n",
       "\\hline\n",
       "\t 1                  & FirstContact       & Dian               & complete           & 1970-01-02 8:08    & Phone              &                    &   NA               & NA                 & NA                 & NA                 & NA                \\\\\n",
       "\t 1                  & MakeTicket         & Dian               & start              & 1970-01-02 8:08    &                    &                    &   NA               & NA                 & NA                 & NA                 & NA                \\\\\n",
       "\t 1                  & MakeTicket         & Dian               & complete           & 1970-01-02 8:11    &                    & E                  & 1340               & NA                 & NA                 & NA                 & NA                \\\\\n",
       "\t 1                  & ArrangeSurvey      & Dian               & start              & 1970-01-02 8:11    &                    &                    &   NA               & NA                 & NA                 & NA                 & NA                \\\\\n",
       "\t 1                  & ArrangeSurvey      & Dian               & complete           & 1970-01-02 8:16    &                    &                    &   NA               & NA                 & NA                 & NA                 & NA                \\\\\n",
       "\t 1                  & InformClientSurvey & System             & complete           & 1970-01-02 8:16    &                    &                    &   NA               & NA                 & NA                 & NA                 & NA                \\\\\n",
       "\\end{tabular}\n"
      ],
      "text/markdown": [
       "\n",
       "caseID | taskID | originator | eventtype | timestamp | contact | RepairType | objectKey | RepairInternally | EstimatedRepairTime | RepairCode | RepairOK | \n",
       "|---|---|---|---|---|---|\n",
       "| 1                  | FirstContact       | Dian               | complete           | 1970-01-02 8:08    | Phone              |                    |   NA               | NA                 | NA                 | NA                 | NA                 | \n",
       "| 1                  | MakeTicket         | Dian               | start              | 1970-01-02 8:08    |                    |                    |   NA               | NA                 | NA                 | NA                 | NA                 | \n",
       "| 1                  | MakeTicket         | Dian               | complete           | 1970-01-02 8:11    |                    | E                  | 1340               | NA                 | NA                 | NA                 | NA                 | \n",
       "| 1                  | ArrangeSurvey      | Dian               | start              | 1970-01-02 8:11    |                    |                    |   NA               | NA                 | NA                 | NA                 | NA                 | \n",
       "| 1                  | ArrangeSurvey      | Dian               | complete           | 1970-01-02 8:16    |                    |                    |   NA               | NA                 | NA                 | NA                 | NA                 | \n",
       "| 1                  | InformClientSurvey | System             | complete           | 1970-01-02 8:16    |                    |                    |   NA               | NA                 | NA                 | NA                 | NA                 | \n",
       "\n",
       "\n"
      ],
      "text/plain": [
       "  caseID taskID             originator eventtype timestamp       contact\n",
       "1 1      FirstContact       Dian       complete  1970-01-02 8:08 Phone  \n",
       "2 1      MakeTicket         Dian       start     1970-01-02 8:08        \n",
       "3 1      MakeTicket         Dian       complete  1970-01-02 8:11        \n",
       "4 1      ArrangeSurvey      Dian       start     1970-01-02 8:11        \n",
       "5 1      ArrangeSurvey      Dian       complete  1970-01-02 8:16        \n",
       "6 1      InformClientSurvey System     complete  1970-01-02 8:16        \n",
       "  RepairType objectKey RepairInternally EstimatedRepairTime RepairCode RepairOK\n",
       "1              NA      NA               NA                  NA         NA      \n",
       "2              NA      NA               NA                  NA         NA      \n",
       "3 E          1340      NA               NA                  NA         NA      \n",
       "4              NA      NA               NA                  NA         NA      \n",
       "5              NA      NA               NA                  NA         NA      \n",
       "6              NA      NA               NA                  NA         NA      "
      ]
     },
     "metadata": {},
     "output_type": "display_data"
    }
   ],
   "source": [
    "head(repair)"
   ]
  },
  {
   "cell_type": "code",
   "execution_count": 4,
   "metadata": {
    "scrolled": true
   },
   "outputs": [
    {
     "data": {
      "text/html": [
       "<table>\n",
       "<thead><tr><th></th><th scope=col>caseID</th><th scope=col>taskID</th><th scope=col>originator</th><th scope=col>eventtype</th><th scope=col>timestamp</th><th scope=col>contact</th><th scope=col>RepairType</th><th scope=col>objectKey</th><th scope=col>RepairInternally</th><th scope=col>EstimatedRepairTime</th><th scope=col>RepairCode</th><th scope=col>RepairOK</th></tr></thead>\n",
       "<tbody>\n",
       "\t<tr><th scope=row>13257</th><td>999                 </td><td>Survey              </td><td>Ben                 </td><td>complete            </td><td>1970-01-07 5:11     </td><td>                    </td><td>                    </td><td>NA                  </td><td>FALSE               </td><td>480                 </td><td> 4                  </td><td>  NA                </td></tr>\n",
       "\t<tr><th scope=row>13258</th><td>999                 </td><td>ExternRepair        </td><td>DoIt                </td><td>start               </td><td>1970-01-07 5:11     </td><td>                    </td><td>                    </td><td>NA                  </td><td>   NA               </td><td> NA                 </td><td>NA                  </td><td>  NA                </td></tr>\n",
       "\t<tr><th scope=row>13259</th><td>999                 </td><td>RepairReady         </td><td>System              </td><td>complete            </td><td>1970-01-07 12:23    </td><td>                    </td><td>                    </td><td>NA                  </td><td>   NA               </td><td> NA                 </td><td>NA                  </td><td>TRUE                </td></tr>\n",
       "\t<tr><th scope=row>13260</th><td>999                 </td><td>ReadyInformClient   </td><td>System              </td><td>complete            </td><td>1970-01-07 13:11    </td><td>                    </td><td>                    </td><td>NA                  </td><td>   NA               </td><td> NA                 </td><td>NA                  </td><td>TRUE                </td></tr>\n",
       "\t<tr><th scope=row>13261</th><td>999                 </td><td>SendTicketToFinAdmin</td><td>System              </td><td>complete            </td><td>1970-01-07 16:25    </td><td>                    </td><td>                    </td><td>NA                  </td><td>   NA               </td><td> NA                 </td><td>NA                  </td><td>  NA                </td></tr>\n",
       "\t<tr><th scope=row>13262</th><td>999                 </td><td>TicketReady         </td><td>System              </td><td>complete            </td><td>1970-01-07 16:25    </td><td>                    </td><td>                    </td><td>NA                  </td><td>   NA               </td><td> NA                 </td><td>NA                  </td><td>  NA                </td></tr>\n",
       "</tbody>\n",
       "</table>\n"
      ],
      "text/latex": [
       "\\begin{tabular}{r|llllllllllll}\n",
       "  & caseID & taskID & originator & eventtype & timestamp & contact & RepairType & objectKey & RepairInternally & EstimatedRepairTime & RepairCode & RepairOK\\\\\n",
       "\\hline\n",
       "\t13257 & 999                  & Survey               & Ben                  & complete             & 1970-01-07 5:11      &                      &                      & NA                   & FALSE                & 480                  &  4                   &   NA                \\\\\n",
       "\t13258 & 999                  & ExternRepair         & DoIt                 & start                & 1970-01-07 5:11      &                      &                      & NA                   &    NA                &  NA                  & NA                   &   NA                \\\\\n",
       "\t13259 & 999                  & RepairReady          & System               & complete             & 1970-01-07 12:23     &                      &                      & NA                   &    NA                &  NA                  & NA                   & TRUE                \\\\\n",
       "\t13260 & 999                  & ReadyInformClient    & System               & complete             & 1970-01-07 13:11     &                      &                      & NA                   &    NA                &  NA                  & NA                   & TRUE                \\\\\n",
       "\t13261 & 999                  & SendTicketToFinAdmin & System               & complete             & 1970-01-07 16:25     &                      &                      & NA                   &    NA                &  NA                  & NA                   &   NA                \\\\\n",
       "\t13262 & 999                  & TicketReady          & System               & complete             & 1970-01-07 16:25     &                      &                      & NA                   &    NA                &  NA                  & NA                   &   NA                \\\\\n",
       "\\end{tabular}\n"
      ],
      "text/markdown": [
       "\n",
       "| <!--/--> | caseID | taskID | originator | eventtype | timestamp | contact | RepairType | objectKey | RepairInternally | EstimatedRepairTime | RepairCode | RepairOK | \n",
       "|---|---|---|---|---|---|\n",
       "| 13257 | 999                  | Survey               | Ben                  | complete             | 1970-01-07 5:11      |                      |                      | NA                   | FALSE                | 480                  |  4                   |   NA                 | \n",
       "| 13258 | 999                  | ExternRepair         | DoIt                 | start                | 1970-01-07 5:11      |                      |                      | NA                   |    NA                |  NA                  | NA                   |   NA                 | \n",
       "| 13259 | 999                  | RepairReady          | System               | complete             | 1970-01-07 12:23     |                      |                      | NA                   |    NA                |  NA                  | NA                   | TRUE                 | \n",
       "| 13260 | 999                  | ReadyInformClient    | System               | complete             | 1970-01-07 13:11     |                      |                      | NA                   |    NA                |  NA                  | NA                   | TRUE                 | \n",
       "| 13261 | 999                  | SendTicketToFinAdmin | System               | complete             | 1970-01-07 16:25     |                      |                      | NA                   |    NA                |  NA                  | NA                   |   NA                 | \n",
       "| 13262 | 999                  | TicketReady          | System               | complete             | 1970-01-07 16:25     |                      |                      | NA                   |    NA                |  NA                  | NA                   |   NA                 | \n",
       "\n",
       "\n"
      ],
      "text/plain": [
       "      caseID taskID               originator eventtype timestamp        contact\n",
       "13257 999    Survey               Ben        complete  1970-01-07 5:11         \n",
       "13258 999    ExternRepair         DoIt       start     1970-01-07 5:11         \n",
       "13259 999    RepairReady          System     complete  1970-01-07 12:23        \n",
       "13260 999    ReadyInformClient    System     complete  1970-01-07 13:11        \n",
       "13261 999    SendTicketToFinAdmin System     complete  1970-01-07 16:25        \n",
       "13262 999    TicketReady          System     complete  1970-01-07 16:25        \n",
       "      RepairType objectKey RepairInternally EstimatedRepairTime RepairCode\n",
       "13257            NA        FALSE            480                  4        \n",
       "13258            NA           NA             NA                 NA        \n",
       "13259            NA           NA             NA                 NA        \n",
       "13260            NA           NA             NA                 NA        \n",
       "13261            NA           NA             NA                 NA        \n",
       "13262            NA           NA             NA                 NA        \n",
       "      RepairOK\n",
       "13257   NA    \n",
       "13258   NA    \n",
       "13259 TRUE    \n",
       "13260 TRUE    \n",
       "13261   NA    \n",
       "13262   NA    "
      ]
     },
     "metadata": {},
     "output_type": "display_data"
    }
   ],
   "source": [
    "tail(repair)"
   ]
  },
  {
   "cell_type": "code",
   "execution_count": 4,
   "metadata": {},
   "outputs": [
    {
     "name": "stdout",
     "output_type": "stream",
     "text": [
      "'data.frame':\t13262 obs. of  12 variables:\n",
      " $ caseID             : int  1 1 1 1 1 1 1 1 1 1 ...\n",
      " $ taskID             : Factor w/ 13 levels \"ArrangeSurvey\",..: 3 8 8 1 1 5 12 12 7 7 ...\n",
      " $ originator         : Factor w/ 16 levels \"Anne\",\"Barbara\",..: 5 5 5 5 5 16 4 4 11 11 ...\n",
      " $ eventtype          : Factor w/ 2 levels \"complete\",\"start\": 1 2 1 2 1 1 2 1 2 1 ...\n",
      " $ timestamp          : Factor w/ 5538 levels \"1970-01-01 10:00\",..: 776 776 777 777 779 779 4432 4438 5364 5369 ...\n",
      " $ contact            : Factor w/ 5 levels \"\",\"Letter\",\"Personal\",..: 4 1 1 1 1 1 1 1 1 1 ...\n",
      " $ RepairType         : Factor w/ 4 levels \"\",\"B\",\"E\",\"P\": 1 1 3 1 1 1 1 1 1 1 ...\n",
      " $ objectKey          : int  NA NA 1340 NA NA NA NA NA NA NA ...\n",
      " $ RepairInternally   : logi  NA NA NA NA NA NA ...\n",
      " $ EstimatedRepairTime: int  NA NA NA NA NA NA NA 240 NA NA ...\n",
      " $ RepairCode         : int  NA NA NA NA NA NA NA 1 NA NA ...\n",
      " $ RepairOK           : logi  NA NA NA NA NA NA ...\n"
     ]
    }
   ],
   "source": [
    "str(repair)"
   ]
  },
  {
   "cell_type": "code",
   "execution_count": 41,
   "metadata": {},
   "outputs": [
    {
     "data": {
      "text/html": [
       "<table>\n",
       "<thead><tr><th scope=col>taskID</th><th scope=col>COUNT(taskID)</th></tr></thead>\n",
       "<tbody>\n",
       "\t<tr><td>ArrangeSurvey         </td><td>1854                  </td></tr>\n",
       "\t<tr><td>ExternRepair          </td><td> 132                  </td></tr>\n",
       "\t<tr><td>FirstContact          </td><td>1000                  </td></tr>\n",
       "\t<tr><td>ImmediateRepair       </td><td> 766                  </td></tr>\n",
       "\t<tr><td>InformClientSurvey    </td><td> 927                  </td></tr>\n",
       "\t<tr><td>InformClientWrongPlace</td><td>  73                  </td></tr>\n",
       "\t<tr><td>InternRepair          </td><td>1094                  </td></tr>\n",
       "\t<tr><td>MakeTicket            </td><td>1854                  </td></tr>\n",
       "\t<tr><td>ReadyInformClient     </td><td> 927                  </td></tr>\n",
       "\t<tr><td>RepairReady           </td><td> 927                  </td></tr>\n",
       "\t<tr><td>SendTicketToFinAdmin  </td><td> 927                  </td></tr>\n",
       "\t<tr><td>Survey                </td><td>1854                  </td></tr>\n",
       "\t<tr><td>TicketReady           </td><td> 927                  </td></tr>\n",
       "</tbody>\n",
       "</table>\n"
      ],
      "text/latex": [
       "\\begin{tabular}{r|ll}\n",
       " taskID & COUNT(taskID)\\\\\n",
       "\\hline\n",
       "\t ArrangeSurvey          & 1854                  \\\\\n",
       "\t ExternRepair           &  132                  \\\\\n",
       "\t FirstContact           & 1000                  \\\\\n",
       "\t ImmediateRepair        &  766                  \\\\\n",
       "\t InformClientSurvey     &  927                  \\\\\n",
       "\t InformClientWrongPlace &   73                  \\\\\n",
       "\t InternRepair           & 1094                  \\\\\n",
       "\t MakeTicket             & 1854                  \\\\\n",
       "\t ReadyInformClient      &  927                  \\\\\n",
       "\t RepairReady            &  927                  \\\\\n",
       "\t SendTicketToFinAdmin   &  927                  \\\\\n",
       "\t Survey                 & 1854                  \\\\\n",
       "\t TicketReady            &  927                  \\\\\n",
       "\\end{tabular}\n"
      ],
      "text/markdown": [
       "\n",
       "taskID | COUNT(taskID) | \n",
       "|---|---|---|---|---|---|---|---|---|---|---|---|---|\n",
       "| ArrangeSurvey          | 1854                   | \n",
       "| ExternRepair           |  132                   | \n",
       "| FirstContact           | 1000                   | \n",
       "| ImmediateRepair        |  766                   | \n",
       "| InformClientSurvey     |  927                   | \n",
       "| InformClientWrongPlace |   73                   | \n",
       "| InternRepair           | 1094                   | \n",
       "| MakeTicket             | 1854                   | \n",
       "| ReadyInformClient      |  927                   | \n",
       "| RepairReady            |  927                   | \n",
       "| SendTicketToFinAdmin   |  927                   | \n",
       "| Survey                 | 1854                   | \n",
       "| TicketReady            |  927                   | \n",
       "\n",
       "\n"
      ],
      "text/plain": [
       "   taskID                 COUNT(taskID)\n",
       "1  ArrangeSurvey          1854         \n",
       "2  ExternRepair            132         \n",
       "3  FirstContact           1000         \n",
       "4  ImmediateRepair         766         \n",
       "5  InformClientSurvey      927         \n",
       "6  InformClientWrongPlace   73         \n",
       "7  InternRepair           1094         \n",
       "8  MakeTicket             1854         \n",
       "9  ReadyInformClient       927         \n",
       "10 RepairReady             927         \n",
       "11 SendTicketToFinAdmin    927         \n",
       "12 Survey                 1854         \n",
       "13 TicketReady             927         "
      ]
     },
     "metadata": {},
     "output_type": "display_data"
    }
   ],
   "source": [
    "sqldf('SELECT taskID, COUNT(taskID) FROM repair GROUP BY taskID;')"
   ]
  },
  {
   "cell_type": "code",
   "execution_count": 47,
   "metadata": {},
   "outputs": [
    {
     "data": {
      "text/html": [
       "<table>\n",
       "<thead><tr><th scope=col>originator</th><th scope=col>CNT</th></tr></thead>\n",
       "<tbody>\n",
       "\t<tr><td>Anne   </td><td> 866   </td></tr>\n",
       "\t<tr><td>Barbara</td><td> 428   </td></tr>\n",
       "\t<tr><td>Ben    </td><td> 120   </td></tr>\n",
       "\t<tr><td>Cindy  </td><td> 388   </td></tr>\n",
       "\t<tr><td>Dian   </td><td>2246   </td></tr>\n",
       "\t<tr><td>DoIt   </td><td>  66   </td></tr>\n",
       "\t<tr><td>Edd    </td><td> 372   </td></tr>\n",
       "\t<tr><td>Eric   </td><td>  98   </td></tr>\n",
       "\t<tr><td>FixIt  </td><td>  66   </td></tr>\n",
       "\t<tr><td>Jacky  </td><td> 438   </td></tr>\n",
       "\t<tr><td>John   </td><td> 396   </td></tr>\n",
       "\t<tr><td>Lex    </td><td> 112   </td></tr>\n",
       "\t<tr><td>Monica </td><td>2535   </td></tr>\n",
       "\t<tr><td>Nick   </td><td> 108   </td></tr>\n",
       "\t<tr><td>Paul   </td><td> 388   </td></tr>\n",
       "\t<tr><td>System </td><td>4635   </td></tr>\n",
       "</tbody>\n",
       "</table>\n"
      ],
      "text/latex": [
       "\\begin{tabular}{r|ll}\n",
       " originator & CNT\\\\\n",
       "\\hline\n",
       "\t Anne    &  866   \\\\\n",
       "\t Barbara &  428   \\\\\n",
       "\t Ben     &  120   \\\\\n",
       "\t Cindy   &  388   \\\\\n",
       "\t Dian    & 2246   \\\\\n",
       "\t DoIt    &   66   \\\\\n",
       "\t Edd     &  372   \\\\\n",
       "\t Eric    &   98   \\\\\n",
       "\t FixIt   &   66   \\\\\n",
       "\t Jacky   &  438   \\\\\n",
       "\t John    &  396   \\\\\n",
       "\t Lex     &  112   \\\\\n",
       "\t Monica  & 2535   \\\\\n",
       "\t Nick    &  108   \\\\\n",
       "\t Paul    &  388   \\\\\n",
       "\t System  & 4635   \\\\\n",
       "\\end{tabular}\n"
      ],
      "text/markdown": [
       "\n",
       "originator | CNT | \n",
       "|---|---|---|---|---|---|---|---|---|---|---|---|---|---|---|---|\n",
       "| Anne    |  866    | \n",
       "| Barbara |  428    | \n",
       "| Ben     |  120    | \n",
       "| Cindy   |  388    | \n",
       "| Dian    | 2246    | \n",
       "| DoIt    |   66    | \n",
       "| Edd     |  372    | \n",
       "| Eric    |   98    | \n",
       "| FixIt   |   66    | \n",
       "| Jacky   |  438    | \n",
       "| John    |  396    | \n",
       "| Lex     |  112    | \n",
       "| Monica  | 2535    | \n",
       "| Nick    |  108    | \n",
       "| Paul    |  388    | \n",
       "| System  | 4635    | \n",
       "\n",
       "\n"
      ],
      "text/plain": [
       "   originator CNT \n",
       "1  Anne        866\n",
       "2  Barbara     428\n",
       "3  Ben         120\n",
       "4  Cindy       388\n",
       "5  Dian       2246\n",
       "6  DoIt         66\n",
       "7  Edd         372\n",
       "8  Eric         98\n",
       "9  FixIt        66\n",
       "10 Jacky       438\n",
       "11 John        396\n",
       "12 Lex         112\n",
       "13 Monica     2535\n",
       "14 Nick        108\n",
       "15 Paul        388\n",
       "16 System     4635"
      ]
     },
     "metadata": {},
     "output_type": "display_data"
    }
   ],
   "source": [
    "sqldf('SELECT originator, COUNT(originator) as CNT FROM repair GROUP BY originator')"
   ]
  },
  {
   "cell_type": "code",
   "execution_count": 12,
   "metadata": {},
   "outputs": [
    {
     "data": {
      "text/html": [
       "<table>\n",
       "<thead><tr><th scope=col>originator</th><th scope=col>taskID</th><th scope=col>CNT</th></tr></thead>\n",
       "<tbody>\n",
       "\t<tr><td>Anne           </td><td>ImmediateRepair</td><td> 866           </td></tr>\n",
       "\t<tr><td>Barbara        </td><td>ImmediateRepair</td><td> 428           </td></tr>\n",
       "\t<tr><td>Ben            </td><td>Survey         </td><td> 120           </td></tr>\n",
       "\t<tr><td>Cindy          </td><td>InternRepair   </td><td> 388           </td></tr>\n",
       "\t<tr><td>Dian           </td><td>ArrangeSurvey  </td><td>2246           </td></tr>\n",
       "\t<tr><td>DoIt           </td><td>ExternRepair   </td><td>  66           </td></tr>\n",
       "\t<tr><td>Edd            </td><td>Survey         </td><td> 372           </td></tr>\n",
       "\t<tr><td>Eric           </td><td>InternRepair   </td><td>  98           </td></tr>\n",
       "\t<tr><td>FixIt          </td><td>ExternRepair   </td><td>  66           </td></tr>\n",
       "\t<tr><td>Jacky          </td><td>ImmediateRepair</td><td> 438           </td></tr>\n",
       "\t<tr><td>John           </td><td>InternRepair   </td><td> 396           </td></tr>\n",
       "\t<tr><td>Lex            </td><td>Survey         </td><td> 112           </td></tr>\n",
       "\t<tr><td>Monica         </td><td>ArrangeSurvey  </td><td>2535           </td></tr>\n",
       "\t<tr><td>Nick           </td><td>InternRepair   </td><td> 108           </td></tr>\n",
       "\t<tr><td>Paul           </td><td>InternRepair   </td><td> 388           </td></tr>\n",
       "\t<tr><td>System         </td><td>TicketReady    </td><td>4635           </td></tr>\n",
       "</tbody>\n",
       "</table>\n"
      ],
      "text/latex": [
       "\\begin{tabular}{r|lll}\n",
       " originator & taskID & CNT\\\\\n",
       "\\hline\n",
       "\t Anne            & ImmediateRepair &  866           \\\\\n",
       "\t Barbara         & ImmediateRepair &  428           \\\\\n",
       "\t Ben             & Survey          &  120           \\\\\n",
       "\t Cindy           & InternRepair    &  388           \\\\\n",
       "\t Dian            & ArrangeSurvey   & 2246           \\\\\n",
       "\t DoIt            & ExternRepair    &   66           \\\\\n",
       "\t Edd             & Survey          &  372           \\\\\n",
       "\t Eric            & InternRepair    &   98           \\\\\n",
       "\t FixIt           & ExternRepair    &   66           \\\\\n",
       "\t Jacky           & ImmediateRepair &  438           \\\\\n",
       "\t John            & InternRepair    &  396           \\\\\n",
       "\t Lex             & Survey          &  112           \\\\\n",
       "\t Monica          & ArrangeSurvey   & 2535           \\\\\n",
       "\t Nick            & InternRepair    &  108           \\\\\n",
       "\t Paul            & InternRepair    &  388           \\\\\n",
       "\t System          & TicketReady     & 4635           \\\\\n",
       "\\end{tabular}\n"
      ],
      "text/markdown": [
       "\n",
       "originator | taskID | CNT | \n",
       "|---|---|---|---|---|---|---|---|---|---|---|---|---|---|---|---|\n",
       "| Anne            | ImmediateRepair |  866            | \n",
       "| Barbara         | ImmediateRepair |  428            | \n",
       "| Ben             | Survey          |  120            | \n",
       "| Cindy           | InternRepair    |  388            | \n",
       "| Dian            | ArrangeSurvey   | 2246            | \n",
       "| DoIt            | ExternRepair    |   66            | \n",
       "| Edd             | Survey          |  372            | \n",
       "| Eric            | InternRepair    |   98            | \n",
       "| FixIt           | ExternRepair    |   66            | \n",
       "| Jacky           | ImmediateRepair |  438            | \n",
       "| John            | InternRepair    |  396            | \n",
       "| Lex             | Survey          |  112            | \n",
       "| Monica          | ArrangeSurvey   | 2535            | \n",
       "| Nick            | InternRepair    |  108            | \n",
       "| Paul            | InternRepair    |  388            | \n",
       "| System          | TicketReady     | 4635            | \n",
       "\n",
       "\n"
      ],
      "text/plain": [
       "   originator taskID          CNT \n",
       "1  Anne       ImmediateRepair  866\n",
       "2  Barbara    ImmediateRepair  428\n",
       "3  Ben        Survey           120\n",
       "4  Cindy      InternRepair     388\n",
       "5  Dian       ArrangeSurvey   2246\n",
       "6  DoIt       ExternRepair      66\n",
       "7  Edd        Survey           372\n",
       "8  Eric       InternRepair      98\n",
       "9  FixIt      ExternRepair      66\n",
       "10 Jacky      ImmediateRepair  438\n",
       "11 John       InternRepair     396\n",
       "12 Lex        Survey           112\n",
       "13 Monica     ArrangeSurvey   2535\n",
       "14 Nick       InternRepair     108\n",
       "15 Paul       InternRepair     388\n",
       "16 System     TicketReady     4635"
      ]
     },
     "metadata": {},
     "output_type": "display_data"
    }
   ],
   "source": [
    "sqldf('SELECT originator, taskID, COUNT(*) as CNT FROM repair GROUP BY originator')"
   ]
  },
  {
   "cell_type": "code",
   "execution_count": 17,
   "metadata": {},
   "outputs": [
    {
     "data": {
      "text/html": [
       "<table>\n",
       "<thead><tr><th scope=col>taskID</th><th scope=col>eventtype</th></tr></thead>\n",
       "<tbody>\n",
       "\t<tr><td>ArrangeSurvey         </td><td>complete              </td></tr>\n",
       "\t<tr><td>ArrangeSurvey         </td><td>start                 </td></tr>\n",
       "\t<tr><td>ExternRepair          </td><td>start                 </td></tr>\n",
       "\t<tr><td>FirstContact          </td><td>complete              </td></tr>\n",
       "\t<tr><td>ImmediateRepair       </td><td>complete              </td></tr>\n",
       "\t<tr><td>ImmediateRepair       </td><td>start                 </td></tr>\n",
       "\t<tr><td>InformClientSurvey    </td><td>complete              </td></tr>\n",
       "\t<tr><td>InformClientWrongPlace</td><td>complete              </td></tr>\n",
       "\t<tr><td>InternRepair          </td><td>complete              </td></tr>\n",
       "\t<tr><td>InternRepair          </td><td>start                 </td></tr>\n",
       "\t<tr><td>MakeTicket            </td><td>complete              </td></tr>\n",
       "\t<tr><td>MakeTicket            </td><td>start                 </td></tr>\n",
       "\t<tr><td>ReadyInformClient     </td><td>complete              </td></tr>\n",
       "\t<tr><td>RepairReady           </td><td>complete              </td></tr>\n",
       "\t<tr><td>SendTicketToFinAdmin  </td><td>complete              </td></tr>\n",
       "\t<tr><td>Survey                </td><td>complete              </td></tr>\n",
       "\t<tr><td>Survey                </td><td>start                 </td></tr>\n",
       "\t<tr><td>TicketReady           </td><td>complete              </td></tr>\n",
       "</tbody>\n",
       "</table>\n"
      ],
      "text/latex": [
       "\\begin{tabular}{r|ll}\n",
       " taskID & eventtype\\\\\n",
       "\\hline\n",
       "\t ArrangeSurvey          & complete              \\\\\n",
       "\t ArrangeSurvey          & start                 \\\\\n",
       "\t ExternRepair           & start                 \\\\\n",
       "\t FirstContact           & complete              \\\\\n",
       "\t ImmediateRepair        & complete              \\\\\n",
       "\t ImmediateRepair        & start                 \\\\\n",
       "\t InformClientSurvey     & complete              \\\\\n",
       "\t InformClientWrongPlace & complete              \\\\\n",
       "\t InternRepair           & complete              \\\\\n",
       "\t InternRepair           & start                 \\\\\n",
       "\t MakeTicket             & complete              \\\\\n",
       "\t MakeTicket             & start                 \\\\\n",
       "\t ReadyInformClient      & complete              \\\\\n",
       "\t RepairReady            & complete              \\\\\n",
       "\t SendTicketToFinAdmin   & complete              \\\\\n",
       "\t Survey                 & complete              \\\\\n",
       "\t Survey                 & start                 \\\\\n",
       "\t TicketReady            & complete              \\\\\n",
       "\\end{tabular}\n"
      ],
      "text/markdown": [
       "\n",
       "taskID | eventtype | \n",
       "|---|---|---|---|---|---|---|---|---|---|---|---|---|---|---|---|---|---|\n",
       "| ArrangeSurvey          | complete               | \n",
       "| ArrangeSurvey          | start                  | \n",
       "| ExternRepair           | start                  | \n",
       "| FirstContact           | complete               | \n",
       "| ImmediateRepair        | complete               | \n",
       "| ImmediateRepair        | start                  | \n",
       "| InformClientSurvey     | complete               | \n",
       "| InformClientWrongPlace | complete               | \n",
       "| InternRepair           | complete               | \n",
       "| InternRepair           | start                  | \n",
       "| MakeTicket             | complete               | \n",
       "| MakeTicket             | start                  | \n",
       "| ReadyInformClient      | complete               | \n",
       "| RepairReady            | complete               | \n",
       "| SendTicketToFinAdmin   | complete               | \n",
       "| Survey                 | complete               | \n",
       "| Survey                 | start                  | \n",
       "| TicketReady            | complete               | \n",
       "\n",
       "\n"
      ],
      "text/plain": [
       "   taskID                 eventtype\n",
       "1  ArrangeSurvey          complete \n",
       "2  ArrangeSurvey          start    \n",
       "3  ExternRepair           start    \n",
       "4  FirstContact           complete \n",
       "5  ImmediateRepair        complete \n",
       "6  ImmediateRepair        start    \n",
       "7  InformClientSurvey     complete \n",
       "8  InformClientWrongPlace complete \n",
       "9  InternRepair           complete \n",
       "10 InternRepair           start    \n",
       "11 MakeTicket             complete \n",
       "12 MakeTicket             start    \n",
       "13 ReadyInformClient      complete \n",
       "14 RepairReady            complete \n",
       "15 SendTicketToFinAdmin   complete \n",
       "16 Survey                 complete \n",
       "17 Survey                 start    \n",
       "18 TicketReady            complete "
      ]
     },
     "metadata": {},
     "output_type": "display_data"
    }
   ],
   "source": [
    "sqldf('SELECT taskID, eventtype FROM repair GROUP BY taskID, eventtype ORDER BY taskID, eventtype;')"
   ]
  },
  {
   "cell_type": "code",
   "execution_count": 19,
   "metadata": {},
   "outputs": [
    {
     "data": {
      "text/html": [
       "<table>\n",
       "<thead><tr><th scope=col>originator</th><th scope=col>taskID</th></tr></thead>\n",
       "<tbody>\n",
       "\t<tr><td>System              </td><td>InformClientSurvey  </td></tr>\n",
       "\t<tr><td>System              </td><td>ReadyInformClient   </td></tr>\n",
       "\t<tr><td>System              </td><td>RepairReady         </td></tr>\n",
       "\t<tr><td>System              </td><td>SendTicketToFinAdmin</td></tr>\n",
       "\t<tr><td>System              </td><td>TicketReady         </td></tr>\n",
       "</tbody>\n",
       "</table>\n"
      ],
      "text/latex": [
       "\\begin{tabular}{r|ll}\n",
       " originator & taskID\\\\\n",
       "\\hline\n",
       "\t System               & InformClientSurvey  \\\\\n",
       "\t System               & ReadyInformClient   \\\\\n",
       "\t System               & RepairReady         \\\\\n",
       "\t System               & SendTicketToFinAdmin\\\\\n",
       "\t System               & TicketReady         \\\\\n",
       "\\end{tabular}\n"
      ],
      "text/markdown": [
       "\n",
       "originator | taskID | \n",
       "|---|---|---|---|---|\n",
       "| System               | InformClientSurvey   | \n",
       "| System               | ReadyInformClient    | \n",
       "| System               | RepairReady          | \n",
       "| System               | SendTicketToFinAdmin | \n",
       "| System               | TicketReady          | \n",
       "\n",
       "\n"
      ],
      "text/plain": [
       "  originator taskID              \n",
       "1 System     InformClientSurvey  \n",
       "2 System     ReadyInformClient   \n",
       "3 System     RepairReady         \n",
       "4 System     SendTicketToFinAdmin\n",
       "5 System     TicketReady         "
      ]
     },
     "metadata": {},
     "output_type": "display_data"
    }
   ],
   "source": [
    "sqldf('SELECT originator, taskID FROM repair WHERE originator like \"System\" GROUP BY taskID;')"
   ]
  },
  {
   "cell_type": "code",
   "execution_count": 31,
   "metadata": {},
   "outputs": [
    {
     "data": {
      "text/html": [
       "<table>\n",
       "<thead><tr><th scope=col>originator</th><th scope=col>taskID</th></tr></thead>\n",
       "<tbody>\n",
       "\t<tr><td>Dian                  </td><td>ArrangeSurvey         </td></tr>\n",
       "\t<tr><td>Dian                  </td><td>FirstContact          </td></tr>\n",
       "\t<tr><td>Dian                  </td><td>InformClientWrongPlace</td></tr>\n",
       "\t<tr><td>Dian                  </td><td>MakeTicket            </td></tr>\n",
       "</tbody>\n",
       "</table>\n"
      ],
      "text/latex": [
       "\\begin{tabular}{r|ll}\n",
       " originator & taskID\\\\\n",
       "\\hline\n",
       "\t Dian                   & ArrangeSurvey         \\\\\n",
       "\t Dian                   & FirstContact          \\\\\n",
       "\t Dian                   & InformClientWrongPlace\\\\\n",
       "\t Dian                   & MakeTicket            \\\\\n",
       "\\end{tabular}\n"
      ],
      "text/markdown": [
       "\n",
       "originator | taskID | \n",
       "|---|---|---|---|\n",
       "| Dian                   | ArrangeSurvey          | \n",
       "| Dian                   | FirstContact           | \n",
       "| Dian                   | InformClientWrongPlace | \n",
       "| Dian                   | MakeTicket             | \n",
       "\n",
       "\n"
      ],
      "text/plain": [
       "  originator taskID                \n",
       "1 Dian       ArrangeSurvey         \n",
       "2 Dian       FirstContact          \n",
       "3 Dian       InformClientWrongPlace\n",
       "4 Dian       MakeTicket            "
      ]
     },
     "metadata": {},
     "output_type": "display_data"
    }
   ],
   "source": [
    "sqldf('SELECT originator, taskID FROM repair WHERE originator like \"Dian\" GROUP BY taskID;')"
   ]
  },
  {
   "cell_type": "code",
   "execution_count": 20,
   "metadata": {},
   "outputs": [
    {
     "data": {
      "text/html": [
       "<table>\n",
       "<thead><tr><th scope=col>originator</th><th scope=col>taskID</th></tr></thead>\n",
       "<tbody>\n",
       "\t<tr><td>Cindy       </td><td>InternRepair</td></tr>\n",
       "\t<tr><td>Cindy       </td><td>Survey      </td></tr>\n",
       "</tbody>\n",
       "</table>\n"
      ],
      "text/latex": [
       "\\begin{tabular}{r|ll}\n",
       " originator & taskID\\\\\n",
       "\\hline\n",
       "\t Cindy        & InternRepair\\\\\n",
       "\t Cindy        & Survey      \\\\\n",
       "\\end{tabular}\n"
      ],
      "text/markdown": [
       "\n",
       "originator | taskID | \n",
       "|---|---|\n",
       "| Cindy        | InternRepair | \n",
       "| Cindy        | Survey       | \n",
       "\n",
       "\n"
      ],
      "text/plain": [
       "  originator taskID      \n",
       "1 Cindy      InternRepair\n",
       "2 Cindy      Survey      "
      ]
     },
     "metadata": {},
     "output_type": "display_data"
    }
   ],
   "source": [
    "sqldf('SELECT originator, taskID FROM repair WHERE originator like \"Cindy\" GROUP BY taskID;')"
   ]
  },
  {
   "cell_type": "code",
   "execution_count": 21,
   "metadata": {},
   "outputs": [
    {
     "data": {
      "text/html": [
       "<table>\n",
       "<thead><tr><th scope=col>originator</th><th scope=col>taskID</th></tr></thead>\n",
       "<tbody>\n",
       "\t<tr><td>John        </td><td>InternRepair</td></tr>\n",
       "\t<tr><td>John        </td><td>Survey      </td></tr>\n",
       "</tbody>\n",
       "</table>\n"
      ],
      "text/latex": [
       "\\begin{tabular}{r|ll}\n",
       " originator & taskID\\\\\n",
       "\\hline\n",
       "\t John         & InternRepair\\\\\n",
       "\t John         & Survey      \\\\\n",
       "\\end{tabular}\n"
      ],
      "text/markdown": [
       "\n",
       "originator | taskID | \n",
       "|---|---|\n",
       "| John         | InternRepair | \n",
       "| John         | Survey       | \n",
       "\n",
       "\n"
      ],
      "text/plain": [
       "  originator taskID      \n",
       "1 John       InternRepair\n",
       "2 John       Survey      "
      ]
     },
     "metadata": {},
     "output_type": "display_data"
    }
   ],
   "source": [
    "sqldf('SELECT originator, taskID FROM repair WHERE originator like \"John\" GROUP BY taskID;')"
   ]
  },
  {
   "cell_type": "code",
   "execution_count": 22,
   "metadata": {},
   "outputs": [
    {
     "data": {
      "text/html": [
       "<table>\n",
       "<thead><tr><th scope=col>originator</th><th scope=col>taskID</th></tr></thead>\n",
       "<tbody>\n",
       "\t<tr><td>Monica                </td><td>ArrangeSurvey         </td></tr>\n",
       "\t<tr><td>Monica                </td><td>FirstContact          </td></tr>\n",
       "\t<tr><td>Monica                </td><td>InformClientWrongPlace</td></tr>\n",
       "\t<tr><td>Monica                </td><td>MakeTicket            </td></tr>\n",
       "</tbody>\n",
       "</table>\n"
      ],
      "text/latex": [
       "\\begin{tabular}{r|ll}\n",
       " originator & taskID\\\\\n",
       "\\hline\n",
       "\t Monica                 & ArrangeSurvey         \\\\\n",
       "\t Monica                 & FirstContact          \\\\\n",
       "\t Monica                 & InformClientWrongPlace\\\\\n",
       "\t Monica                 & MakeTicket            \\\\\n",
       "\\end{tabular}\n"
      ],
      "text/markdown": [
       "\n",
       "originator | taskID | \n",
       "|---|---|---|---|\n",
       "| Monica                 | ArrangeSurvey          | \n",
       "| Monica                 | FirstContact           | \n",
       "| Monica                 | InformClientWrongPlace | \n",
       "| Monica                 | MakeTicket             | \n",
       "\n",
       "\n"
      ],
      "text/plain": [
       "  originator taskID                \n",
       "1 Monica     ArrangeSurvey         \n",
       "2 Monica     FirstContact          \n",
       "3 Monica     InformClientWrongPlace\n",
       "4 Monica     MakeTicket            "
      ]
     },
     "metadata": {},
     "output_type": "display_data"
    }
   ],
   "source": [
    "sqldf('SELECT originator, taskID FROM repair WHERE originator like \"Monica\" GROUP BY taskID;')"
   ]
  },
  {
   "cell_type": "code",
   "execution_count": 25,
   "metadata": {},
   "outputs": [
    {
     "data": {
      "text/html": [
       "<table>\n",
       "<thead><tr><th scope=col>originator</th><th scope=col>taskID</th><th scope=col>eventtype</th></tr></thead>\n",
       "<tbody>\n",
       "\t<tr><td>Jacky          </td><td>ImmediateRepair</td><td>complete       </td></tr>\n",
       "\t<tr><td>Jacky          </td><td>InternRepair   </td><td>complete       </td></tr>\n",
       "\t<tr><td>Jacky          </td><td>Survey         </td><td>complete       </td></tr>\n",
       "</tbody>\n",
       "</table>\n"
      ],
      "text/latex": [
       "\\begin{tabular}{r|lll}\n",
       " originator & taskID & eventtype\\\\\n",
       "\\hline\n",
       "\t Jacky           & ImmediateRepair & complete       \\\\\n",
       "\t Jacky           & InternRepair    & complete       \\\\\n",
       "\t Jacky           & Survey          & complete       \\\\\n",
       "\\end{tabular}\n"
      ],
      "text/markdown": [
       "\n",
       "originator | taskID | eventtype | \n",
       "|---|---|---|\n",
       "| Jacky           | ImmediateRepair | complete        | \n",
       "| Jacky           | InternRepair    | complete        | \n",
       "| Jacky           | Survey          | complete        | \n",
       "\n",
       "\n"
      ],
      "text/plain": [
       "  originator taskID          eventtype\n",
       "1 Jacky      ImmediateRepair complete \n",
       "2 Jacky      InternRepair    complete \n",
       "3 Jacky      Survey          complete "
      ]
     },
     "metadata": {},
     "output_type": "display_data"
    }
   ],
   "source": [
    "sqldf('SELECT originator, taskID, eventtype FROM repair WHERE originator like \"Jacky\" GROUP BY taskID;')"
   ]
  },
  {
   "cell_type": "code",
   "execution_count": 26,
   "metadata": {},
   "outputs": [
    {
     "data": {
      "text/html": [
       "<table>\n",
       "<thead><tr><th scope=col>originator</th><th scope=col>taskID</th><th scope=col>eventtype</th></tr></thead>\n",
       "<tbody>\n",
       "\t<tr><td>Eric           </td><td>ImmediateRepair</td><td>complete       </td></tr>\n",
       "\t<tr><td>Eric           </td><td>InternRepair   </td><td>complete       </td></tr>\n",
       "\t<tr><td>Eric           </td><td>Survey         </td><td>complete       </td></tr>\n",
       "</tbody>\n",
       "</table>\n"
      ],
      "text/latex": [
       "\\begin{tabular}{r|lll}\n",
       " originator & taskID & eventtype\\\\\n",
       "\\hline\n",
       "\t Eric            & ImmediateRepair & complete       \\\\\n",
       "\t Eric            & InternRepair    & complete       \\\\\n",
       "\t Eric            & Survey          & complete       \\\\\n",
       "\\end{tabular}\n"
      ],
      "text/markdown": [
       "\n",
       "originator | taskID | eventtype | \n",
       "|---|---|---|\n",
       "| Eric            | ImmediateRepair | complete        | \n",
       "| Eric            | InternRepair    | complete        | \n",
       "| Eric            | Survey          | complete        | \n",
       "\n",
       "\n"
      ],
      "text/plain": [
       "  originator taskID          eventtype\n",
       "1 Eric       ImmediateRepair complete \n",
       "2 Eric       InternRepair    complete \n",
       "3 Eric       Survey          complete "
      ]
     },
     "metadata": {},
     "output_type": "display_data"
    }
   ],
   "source": [
    "sqldf('SELECT originator, taskID, eventtype FROM repair WHERE originator like \"Eric\" GROUP BY taskID;')"
   ]
  },
  {
   "cell_type": "code",
   "execution_count": 28,
   "metadata": {},
   "outputs": [
    {
     "data": {
      "text/html": [
       "<table>\n",
       "<thead><tr><th scope=col>originator</th><th scope=col>taskID</th><th scope=col>eventtype</th></tr></thead>\n",
       "<tbody>\n",
       "\t<tr><td>FixIt       </td><td>ExternRepair</td><td>start       </td></tr>\n",
       "</tbody>\n",
       "</table>\n"
      ],
      "text/latex": [
       "\\begin{tabular}{r|lll}\n",
       " originator & taskID & eventtype\\\\\n",
       "\\hline\n",
       "\t FixIt        & ExternRepair & start       \\\\\n",
       "\\end{tabular}\n"
      ],
      "text/markdown": [
       "\n",
       "originator | taskID | eventtype | \n",
       "|---|\n",
       "| FixIt        | ExternRepair | start        | \n",
       "\n",
       "\n"
      ],
      "text/plain": [
       "  originator taskID       eventtype\n",
       "1 FixIt      ExternRepair start    "
      ]
     },
     "metadata": {},
     "output_type": "display_data"
    }
   ],
   "source": [
    "sqldf('SELECT originator, taskID, eventtype FROM repair WHERE originator like \"FixIt\" GROUP BY taskID;')"
   ]
  },
  {
   "cell_type": "code",
   "execution_count": 29,
   "metadata": {},
   "outputs": [
    {
     "data": {
      "text/html": [
       "<table>\n",
       "<thead><tr><th scope=col>originator</th><th scope=col>taskID</th><th scope=col>eventtype</th></tr></thead>\n",
       "<tbody>\n",
       "\t<tr><td>Nick           </td><td>ImmediateRepair</td><td>complete       </td></tr>\n",
       "\t<tr><td>Nick           </td><td>InternRepair   </td><td>complete       </td></tr>\n",
       "\t<tr><td>Nick           </td><td>Survey         </td><td>complete       </td></tr>\n",
       "</tbody>\n",
       "</table>\n"
      ],
      "text/latex": [
       "\\begin{tabular}{r|lll}\n",
       " originator & taskID & eventtype\\\\\n",
       "\\hline\n",
       "\t Nick            & ImmediateRepair & complete       \\\\\n",
       "\t Nick            & InternRepair    & complete       \\\\\n",
       "\t Nick            & Survey          & complete       \\\\\n",
       "\\end{tabular}\n"
      ],
      "text/markdown": [
       "\n",
       "originator | taskID | eventtype | \n",
       "|---|---|---|\n",
       "| Nick            | ImmediateRepair | complete        | \n",
       "| Nick            | InternRepair    | complete        | \n",
       "| Nick            | Survey          | complete        | \n",
       "\n",
       "\n"
      ],
      "text/plain": [
       "  originator taskID          eventtype\n",
       "1 Nick       ImmediateRepair complete \n",
       "2 Nick       InternRepair    complete \n",
       "3 Nick       Survey          complete "
      ]
     },
     "metadata": {},
     "output_type": "display_data"
    }
   ],
   "source": [
    "sqldf('SELECT originator, taskID, eventtype FROM repair WHERE originator like \"Nick\" GROUP BY taskID;')"
   ]
  },
  {
   "cell_type": "code",
   "execution_count": 30,
   "metadata": {},
   "outputs": [
    {
     "data": {
      "text/html": [
       "<table>\n",
       "<thead><tr><th scope=col>originator</th><th scope=col>taskID</th><th scope=col>eventtype</th></tr></thead>\n",
       "<tbody>\n",
       "\t<tr><td>Anne           </td><td>ImmediateRepair</td><td>complete       </td></tr>\n",
       "\t<tr><td>Anne           </td><td>InternRepair   </td><td>complete       </td></tr>\n",
       "\t<tr><td>Anne           </td><td>Survey         </td><td>complete       </td></tr>\n",
       "</tbody>\n",
       "</table>\n"
      ],
      "text/latex": [
       "\\begin{tabular}{r|lll}\n",
       " originator & taskID & eventtype\\\\\n",
       "\\hline\n",
       "\t Anne            & ImmediateRepair & complete       \\\\\n",
       "\t Anne            & InternRepair    & complete       \\\\\n",
       "\t Anne            & Survey          & complete       \\\\\n",
       "\\end{tabular}\n"
      ],
      "text/markdown": [
       "\n",
       "originator | taskID | eventtype | \n",
       "|---|---|---|\n",
       "| Anne            | ImmediateRepair | complete        | \n",
       "| Anne            | InternRepair    | complete        | \n",
       "| Anne            | Survey          | complete        | \n",
       "\n",
       "\n"
      ],
      "text/plain": [
       "  originator taskID          eventtype\n",
       "1 Anne       ImmediateRepair complete \n",
       "2 Anne       InternRepair    complete \n",
       "3 Anne       Survey          complete "
      ]
     },
     "metadata": {},
     "output_type": "display_data"
    }
   ],
   "source": [
    "sqldf('SELECT originator, taskID, eventtype FROM repair WHERE originator like \"Anne\" GROUP BY taskID;')"
   ]
  },
  {
   "cell_type": "code",
   "execution_count": 31,
   "metadata": {},
   "outputs": [
    {
     "data": {
      "text/html": [
       "<table>\n",
       "<thead><tr><th scope=col>originator</th><th scope=col>taskID</th><th scope=col>eventtype</th></tr></thead>\n",
       "<tbody>\n",
       "\t<tr><td>Paul        </td><td>InternRepair</td><td>complete    </td></tr>\n",
       "\t<tr><td>Paul        </td><td>Survey      </td><td>complete    </td></tr>\n",
       "</tbody>\n",
       "</table>\n"
      ],
      "text/latex": [
       "\\begin{tabular}{r|lll}\n",
       " originator & taskID & eventtype\\\\\n",
       "\\hline\n",
       "\t Paul         & InternRepair & complete    \\\\\n",
       "\t Paul         & Survey       & complete    \\\\\n",
       "\\end{tabular}\n"
      ],
      "text/markdown": [
       "\n",
       "originator | taskID | eventtype | \n",
       "|---|---|\n",
       "| Paul         | InternRepair | complete     | \n",
       "| Paul         | Survey       | complete     | \n",
       "\n",
       "\n"
      ],
      "text/plain": [
       "  originator taskID       eventtype\n",
       "1 Paul       InternRepair complete \n",
       "2 Paul       Survey       complete "
      ]
     },
     "metadata": {},
     "output_type": "display_data"
    }
   ],
   "source": [
    "sqldf('SELECT originator, taskID, eventtype FROM repair WHERE originator like \"Paul\" GROUP BY taskID;')"
   ]
  },
  {
   "cell_type": "code",
   "execution_count": 32,
   "metadata": {},
   "outputs": [
    {
     "data": {
      "text/html": [
       "<table>\n",
       "<thead><tr><th scope=col>originator</th><th scope=col>taskID</th><th scope=col>eventtype</th></tr></thead>\n",
       "<tbody>\n",
       "\t<tr><td>Edd         </td><td>InternRepair</td><td>complete    </td></tr>\n",
       "\t<tr><td>Edd         </td><td>Survey      </td><td>complete    </td></tr>\n",
       "</tbody>\n",
       "</table>\n"
      ],
      "text/latex": [
       "\\begin{tabular}{r|lll}\n",
       " originator & taskID & eventtype\\\\\n",
       "\\hline\n",
       "\t Edd          & InternRepair & complete    \\\\\n",
       "\t Edd          & Survey       & complete    \\\\\n",
       "\\end{tabular}\n"
      ],
      "text/markdown": [
       "\n",
       "originator | taskID | eventtype | \n",
       "|---|---|\n",
       "| Edd          | InternRepair | complete     | \n",
       "| Edd          | Survey       | complete     | \n",
       "\n",
       "\n"
      ],
      "text/plain": [
       "  originator taskID       eventtype\n",
       "1 Edd        InternRepair complete \n",
       "2 Edd        Survey       complete "
      ]
     },
     "metadata": {},
     "output_type": "display_data"
    }
   ],
   "source": [
    "sqldf('SELECT originator, taskID, eventtype FROM repair WHERE originator like \"Edd\" GROUP BY taskID;')"
   ]
  },
  {
   "cell_type": "code",
   "execution_count": 33,
   "metadata": {},
   "outputs": [
    {
     "data": {
      "text/html": [
       "<table>\n",
       "<thead><tr><th scope=col>originator</th><th scope=col>taskID</th><th scope=col>eventtype</th></tr></thead>\n",
       "<tbody>\n",
       "\t<tr><td>Lex            </td><td>ImmediateRepair</td><td>complete       </td></tr>\n",
       "\t<tr><td>Lex            </td><td>InternRepair   </td><td>complete       </td></tr>\n",
       "\t<tr><td>Lex            </td><td>Survey         </td><td>complete       </td></tr>\n",
       "</tbody>\n",
       "</table>\n"
      ],
      "text/latex": [
       "\\begin{tabular}{r|lll}\n",
       " originator & taskID & eventtype\\\\\n",
       "\\hline\n",
       "\t Lex             & ImmediateRepair & complete       \\\\\n",
       "\t Lex             & InternRepair    & complete       \\\\\n",
       "\t Lex             & Survey          & complete       \\\\\n",
       "\\end{tabular}\n"
      ],
      "text/markdown": [
       "\n",
       "originator | taskID | eventtype | \n",
       "|---|---|---|\n",
       "| Lex             | ImmediateRepair | complete        | \n",
       "| Lex             | InternRepair    | complete        | \n",
       "| Lex             | Survey          | complete        | \n",
       "\n",
       "\n"
      ],
      "text/plain": [
       "  originator taskID          eventtype\n",
       "1 Lex        ImmediateRepair complete \n",
       "2 Lex        InternRepair    complete \n",
       "3 Lex        Survey          complete "
      ]
     },
     "metadata": {},
     "output_type": "display_data"
    }
   ],
   "source": [
    "sqldf('SELECT originator, taskID, eventtype FROM repair WHERE originator like \"Lex\" GROUP BY taskID;')"
   ]
  },
  {
   "cell_type": "code",
   "execution_count": 34,
   "metadata": {},
   "outputs": [
    {
     "data": {
      "text/html": [
       "<table>\n",
       "<thead><tr><th scope=col>originator</th><th scope=col>taskID</th><th scope=col>eventtype</th></tr></thead>\n",
       "<tbody>\n",
       "\t<tr><td>Barbara        </td><td>ImmediateRepair</td><td>complete       </td></tr>\n",
       "\t<tr><td>Barbara        </td><td>InternRepair   </td><td>complete       </td></tr>\n",
       "\t<tr><td>Barbara        </td><td>Survey         </td><td>complete       </td></tr>\n",
       "</tbody>\n",
       "</table>\n"
      ],
      "text/latex": [
       "\\begin{tabular}{r|lll}\n",
       " originator & taskID & eventtype\\\\\n",
       "\\hline\n",
       "\t Barbara         & ImmediateRepair & complete       \\\\\n",
       "\t Barbara         & InternRepair    & complete       \\\\\n",
       "\t Barbara         & Survey          & complete       \\\\\n",
       "\\end{tabular}\n"
      ],
      "text/markdown": [
       "\n",
       "originator | taskID | eventtype | \n",
       "|---|---|---|\n",
       "| Barbara         | ImmediateRepair | complete        | \n",
       "| Barbara         | InternRepair    | complete        | \n",
       "| Barbara         | Survey          | complete        | \n",
       "\n",
       "\n"
      ],
      "text/plain": [
       "  originator taskID          eventtype\n",
       "1 Barbara    ImmediateRepair complete \n",
       "2 Barbara    InternRepair    complete \n",
       "3 Barbara    Survey          complete "
      ]
     },
     "metadata": {},
     "output_type": "display_data"
    }
   ],
   "source": [
    "sqldf('SELECT originator, taskID, eventtype FROM repair WHERE originator like \"Barbara\" GROUP BY taskID;')"
   ]
  },
  {
   "cell_type": "code",
   "execution_count": 36,
   "metadata": {},
   "outputs": [
    {
     "data": {
      "text/html": [
       "<table>\n",
       "<thead><tr><th scope=col>originator</th><th scope=col>taskID</th><th scope=col>eventtype</th></tr></thead>\n",
       "<tbody>\n",
       "\t<tr><td>DoIt        </td><td>ExternRepair</td><td>start       </td></tr>\n",
       "</tbody>\n",
       "</table>\n"
      ],
      "text/latex": [
       "\\begin{tabular}{r|lll}\n",
       " originator & taskID & eventtype\\\\\n",
       "\\hline\n",
       "\t DoIt         & ExternRepair & start       \\\\\n",
       "\\end{tabular}\n"
      ],
      "text/markdown": [
       "\n",
       "originator | taskID | eventtype | \n",
       "|---|\n",
       "| DoIt         | ExternRepair | start        | \n",
       "\n",
       "\n"
      ],
      "text/plain": [
       "  originator taskID       eventtype\n",
       "1 DoIt       ExternRepair start    "
      ]
     },
     "metadata": {},
     "output_type": "display_data"
    }
   ],
   "source": [
    "sqldf('SELECT originator, taskID, eventtype FROM repair WHERE originator like \"DoIt\" GROUP BY taskID;')"
   ]
  },
  {
   "cell_type": "code",
   "execution_count": 37,
   "metadata": {},
   "outputs": [
    {
     "data": {
      "text/html": [
       "<table>\n",
       "<thead><tr><th scope=col>originator</th><th scope=col>taskID</th><th scope=col>eventtype</th></tr></thead>\n",
       "<tbody>\n",
       "\t<tr><td>Ben            </td><td>ImmediateRepair</td><td>complete       </td></tr>\n",
       "\t<tr><td>Ben            </td><td>InternRepair   </td><td>complete       </td></tr>\n",
       "\t<tr><td>Ben            </td><td>Survey         </td><td>complete       </td></tr>\n",
       "</tbody>\n",
       "</table>\n"
      ],
      "text/latex": [
       "\\begin{tabular}{r|lll}\n",
       " originator & taskID & eventtype\\\\\n",
       "\\hline\n",
       "\t Ben             & ImmediateRepair & complete       \\\\\n",
       "\t Ben             & InternRepair    & complete       \\\\\n",
       "\t Ben             & Survey          & complete       \\\\\n",
       "\\end{tabular}\n"
      ],
      "text/markdown": [
       "\n",
       "originator | taskID | eventtype | \n",
       "|---|---|---|\n",
       "| Ben             | ImmediateRepair | complete        | \n",
       "| Ben             | InternRepair    | complete        | \n",
       "| Ben             | Survey          | complete        | \n",
       "\n",
       "\n"
      ],
      "text/plain": [
       "  originator taskID          eventtype\n",
       "1 Ben        ImmediateRepair complete \n",
       "2 Ben        InternRepair    complete \n",
       "3 Ben        Survey          complete "
      ]
     },
     "metadata": {},
     "output_type": "display_data"
    }
   ],
   "source": [
    "sqldf('SELECT originator, taskID, eventtype FROM repair WHERE originator like \"Ben\" GROUP BY taskID;')"
   ]
  },
  {
   "cell_type": "code",
   "execution_count": 9,
   "metadata": {},
   "outputs": [
    {
     "data": {
      "text/html": [
       "<table>\n",
       "<thead><tr><th scope=col>originator</th><th scope=col>taskID</th></tr></thead>\n",
       "<tbody>\n",
       "\t<tr><td>Dian        </td><td>FirstContact</td></tr>\n",
       "\t<tr><td>Monica      </td><td>FirstContact</td></tr>\n",
       "</tbody>\n",
       "</table>\n"
      ],
      "text/latex": [
       "\\begin{tabular}{r|ll}\n",
       " originator & taskID\\\\\n",
       "\\hline\n",
       "\t Dian         & FirstContact\\\\\n",
       "\t Monica       & FirstContact\\\\\n",
       "\\end{tabular}\n"
      ],
      "text/markdown": [
       "\n",
       "originator | taskID | \n",
       "|---|---|\n",
       "| Dian         | FirstContact | \n",
       "| Monica       | FirstContact | \n",
       "\n",
       "\n"
      ],
      "text/plain": [
       "  originator taskID      \n",
       "1 Dian       FirstContact\n",
       "2 Monica     FirstContact"
      ]
     },
     "metadata": {},
     "output_type": "display_data"
    }
   ],
   "source": [
    "sqldf('SELECT originator, taskID FROM repair WHERE taskID like \"FirstContact\" GROUP BY originator;')"
   ]
  },
  {
   "cell_type": "markdown",
   "metadata": {},
   "source": [
    "## 3. CASE 탐색"
   ]
  },
  {
   "cell_type": "code",
   "execution_count": 49,
   "metadata": {},
   "outputs": [
    {
     "data": {
      "text/html": [
       "<table>\n",
       "<thead><tr><th scope=col>caseID</th><th scope=col>taskID</th><th scope=col>originator</th><th scope=col>eventtype</th><th scope=col>timestamp</th><th scope=col>contact</th><th scope=col>RepairType</th><th scope=col>objectKey</th><th scope=col>RepairInternally</th><th scope=col>EstimatedRepairTime</th><th scope=col>RepairCode</th><th scope=col>RepairOK</th></tr></thead>\n",
       "<tbody>\n",
       "\t<tr><td>1                   </td><td>FirstContact        </td><td>Dian                </td><td>complete            </td><td>1970-01-02 8:08     </td><td>Phone               </td><td>                    </td><td>  NA                </td><td>  NA                </td><td> NA                 </td><td>NA                  </td><td>  NA                </td></tr>\n",
       "\t<tr><td>1                   </td><td>MakeTicket          </td><td>Dian                </td><td>start               </td><td>1970-01-02 8:08     </td><td>                    </td><td>                    </td><td>  NA                </td><td>  NA                </td><td> NA                 </td><td>NA                  </td><td>  NA                </td></tr>\n",
       "\t<tr><td>1                   </td><td>MakeTicket          </td><td>Dian                </td><td>complete            </td><td>1970-01-02 8:11     </td><td>                    </td><td>E                   </td><td>1340                </td><td>  NA                </td><td> NA                 </td><td>NA                  </td><td>  NA                </td></tr>\n",
       "\t<tr><td>1                   </td><td>ArrangeSurvey       </td><td>Dian                </td><td>start               </td><td>1970-01-02 8:11     </td><td>                    </td><td>                    </td><td>  NA                </td><td>  NA                </td><td> NA                 </td><td>NA                  </td><td>  NA                </td></tr>\n",
       "\t<tr><td>1                   </td><td>ArrangeSurvey       </td><td>Dian                </td><td>complete            </td><td>1970-01-02 8:16     </td><td>                    </td><td>                    </td><td>  NA                </td><td>  NA                </td><td> NA                 </td><td>NA                  </td><td>  NA                </td></tr>\n",
       "\t<tr><td>1                   </td><td>InformClientSurvey  </td><td>System              </td><td>complete            </td><td>1970-01-02 8:16     </td><td>                    </td><td>                    </td><td>  NA                </td><td>  NA                </td><td> NA                 </td><td>NA                  </td><td>  NA                </td></tr>\n",
       "\t<tr><td>1                   </td><td>Survey              </td><td>Cindy               </td><td>start               </td><td>1970-01-11 21:33    </td><td>                    </td><td>                    </td><td>  NA                </td><td>  NA                </td><td> NA                 </td><td>NA                  </td><td>  NA                </td></tr>\n",
       "\t<tr><td>1                   </td><td>Survey              </td><td>Cindy               </td><td>complete            </td><td>1970-01-11 21:56    </td><td>                    </td><td>                    </td><td>  NA                </td><td>TRUE                </td><td>240                 </td><td> 1                  </td><td>  NA                </td></tr>\n",
       "\t<tr><td>1                   </td><td>InternRepair        </td><td>John                </td><td>start               </td><td>1970-01-17 4:36     </td><td>                    </td><td>                    </td><td>  NA                </td><td>  NA                </td><td> NA                 </td><td>NA                  </td><td>  NA                </td></tr>\n",
       "\t<tr><td>1                   </td><td>InternRepair        </td><td>John                </td><td>complete            </td><td>1970-01-17 8:12     </td><td>                    </td><td>                    </td><td>  NA                </td><td>  NA                </td><td> NA                 </td><td>NA                  </td><td>  NA                </td></tr>\n",
       "\t<tr><td>1                   </td><td>RepairReady         </td><td>System              </td><td>complete            </td><td>1970-01-17 8:12     </td><td>                    </td><td>                    </td><td>  NA                </td><td>  NA                </td><td> NA                 </td><td>NA                  </td><td>TRUE                </td></tr>\n",
       "\t<tr><td>1                   </td><td>SendTicketToFinAdmin</td><td>System              </td><td>complete            </td><td>1970-01-17 14:03    </td><td>                    </td><td>                    </td><td>  NA                </td><td>  NA                </td><td> NA                 </td><td>NA                  </td><td>  NA                </td></tr>\n",
       "\t<tr><td>1                   </td><td>ReadyInformClient   </td><td>System              </td><td>complete            </td><td>1970-01-17 15:44    </td><td>                    </td><td>                    </td><td>  NA                </td><td>  NA                </td><td> NA                 </td><td>NA                  </td><td>TRUE                </td></tr>\n",
       "\t<tr><td>1                   </td><td>TicketReady         </td><td>System              </td><td>complete            </td><td>1970-01-17 15:44    </td><td>                    </td><td>                    </td><td>  NA                </td><td>  NA                </td><td> NA                 </td><td>NA                  </td><td>  NA                </td></tr>\n",
       "</tbody>\n",
       "</table>\n"
      ],
      "text/latex": [
       "\\begin{tabular}{r|llllllllllll}\n",
       " caseID & taskID & originator & eventtype & timestamp & contact & RepairType & objectKey & RepairInternally & EstimatedRepairTime & RepairCode & RepairOK\\\\\n",
       "\\hline\n",
       "\t 1                    & FirstContact         & Dian                 & complete             & 1970-01-02 8:08      & Phone                &                      &   NA                 &   NA                 &  NA                  & NA                   &   NA                \\\\\n",
       "\t 1                    & MakeTicket           & Dian                 & start                & 1970-01-02 8:08      &                      &                      &   NA                 &   NA                 &  NA                  & NA                   &   NA                \\\\\n",
       "\t 1                    & MakeTicket           & Dian                 & complete             & 1970-01-02 8:11      &                      & E                    & 1340                 &   NA                 &  NA                  & NA                   &   NA                \\\\\n",
       "\t 1                    & ArrangeSurvey        & Dian                 & start                & 1970-01-02 8:11      &                      &                      &   NA                 &   NA                 &  NA                  & NA                   &   NA                \\\\\n",
       "\t 1                    & ArrangeSurvey        & Dian                 & complete             & 1970-01-02 8:16      &                      &                      &   NA                 &   NA                 &  NA                  & NA                   &   NA                \\\\\n",
       "\t 1                    & InformClientSurvey   & System               & complete             & 1970-01-02 8:16      &                      &                      &   NA                 &   NA                 &  NA                  & NA                   &   NA                \\\\\n",
       "\t 1                    & Survey               & Cindy                & start                & 1970-01-11 21:33     &                      &                      &   NA                 &   NA                 &  NA                  & NA                   &   NA                \\\\\n",
       "\t 1                    & Survey               & Cindy                & complete             & 1970-01-11 21:56     &                      &                      &   NA                 & TRUE                 & 240                  &  1                   &   NA                \\\\\n",
       "\t 1                    & InternRepair         & John                 & start                & 1970-01-17 4:36      &                      &                      &   NA                 &   NA                 &  NA                  & NA                   &   NA                \\\\\n",
       "\t 1                    & InternRepair         & John                 & complete             & 1970-01-17 8:12      &                      &                      &   NA                 &   NA                 &  NA                  & NA                   &   NA                \\\\\n",
       "\t 1                    & RepairReady          & System               & complete             & 1970-01-17 8:12      &                      &                      &   NA                 &   NA                 &  NA                  & NA                   & TRUE                \\\\\n",
       "\t 1                    & SendTicketToFinAdmin & System               & complete             & 1970-01-17 14:03     &                      &                      &   NA                 &   NA                 &  NA                  & NA                   &   NA                \\\\\n",
       "\t 1                    & ReadyInformClient    & System               & complete             & 1970-01-17 15:44     &                      &                      &   NA                 &   NA                 &  NA                  & NA                   & TRUE                \\\\\n",
       "\t 1                    & TicketReady          & System               & complete             & 1970-01-17 15:44     &                      &                      &   NA                 &   NA                 &  NA                  & NA                   &   NA                \\\\\n",
       "\\end{tabular}\n"
      ],
      "text/markdown": [
       "\n",
       "caseID | taskID | originator | eventtype | timestamp | contact | RepairType | objectKey | RepairInternally | EstimatedRepairTime | RepairCode | RepairOK | \n",
       "|---|---|---|---|---|---|---|---|---|---|---|---|---|---|\n",
       "| 1                    | FirstContact         | Dian                 | complete             | 1970-01-02 8:08      | Phone                |                      |   NA                 |   NA                 |  NA                  | NA                   |   NA                 | \n",
       "| 1                    | MakeTicket           | Dian                 | start                | 1970-01-02 8:08      |                      |                      |   NA                 |   NA                 |  NA                  | NA                   |   NA                 | \n",
       "| 1                    | MakeTicket           | Dian                 | complete             | 1970-01-02 8:11      |                      | E                    | 1340                 |   NA                 |  NA                  | NA                   |   NA                 | \n",
       "| 1                    | ArrangeSurvey        | Dian                 | start                | 1970-01-02 8:11      |                      |                      |   NA                 |   NA                 |  NA                  | NA                   |   NA                 | \n",
       "| 1                    | ArrangeSurvey        | Dian                 | complete             | 1970-01-02 8:16      |                      |                      |   NA                 |   NA                 |  NA                  | NA                   |   NA                 | \n",
       "| 1                    | InformClientSurvey   | System               | complete             | 1970-01-02 8:16      |                      |                      |   NA                 |   NA                 |  NA                  | NA                   |   NA                 | \n",
       "| 1                    | Survey               | Cindy                | start                | 1970-01-11 21:33     |                      |                      |   NA                 |   NA                 |  NA                  | NA                   |   NA                 | \n",
       "| 1                    | Survey               | Cindy                | complete             | 1970-01-11 21:56     |                      |                      |   NA                 | TRUE                 | 240                  |  1                   |   NA                 | \n",
       "| 1                    | InternRepair         | John                 | start                | 1970-01-17 4:36      |                      |                      |   NA                 |   NA                 |  NA                  | NA                   |   NA                 | \n",
       "| 1                    | InternRepair         | John                 | complete             | 1970-01-17 8:12      |                      |                      |   NA                 |   NA                 |  NA                  | NA                   |   NA                 | \n",
       "| 1                    | RepairReady          | System               | complete             | 1970-01-17 8:12      |                      |                      |   NA                 |   NA                 |  NA                  | NA                   | TRUE                 | \n",
       "| 1                    | SendTicketToFinAdmin | System               | complete             | 1970-01-17 14:03     |                      |                      |   NA                 |   NA                 |  NA                  | NA                   |   NA                 | \n",
       "| 1                    | ReadyInformClient    | System               | complete             | 1970-01-17 15:44     |                      |                      |   NA                 |   NA                 |  NA                  | NA                   | TRUE                 | \n",
       "| 1                    | TicketReady          | System               | complete             | 1970-01-17 15:44     |                      |                      |   NA                 |   NA                 |  NA                  | NA                   |   NA                 | \n",
       "\n",
       "\n"
      ],
      "text/plain": [
       "   caseID taskID               originator eventtype timestamp        contact\n",
       "1  1      FirstContact         Dian       complete  1970-01-02 8:08  Phone  \n",
       "2  1      MakeTicket           Dian       start     1970-01-02 8:08         \n",
       "3  1      MakeTicket           Dian       complete  1970-01-02 8:11         \n",
       "4  1      ArrangeSurvey        Dian       start     1970-01-02 8:11         \n",
       "5  1      ArrangeSurvey        Dian       complete  1970-01-02 8:16         \n",
       "6  1      InformClientSurvey   System     complete  1970-01-02 8:16         \n",
       "7  1      Survey               Cindy      start     1970-01-11 21:33        \n",
       "8  1      Survey               Cindy      complete  1970-01-11 21:56        \n",
       "9  1      InternRepair         John       start     1970-01-17 4:36         \n",
       "10 1      InternRepair         John       complete  1970-01-17 8:12         \n",
       "11 1      RepairReady          System     complete  1970-01-17 8:12         \n",
       "12 1      SendTicketToFinAdmin System     complete  1970-01-17 14:03        \n",
       "13 1      ReadyInformClient    System     complete  1970-01-17 15:44        \n",
       "14 1      TicketReady          System     complete  1970-01-17 15:44        \n",
       "   RepairType objectKey RepairInternally EstimatedRepairTime RepairCode\n",
       "1               NA        NA              NA                 NA        \n",
       "2               NA        NA              NA                 NA        \n",
       "3  E          1340        NA              NA                 NA        \n",
       "4               NA        NA              NA                 NA        \n",
       "5               NA        NA              NA                 NA        \n",
       "6               NA        NA              NA                 NA        \n",
       "7               NA        NA              NA                 NA        \n",
       "8               NA      TRUE             240                  1        \n",
       "9               NA        NA              NA                 NA        \n",
       "10              NA        NA              NA                 NA        \n",
       "11              NA        NA              NA                 NA        \n",
       "12              NA        NA              NA                 NA        \n",
       "13              NA        NA              NA                 NA        \n",
       "14              NA        NA              NA                 NA        \n",
       "   RepairOK\n",
       "1    NA    \n",
       "2    NA    \n",
       "3    NA    \n",
       "4    NA    \n",
       "5    NA    \n",
       "6    NA    \n",
       "7    NA    \n",
       "8    NA    \n",
       "9    NA    \n",
       "10   NA    \n",
       "11 TRUE    \n",
       "12   NA    \n",
       "13 TRUE    \n",
       "14   NA    "
      ]
     },
     "metadata": {},
     "output_type": "display_data"
    }
   ],
   "source": [
    "sqldf('SELECT * FROM repair WHERE CaseID = 1')"
   ]
  },
  {
   "cell_type": "code",
   "execution_count": 50,
   "metadata": {},
   "outputs": [
    {
     "data": {
      "text/html": [
       "<table>\n",
       "<thead><tr><th scope=col>caseID</th><th scope=col>taskID</th><th scope=col>originator</th><th scope=col>eventtype</th><th scope=col>timestamp</th><th scope=col>contact</th><th scope=col>RepairType</th><th scope=col>objectKey</th><th scope=col>RepairInternally</th><th scope=col>EstimatedRepairTime</th><th scope=col>RepairCode</th><th scope=col>RepairOK</th></tr></thead>\n",
       "<tbody>\n",
       "\t<tr><td>2                   </td><td>FirstContact        </td><td>Dian                </td><td>complete            </td><td>1970-01-08 5:17     </td><td>Personal            </td><td>                    </td><td>  NA                </td><td>  NA                </td><td> NA                 </td><td>NA                  </td><td>  NA                </td></tr>\n",
       "\t<tr><td>2                   </td><td>MakeTicket          </td><td>Dian                </td><td>start               </td><td>1970-01-08 5:17     </td><td>                    </td><td>                    </td><td>  NA                </td><td>  NA                </td><td> NA                 </td><td>NA                  </td><td>  NA                </td></tr>\n",
       "\t<tr><td>2                   </td><td>MakeTicket          </td><td>Dian                </td><td>complete            </td><td>1970-01-08 5:21     </td><td>                    </td><td>P                   </td><td>8161                </td><td>  NA                </td><td> NA                 </td><td>NA                  </td><td>  NA                </td></tr>\n",
       "\t<tr><td>2                   </td><td>ArrangeSurvey       </td><td>Dian                </td><td>start               </td><td>1970-01-08 5:21     </td><td>                    </td><td>                    </td><td>  NA                </td><td>  NA                </td><td> NA                 </td><td>NA                  </td><td>  NA                </td></tr>\n",
       "\t<tr><td>2                   </td><td>ArrangeSurvey       </td><td>Dian                </td><td>complete            </td><td>1970-01-08 5:25     </td><td>                    </td><td>                    </td><td>  NA                </td><td>  NA                </td><td> NA                 </td><td>NA                  </td><td>  NA                </td></tr>\n",
       "\t<tr><td>2                   </td><td>InformClientSurvey  </td><td>System              </td><td>complete            </td><td>1970-01-08 5:25     </td><td>                    </td><td>                    </td><td>  NA                </td><td>  NA                </td><td> NA                 </td><td>NA                  </td><td>  NA                </td></tr>\n",
       "\t<tr><td>2                   </td><td>Survey              </td><td>Anne                </td><td>start               </td><td>1970-01-12 4:19     </td><td>                    </td><td>                    </td><td>  NA                </td><td>  NA                </td><td> NA                 </td><td>NA                  </td><td>  NA                </td></tr>\n",
       "\t<tr><td>2                   </td><td>Survey              </td><td>Anne                </td><td>complete            </td><td>1970-01-12 4:57     </td><td>                    </td><td>                    </td><td>  NA                </td><td>TRUE                </td><td>120                 </td><td> 1                  </td><td>  NA                </td></tr>\n",
       "\t<tr><td>2                   </td><td>ImmediateRepair     </td><td>Anne                </td><td>start               </td><td>1970-01-12 4:57     </td><td>                    </td><td>                    </td><td>  NA                </td><td>  NA                </td><td> NA                 </td><td>NA                  </td><td>  NA                </td></tr>\n",
       "\t<tr><td>2                   </td><td>ImmediateRepair     </td><td>Anne                </td><td>complete            </td><td>1970-01-12 6:57     </td><td>                    </td><td>                    </td><td>  NA                </td><td>  NA                </td><td> NA                 </td><td>NA                  </td><td>  NA                </td></tr>\n",
       "\t<tr><td>2                   </td><td>ExternRepair        </td><td>DoIt                </td><td>start               </td><td>1970-01-12 6:57     </td><td>                    </td><td>                    </td><td>  NA                </td><td>  NA                </td><td> NA                 </td><td>NA                  </td><td>  NA                </td></tr>\n",
       "\t<tr><td>2                   </td><td>RepairReady         </td><td>System              </td><td>complete            </td><td>1970-01-12 8:57     </td><td>                    </td><td>                    </td><td>  NA                </td><td>  NA                </td><td> NA                 </td><td>NA                  </td><td>TRUE                </td></tr>\n",
       "\t<tr><td>2                   </td><td>ReadyInformClient   </td><td>System              </td><td>complete            </td><td>1970-01-12 11:17    </td><td>                    </td><td>                    </td><td>  NA                </td><td>  NA                </td><td> NA                 </td><td>NA                  </td><td>TRUE                </td></tr>\n",
       "\t<tr><td>2                   </td><td>SendTicketToFinAdmin</td><td>System              </td><td>complete            </td><td>1970-01-12 15:14    </td><td>                    </td><td>                    </td><td>  NA                </td><td>  NA                </td><td> NA                 </td><td>NA                  </td><td>  NA                </td></tr>\n",
       "\t<tr><td>2                   </td><td>TicketReady         </td><td>System              </td><td>complete            </td><td>1970-01-12 15:14    </td><td>                    </td><td>                    </td><td>  NA                </td><td>  NA                </td><td> NA                 </td><td>NA                  </td><td>  NA                </td></tr>\n",
       "</tbody>\n",
       "</table>\n"
      ],
      "text/latex": [
       "\\begin{tabular}{r|llllllllllll}\n",
       " caseID & taskID & originator & eventtype & timestamp & contact & RepairType & objectKey & RepairInternally & EstimatedRepairTime & RepairCode & RepairOK\\\\\n",
       "\\hline\n",
       "\t 2                    & FirstContact         & Dian                 & complete             & 1970-01-08 5:17      & Personal             &                      &   NA                 &   NA                 &  NA                  & NA                   &   NA                \\\\\n",
       "\t 2                    & MakeTicket           & Dian                 & start                & 1970-01-08 5:17      &                      &                      &   NA                 &   NA                 &  NA                  & NA                   &   NA                \\\\\n",
       "\t 2                    & MakeTicket           & Dian                 & complete             & 1970-01-08 5:21      &                      & P                    & 8161                 &   NA                 &  NA                  & NA                   &   NA                \\\\\n",
       "\t 2                    & ArrangeSurvey        & Dian                 & start                & 1970-01-08 5:21      &                      &                      &   NA                 &   NA                 &  NA                  & NA                   &   NA                \\\\\n",
       "\t 2                    & ArrangeSurvey        & Dian                 & complete             & 1970-01-08 5:25      &                      &                      &   NA                 &   NA                 &  NA                  & NA                   &   NA                \\\\\n",
       "\t 2                    & InformClientSurvey   & System               & complete             & 1970-01-08 5:25      &                      &                      &   NA                 &   NA                 &  NA                  & NA                   &   NA                \\\\\n",
       "\t 2                    & Survey               & Anne                 & start                & 1970-01-12 4:19      &                      &                      &   NA                 &   NA                 &  NA                  & NA                   &   NA                \\\\\n",
       "\t 2                    & Survey               & Anne                 & complete             & 1970-01-12 4:57      &                      &                      &   NA                 & TRUE                 & 120                  &  1                   &   NA                \\\\\n",
       "\t 2                    & ImmediateRepair      & Anne                 & start                & 1970-01-12 4:57      &                      &                      &   NA                 &   NA                 &  NA                  & NA                   &   NA                \\\\\n",
       "\t 2                    & ImmediateRepair      & Anne                 & complete             & 1970-01-12 6:57      &                      &                      &   NA                 &   NA                 &  NA                  & NA                   &   NA                \\\\\n",
       "\t 2                    & ExternRepair         & DoIt                 & start                & 1970-01-12 6:57      &                      &                      &   NA                 &   NA                 &  NA                  & NA                   &   NA                \\\\\n",
       "\t 2                    & RepairReady          & System               & complete             & 1970-01-12 8:57      &                      &                      &   NA                 &   NA                 &  NA                  & NA                   & TRUE                \\\\\n",
       "\t 2                    & ReadyInformClient    & System               & complete             & 1970-01-12 11:17     &                      &                      &   NA                 &   NA                 &  NA                  & NA                   & TRUE                \\\\\n",
       "\t 2                    & SendTicketToFinAdmin & System               & complete             & 1970-01-12 15:14     &                      &                      &   NA                 &   NA                 &  NA                  & NA                   &   NA                \\\\\n",
       "\t 2                    & TicketReady          & System               & complete             & 1970-01-12 15:14     &                      &                      &   NA                 &   NA                 &  NA                  & NA                   &   NA                \\\\\n",
       "\\end{tabular}\n"
      ],
      "text/markdown": [
       "\n",
       "caseID | taskID | originator | eventtype | timestamp | contact | RepairType | objectKey | RepairInternally | EstimatedRepairTime | RepairCode | RepairOK | \n",
       "|---|---|---|---|---|---|---|---|---|---|---|---|---|---|---|\n",
       "| 2                    | FirstContact         | Dian                 | complete             | 1970-01-08 5:17      | Personal             |                      |   NA                 |   NA                 |  NA                  | NA                   |   NA                 | \n",
       "| 2                    | MakeTicket           | Dian                 | start                | 1970-01-08 5:17      |                      |                      |   NA                 |   NA                 |  NA                  | NA                   |   NA                 | \n",
       "| 2                    | MakeTicket           | Dian                 | complete             | 1970-01-08 5:21      |                      | P                    | 8161                 |   NA                 |  NA                  | NA                   |   NA                 | \n",
       "| 2                    | ArrangeSurvey        | Dian                 | start                | 1970-01-08 5:21      |                      |                      |   NA                 |   NA                 |  NA                  | NA                   |   NA                 | \n",
       "| 2                    | ArrangeSurvey        | Dian                 | complete             | 1970-01-08 5:25      |                      |                      |   NA                 |   NA                 |  NA                  | NA                   |   NA                 | \n",
       "| 2                    | InformClientSurvey   | System               | complete             | 1970-01-08 5:25      |                      |                      |   NA                 |   NA                 |  NA                  | NA                   |   NA                 | \n",
       "| 2                    | Survey               | Anne                 | start                | 1970-01-12 4:19      |                      |                      |   NA                 |   NA                 |  NA                  | NA                   |   NA                 | \n",
       "| 2                    | Survey               | Anne                 | complete             | 1970-01-12 4:57      |                      |                      |   NA                 | TRUE                 | 120                  |  1                   |   NA                 | \n",
       "| 2                    | ImmediateRepair      | Anne                 | start                | 1970-01-12 4:57      |                      |                      |   NA                 |   NA                 |  NA                  | NA                   |   NA                 | \n",
       "| 2                    | ImmediateRepair      | Anne                 | complete             | 1970-01-12 6:57      |                      |                      |   NA                 |   NA                 |  NA                  | NA                   |   NA                 | \n",
       "| 2                    | ExternRepair         | DoIt                 | start                | 1970-01-12 6:57      |                      |                      |   NA                 |   NA                 |  NA                  | NA                   |   NA                 | \n",
       "| 2                    | RepairReady          | System               | complete             | 1970-01-12 8:57      |                      |                      |   NA                 |   NA                 |  NA                  | NA                   | TRUE                 | \n",
       "| 2                    | ReadyInformClient    | System               | complete             | 1970-01-12 11:17     |                      |                      |   NA                 |   NA                 |  NA                  | NA                   | TRUE                 | \n",
       "| 2                    | SendTicketToFinAdmin | System               | complete             | 1970-01-12 15:14     |                      |                      |   NA                 |   NA                 |  NA                  | NA                   |   NA                 | \n",
       "| 2                    | TicketReady          | System               | complete             | 1970-01-12 15:14     |                      |                      |   NA                 |   NA                 |  NA                  | NA                   |   NA                 | \n",
       "\n",
       "\n"
      ],
      "text/plain": [
       "   caseID taskID               originator eventtype timestamp        contact \n",
       "1  2      FirstContact         Dian       complete  1970-01-08 5:17  Personal\n",
       "2  2      MakeTicket           Dian       start     1970-01-08 5:17          \n",
       "3  2      MakeTicket           Dian       complete  1970-01-08 5:21          \n",
       "4  2      ArrangeSurvey        Dian       start     1970-01-08 5:21          \n",
       "5  2      ArrangeSurvey        Dian       complete  1970-01-08 5:25          \n",
       "6  2      InformClientSurvey   System     complete  1970-01-08 5:25          \n",
       "7  2      Survey               Anne       start     1970-01-12 4:19          \n",
       "8  2      Survey               Anne       complete  1970-01-12 4:57          \n",
       "9  2      ImmediateRepair      Anne       start     1970-01-12 4:57          \n",
       "10 2      ImmediateRepair      Anne       complete  1970-01-12 6:57          \n",
       "11 2      ExternRepair         DoIt       start     1970-01-12 6:57          \n",
       "12 2      RepairReady          System     complete  1970-01-12 8:57          \n",
       "13 2      ReadyInformClient    System     complete  1970-01-12 11:17         \n",
       "14 2      SendTicketToFinAdmin System     complete  1970-01-12 15:14         \n",
       "15 2      TicketReady          System     complete  1970-01-12 15:14         \n",
       "   RepairType objectKey RepairInternally EstimatedRepairTime RepairCode\n",
       "1               NA        NA              NA                 NA        \n",
       "2               NA        NA              NA                 NA        \n",
       "3  P          8161        NA              NA                 NA        \n",
       "4               NA        NA              NA                 NA        \n",
       "5               NA        NA              NA                 NA        \n",
       "6               NA        NA              NA                 NA        \n",
       "7               NA        NA              NA                 NA        \n",
       "8               NA      TRUE             120                  1        \n",
       "9               NA        NA              NA                 NA        \n",
       "10              NA        NA              NA                 NA        \n",
       "11              NA        NA              NA                 NA        \n",
       "12              NA        NA              NA                 NA        \n",
       "13              NA        NA              NA                 NA        \n",
       "14              NA        NA              NA                 NA        \n",
       "15              NA        NA              NA                 NA        \n",
       "   RepairOK\n",
       "1    NA    \n",
       "2    NA    \n",
       "3    NA    \n",
       "4    NA    \n",
       "5    NA    \n",
       "6    NA    \n",
       "7    NA    \n",
       "8    NA    \n",
       "9    NA    \n",
       "10   NA    \n",
       "11   NA    \n",
       "12 TRUE    \n",
       "13 TRUE    \n",
       "14   NA    \n",
       "15   NA    "
      ]
     },
     "metadata": {},
     "output_type": "display_data"
    }
   ],
   "source": [
    "sqldf('SELECT * FROM repair WHERE CaseID = 2')"
   ]
  },
  {
   "cell_type": "code",
   "execution_count": 19,
   "metadata": {},
   "outputs": [
    {
     "data": {
      "text/html": [
       "<table>\n",
       "<thead><tr><th scope=col>caseID</th><th scope=col>taskID</th><th scope=col>originator</th><th scope=col>eventtype</th><th scope=col>timestamp</th><th scope=col>contact</th><th scope=col>RepairType</th><th scope=col>objectKey</th><th scope=col>RepairInternally</th><th scope=col>EstimatedRepairTime</th><th scope=col>RepairCode</th><th scope=col>RepairOK</th></tr></thead>\n",
       "<tbody>\n",
       "\t<tr><td>12                  </td><td>FirstContact        </td><td>Monica              </td><td>complete            </td><td>1970-01-02 18:15    </td><td>Personal            </td><td>                    </td><td>  NA                </td><td>  NA                </td><td> NA                 </td><td>NA                  </td><td>  NA                </td></tr>\n",
       "\t<tr><td>12                  </td><td>MakeTicket          </td><td>Monica              </td><td>start               </td><td>1970-01-02 18:15    </td><td>                    </td><td>                    </td><td>  NA                </td><td>  NA                </td><td> NA                 </td><td>NA                  </td><td>  NA                </td></tr>\n",
       "\t<tr><td>12                  </td><td>MakeTicket          </td><td>Monica              </td><td>complete            </td><td>1970-01-02 18:21    </td><td>                    </td><td>E                   </td><td>7195                </td><td>  NA                </td><td> NA                 </td><td>NA                  </td><td>  NA                </td></tr>\n",
       "\t<tr><td>12                  </td><td>ArrangeSurvey       </td><td>Monica              </td><td>start               </td><td>1970-01-02 18:21    </td><td>                    </td><td>                    </td><td>  NA                </td><td>  NA                </td><td> NA                 </td><td>NA                  </td><td>  NA                </td></tr>\n",
       "\t<tr><td>12                  </td><td>ArrangeSurvey       </td><td>Monica              </td><td>complete            </td><td>1970-01-02 18:24    </td><td>                    </td><td>                    </td><td>  NA                </td><td>  NA                </td><td> NA                 </td><td>NA                  </td><td>  NA                </td></tr>\n",
       "\t<tr><td>12                  </td><td>InformClientSurvey  </td><td>System              </td><td>complete            </td><td>1970-01-02 18:24    </td><td>                    </td><td>                    </td><td>  NA                </td><td>  NA                </td><td> NA                 </td><td>NA                  </td><td>  NA                </td></tr>\n",
       "\t<tr><td>12                  </td><td>Survey              </td><td>Edd                 </td><td>start               </td><td>1970-01-05 20:50    </td><td>                    </td><td>                    </td><td>  NA                </td><td>  NA                </td><td> NA                 </td><td>NA                  </td><td>  NA                </td></tr>\n",
       "\t<tr><td>12                  </td><td>Survey              </td><td>Edd                 </td><td>complete            </td><td>1970-01-05 21:41    </td><td>                    </td><td>                    </td><td>  NA                </td><td>TRUE                </td><td>240                 </td><td> 1                  </td><td>  NA                </td></tr>\n",
       "\t<tr><td>12                  </td><td>InternRepair        </td><td>Paul                </td><td>start               </td><td>1970-01-08 4:49     </td><td>                    </td><td>                    </td><td>  NA                </td><td>  NA                </td><td> NA                 </td><td>NA                  </td><td>  NA                </td></tr>\n",
       "\t<tr><td>12                  </td><td>InternRepair        </td><td>Paul                </td><td>complete            </td><td>1970-01-08 9:13     </td><td>                    </td><td>                    </td><td>  NA                </td><td>  NA                </td><td> NA                 </td><td>NA                  </td><td>  NA                </td></tr>\n",
       "\t<tr><td>12                  </td><td>InternRepair        </td><td>Cindy               </td><td>start               </td><td>1970-01-08 18:10    </td><td>                    </td><td>                    </td><td>  NA                </td><td>  NA                </td><td> NA                 </td><td>NA                  </td><td>  NA                </td></tr>\n",
       "\t<tr><td>12                  </td><td>InternRepair        </td><td>Cindy               </td><td>complete            </td><td>1970-01-08 22:10    </td><td>                    </td><td>                    </td><td>  NA                </td><td>  NA                </td><td> NA                 </td><td>NA                  </td><td>  NA                </td></tr>\n",
       "\t<tr><td>12                  </td><td>RepairReady         </td><td>System              </td><td>complete            </td><td>1970-01-08 22:10    </td><td>                    </td><td>                    </td><td>  NA                </td><td>  NA                </td><td> NA                 </td><td>NA                  </td><td>TRUE                </td></tr>\n",
       "\t<tr><td>12                  </td><td>ReadyInformClient   </td><td>System              </td><td>complete            </td><td>1970-01-09 1:00     </td><td>                    </td><td>                    </td><td>  NA                </td><td>  NA                </td><td> NA                 </td><td>NA                  </td><td>TRUE                </td></tr>\n",
       "\t<tr><td>12                  </td><td>SendTicketToFinAdmin</td><td>System              </td><td>complete            </td><td>1970-01-09 5:16     </td><td>                    </td><td>                    </td><td>  NA                </td><td>  NA                </td><td> NA                 </td><td>NA                  </td><td>  NA                </td></tr>\n",
       "\t<tr><td>12                  </td><td>TicketReady         </td><td>System              </td><td>complete            </td><td>1970-01-09 5:16     </td><td>                    </td><td>                    </td><td>  NA                </td><td>  NA                </td><td> NA                 </td><td>NA                  </td><td>  NA                </td></tr>\n",
       "</tbody>\n",
       "</table>\n"
      ],
      "text/latex": [
       "\\begin{tabular}{r|llllllllllll}\n",
       " caseID & taskID & originator & eventtype & timestamp & contact & RepairType & objectKey & RepairInternally & EstimatedRepairTime & RepairCode & RepairOK\\\\\n",
       "\\hline\n",
       "\t 12                   & FirstContact         & Monica               & complete             & 1970-01-02 18:15     & Personal             &                      &   NA                 &   NA                 &  NA                  & NA                   &   NA                \\\\\n",
       "\t 12                   & MakeTicket           & Monica               & start                & 1970-01-02 18:15     &                      &                      &   NA                 &   NA                 &  NA                  & NA                   &   NA                \\\\\n",
       "\t 12                   & MakeTicket           & Monica               & complete             & 1970-01-02 18:21     &                      & E                    & 7195                 &   NA                 &  NA                  & NA                   &   NA                \\\\\n",
       "\t 12                   & ArrangeSurvey        & Monica               & start                & 1970-01-02 18:21     &                      &                      &   NA                 &   NA                 &  NA                  & NA                   &   NA                \\\\\n",
       "\t 12                   & ArrangeSurvey        & Monica               & complete             & 1970-01-02 18:24     &                      &                      &   NA                 &   NA                 &  NA                  & NA                   &   NA                \\\\\n",
       "\t 12                   & InformClientSurvey   & System               & complete             & 1970-01-02 18:24     &                      &                      &   NA                 &   NA                 &  NA                  & NA                   &   NA                \\\\\n",
       "\t 12                   & Survey               & Edd                  & start                & 1970-01-05 20:50     &                      &                      &   NA                 &   NA                 &  NA                  & NA                   &   NA                \\\\\n",
       "\t 12                   & Survey               & Edd                  & complete             & 1970-01-05 21:41     &                      &                      &   NA                 & TRUE                 & 240                  &  1                   &   NA                \\\\\n",
       "\t 12                   & InternRepair         & Paul                 & start                & 1970-01-08 4:49      &                      &                      &   NA                 &   NA                 &  NA                  & NA                   &   NA                \\\\\n",
       "\t 12                   & InternRepair         & Paul                 & complete             & 1970-01-08 9:13      &                      &                      &   NA                 &   NA                 &  NA                  & NA                   &   NA                \\\\\n",
       "\t 12                   & InternRepair         & Cindy                & start                & 1970-01-08 18:10     &                      &                      &   NA                 &   NA                 &  NA                  & NA                   &   NA                \\\\\n",
       "\t 12                   & InternRepair         & Cindy                & complete             & 1970-01-08 22:10     &                      &                      &   NA                 &   NA                 &  NA                  & NA                   &   NA                \\\\\n",
       "\t 12                   & RepairReady          & System               & complete             & 1970-01-08 22:10     &                      &                      &   NA                 &   NA                 &  NA                  & NA                   & TRUE                \\\\\n",
       "\t 12                   & ReadyInformClient    & System               & complete             & 1970-01-09 1:00      &                      &                      &   NA                 &   NA                 &  NA                  & NA                   & TRUE                \\\\\n",
       "\t 12                   & SendTicketToFinAdmin & System               & complete             & 1970-01-09 5:16      &                      &                      &   NA                 &   NA                 &  NA                  & NA                   &   NA                \\\\\n",
       "\t 12                   & TicketReady          & System               & complete             & 1970-01-09 5:16      &                      &                      &   NA                 &   NA                 &  NA                  & NA                   &   NA                \\\\\n",
       "\\end{tabular}\n"
      ],
      "text/markdown": [
       "\n",
       "caseID | taskID | originator | eventtype | timestamp | contact | RepairType | objectKey | RepairInternally | EstimatedRepairTime | RepairCode | RepairOK | \n",
       "|---|---|---|---|---|---|---|---|---|---|---|---|---|---|---|---|\n",
       "| 12                   | FirstContact         | Monica               | complete             | 1970-01-02 18:15     | Personal             |                      |   NA                 |   NA                 |  NA                  | NA                   |   NA                 | \n",
       "| 12                   | MakeTicket           | Monica               | start                | 1970-01-02 18:15     |                      |                      |   NA                 |   NA                 |  NA                  | NA                   |   NA                 | \n",
       "| 12                   | MakeTicket           | Monica               | complete             | 1970-01-02 18:21     |                      | E                    | 7195                 |   NA                 |  NA                  | NA                   |   NA                 | \n",
       "| 12                   | ArrangeSurvey        | Monica               | start                | 1970-01-02 18:21     |                      |                      |   NA                 |   NA                 |  NA                  | NA                   |   NA                 | \n",
       "| 12                   | ArrangeSurvey        | Monica               | complete             | 1970-01-02 18:24     |                      |                      |   NA                 |   NA                 |  NA                  | NA                   |   NA                 | \n",
       "| 12                   | InformClientSurvey   | System               | complete             | 1970-01-02 18:24     |                      |                      |   NA                 |   NA                 |  NA                  | NA                   |   NA                 | \n",
       "| 12                   | Survey               | Edd                  | start                | 1970-01-05 20:50     |                      |                      |   NA                 |   NA                 |  NA                  | NA                   |   NA                 | \n",
       "| 12                   | Survey               | Edd                  | complete             | 1970-01-05 21:41     |                      |                      |   NA                 | TRUE                 | 240                  |  1                   |   NA                 | \n",
       "| 12                   | InternRepair         | Paul                 | start                | 1970-01-08 4:49      |                      |                      |   NA                 |   NA                 |  NA                  | NA                   |   NA                 | \n",
       "| 12                   | InternRepair         | Paul                 | complete             | 1970-01-08 9:13      |                      |                      |   NA                 |   NA                 |  NA                  | NA                   |   NA                 | \n",
       "| 12                   | InternRepair         | Cindy                | start                | 1970-01-08 18:10     |                      |                      |   NA                 |   NA                 |  NA                  | NA                   |   NA                 | \n",
       "| 12                   | InternRepair         | Cindy                | complete             | 1970-01-08 22:10     |                      |                      |   NA                 |   NA                 |  NA                  | NA                   |   NA                 | \n",
       "| 12                   | RepairReady          | System               | complete             | 1970-01-08 22:10     |                      |                      |   NA                 |   NA                 |  NA                  | NA                   | TRUE                 | \n",
       "| 12                   | ReadyInformClient    | System               | complete             | 1970-01-09 1:00      |                      |                      |   NA                 |   NA                 |  NA                  | NA                   | TRUE                 | \n",
       "| 12                   | SendTicketToFinAdmin | System               | complete             | 1970-01-09 5:16      |                      |                      |   NA                 |   NA                 |  NA                  | NA                   |   NA                 | \n",
       "| 12                   | TicketReady          | System               | complete             | 1970-01-09 5:16      |                      |                      |   NA                 |   NA                 |  NA                  | NA                   |   NA                 | \n",
       "\n",
       "\n"
      ],
      "text/plain": [
       "   caseID taskID               originator eventtype timestamp        contact \n",
       "1  12     FirstContact         Monica     complete  1970-01-02 18:15 Personal\n",
       "2  12     MakeTicket           Monica     start     1970-01-02 18:15         \n",
       "3  12     MakeTicket           Monica     complete  1970-01-02 18:21         \n",
       "4  12     ArrangeSurvey        Monica     start     1970-01-02 18:21         \n",
       "5  12     ArrangeSurvey        Monica     complete  1970-01-02 18:24         \n",
       "6  12     InformClientSurvey   System     complete  1970-01-02 18:24         \n",
       "7  12     Survey               Edd        start     1970-01-05 20:50         \n",
       "8  12     Survey               Edd        complete  1970-01-05 21:41         \n",
       "9  12     InternRepair         Paul       start     1970-01-08 4:49          \n",
       "10 12     InternRepair         Paul       complete  1970-01-08 9:13          \n",
       "11 12     InternRepair         Cindy      start     1970-01-08 18:10         \n",
       "12 12     InternRepair         Cindy      complete  1970-01-08 22:10         \n",
       "13 12     RepairReady          System     complete  1970-01-08 22:10         \n",
       "14 12     ReadyInformClient    System     complete  1970-01-09 1:00          \n",
       "15 12     SendTicketToFinAdmin System     complete  1970-01-09 5:16          \n",
       "16 12     TicketReady          System     complete  1970-01-09 5:16          \n",
       "   RepairType objectKey RepairInternally EstimatedRepairTime RepairCode\n",
       "1               NA        NA              NA                 NA        \n",
       "2               NA        NA              NA                 NA        \n",
       "3  E          7195        NA              NA                 NA        \n",
       "4               NA        NA              NA                 NA        \n",
       "5               NA        NA              NA                 NA        \n",
       "6               NA        NA              NA                 NA        \n",
       "7               NA        NA              NA                 NA        \n",
       "8               NA      TRUE             240                  1        \n",
       "9               NA        NA              NA                 NA        \n",
       "10              NA        NA              NA                 NA        \n",
       "11              NA        NA              NA                 NA        \n",
       "12              NA        NA              NA                 NA        \n",
       "13              NA        NA              NA                 NA        \n",
       "14              NA        NA              NA                 NA        \n",
       "15              NA        NA              NA                 NA        \n",
       "16              NA        NA              NA                 NA        \n",
       "   RepairOK\n",
       "1    NA    \n",
       "2    NA    \n",
       "3    NA    \n",
       "4    NA    \n",
       "5    NA    \n",
       "6    NA    \n",
       "7    NA    \n",
       "8    NA    \n",
       "9    NA    \n",
       "10   NA    \n",
       "11   NA    \n",
       "12   NA    \n",
       "13 TRUE    \n",
       "14 TRUE    \n",
       "15   NA    \n",
       "16   NA    "
      ]
     },
     "metadata": {},
     "output_type": "display_data"
    }
   ],
   "source": [
    "sqldf('SELECT * FROM repair WHERE CaseID = 12')"
   ]
  },
  {
   "cell_type": "code",
   "execution_count": 56,
   "metadata": {
    "scrolled": true
   },
   "outputs": [
    {
     "data": {
      "text/html": [
       "<table>\n",
       "<thead><tr><th scope=col>caseID</th><th scope=col>taskID</th><th scope=col>originator</th><th scope=col>eventtype</th><th scope=col>timestamp</th><th scope=col>contact</th><th scope=col>RepairType</th><th scope=col>objectKey</th><th scope=col>RepairInternally</th><th scope=col>EstimatedRepairTime</th><th scope=col>RepairCode</th><th scope=col>RepairOK</th></tr></thead>\n",
       "<tbody>\n",
       "\t<tr><td>999            </td><td>ExternRepair   </td><td>DoIt           </td><td>start          </td><td>1970-01-07 5:11</td><td>               </td><td>               </td><td>NA             </td><td>NA             </td><td>NA             </td><td>NA             </td><td>NA             </td></tr>\n",
       "</tbody>\n",
       "</table>\n"
      ],
      "text/latex": [
       "\\begin{tabular}{r|llllllllllll}\n",
       " caseID & taskID & originator & eventtype & timestamp & contact & RepairType & objectKey & RepairInternally & EstimatedRepairTime & RepairCode & RepairOK\\\\\n",
       "\\hline\n",
       "\t 999             & ExternRepair    & DoIt            & start           & 1970-01-07 5:11 &                 &                 & NA              & NA              & NA              & NA              & NA             \\\\\n",
       "\\end{tabular}\n"
      ],
      "text/markdown": [
       "\n",
       "caseID | taskID | originator | eventtype | timestamp | contact | RepairType | objectKey | RepairInternally | EstimatedRepairTime | RepairCode | RepairOK | \n",
       "|---|\n",
       "| 999             | ExternRepair    | DoIt            | start           | 1970-01-07 5:11 |                 |                 | NA              | NA              | NA              | NA              | NA              | \n",
       "\n",
       "\n"
      ],
      "text/plain": [
       "  caseID taskID       originator eventtype timestamp       contact RepairType\n",
       "1 999    ExternRepair DoIt       start     1970-01-07 5:11                   \n",
       "  objectKey RepairInternally EstimatedRepairTime RepairCode RepairOK\n",
       "1 NA        NA               NA                  NA         NA      "
      ]
     },
     "metadata": {},
     "output_type": "display_data"
    }
   ],
   "source": [
    "sqldf('SELECT * FROM repair WHERE taskID like \"ExternRepair\" GROUP BY eventtype')"
   ]
  },
  {
   "cell_type": "markdown",
   "metadata": {},
   "source": [
    "- Extern Repair에는 complete가 없는 것 확인"
   ]
  },
  {
   "cell_type": "code",
   "execution_count": 74,
   "metadata": {},
   "outputs": [
    {
     "data": {
      "text/html": [
       "<table>\n",
       "<thead><tr><th scope=col>caseID</th><th scope=col>taskID</th><th scope=col>count(*)</th></tr></thead>\n",
       "<tbody>\n",
       "\t<tr><td> 12         </td><td>InternRepair</td><td>4           </td></tr>\n",
       "\t<tr><td> 39         </td><td>InternRepair</td><td>4           </td></tr>\n",
       "\t<tr><td> 52         </td><td>InternRepair</td><td>4           </td></tr>\n",
       "\t<tr><td> 62         </td><td>InternRepair</td><td>4           </td></tr>\n",
       "\t<tr><td> 73         </td><td>InternRepair</td><td>4           </td></tr>\n",
       "\t<tr><td> 84         </td><td>InternRepair</td><td>4           </td></tr>\n",
       "\t<tr><td>111         </td><td>InternRepair</td><td>4           </td></tr>\n",
       "\t<tr><td>124         </td><td>InternRepair</td><td>4           </td></tr>\n",
       "\t<tr><td>143         </td><td>InternRepair</td><td>4           </td></tr>\n",
       "\t<tr><td>160         </td><td>InternRepair</td><td>4           </td></tr>\n",
       "\t<tr><td>193         </td><td>InternRepair</td><td>4           </td></tr>\n",
       "\t<tr><td>241         </td><td>InternRepair</td><td>4           </td></tr>\n",
       "\t<tr><td>300         </td><td>InternRepair</td><td>4           </td></tr>\n",
       "\t<tr><td>318         </td><td>InternRepair</td><td>4           </td></tr>\n",
       "\t<tr><td>325         </td><td>InternRepair</td><td>4           </td></tr>\n",
       "\t<tr><td>347         </td><td>InternRepair</td><td>4           </td></tr>\n",
       "\t<tr><td>396         </td><td>InternRepair</td><td>4           </td></tr>\n",
       "\t<tr><td>417         </td><td>InternRepair</td><td>4           </td></tr>\n",
       "\t<tr><td>425         </td><td>InternRepair</td><td>4           </td></tr>\n",
       "\t<tr><td>510         </td><td>InternRepair</td><td>4           </td></tr>\n",
       "\t<tr><td>512         </td><td>InternRepair</td><td>4           </td></tr>\n",
       "\t<tr><td>529         </td><td>InternRepair</td><td>4           </td></tr>\n",
       "\t<tr><td>550         </td><td>InternRepair</td><td>4           </td></tr>\n",
       "\t<tr><td>552         </td><td>InternRepair</td><td>4           </td></tr>\n",
       "\t<tr><td>594         </td><td>InternRepair</td><td>4           </td></tr>\n",
       "\t<tr><td>619         </td><td>InternRepair</td><td>4           </td></tr>\n",
       "\t<tr><td>628         </td><td>InternRepair</td><td>4           </td></tr>\n",
       "\t<tr><td>753         </td><td>InternRepair</td><td>4           </td></tr>\n",
       "\t<tr><td>765         </td><td>InternRepair</td><td>4           </td></tr>\n",
       "\t<tr><td>776         </td><td>InternRepair</td><td>4           </td></tr>\n",
       "\t<tr><td>778         </td><td>InternRepair</td><td>4           </td></tr>\n",
       "\t<tr><td>818         </td><td>InternRepair</td><td>4           </td></tr>\n",
       "\t<tr><td>865         </td><td>InternRepair</td><td>6           </td></tr>\n",
       "\t<tr><td>904         </td><td>InternRepair</td><td>4           </td></tr>\n",
       "\t<tr><td>910         </td><td>InternRepair</td><td>4           </td></tr>\n",
       "\t<tr><td>950         </td><td>InternRepair</td><td>4           </td></tr>\n",
       "\t<tr><td>954         </td><td>InternRepair</td><td>4           </td></tr>\n",
       "\t<tr><td>955         </td><td>InternRepair</td><td>4           </td></tr>\n",
       "</tbody>\n",
       "</table>\n"
      ],
      "text/latex": [
       "\\begin{tabular}{r|lll}\n",
       " caseID & taskID & count(*)\\\\\n",
       "\\hline\n",
       "\t  12          & InternRepair & 4           \\\\\n",
       "\t  39          & InternRepair & 4           \\\\\n",
       "\t  52          & InternRepair & 4           \\\\\n",
       "\t  62          & InternRepair & 4           \\\\\n",
       "\t  73          & InternRepair & 4           \\\\\n",
       "\t  84          & InternRepair & 4           \\\\\n",
       "\t 111          & InternRepair & 4           \\\\\n",
       "\t 124          & InternRepair & 4           \\\\\n",
       "\t 143          & InternRepair & 4           \\\\\n",
       "\t 160          & InternRepair & 4           \\\\\n",
       "\t 193          & InternRepair & 4           \\\\\n",
       "\t 241          & InternRepair & 4           \\\\\n",
       "\t 300          & InternRepair & 4           \\\\\n",
       "\t 318          & InternRepair & 4           \\\\\n",
       "\t 325          & InternRepair & 4           \\\\\n",
       "\t 347          & InternRepair & 4           \\\\\n",
       "\t 396          & InternRepair & 4           \\\\\n",
       "\t 417          & InternRepair & 4           \\\\\n",
       "\t 425          & InternRepair & 4           \\\\\n",
       "\t 510          & InternRepair & 4           \\\\\n",
       "\t 512          & InternRepair & 4           \\\\\n",
       "\t 529          & InternRepair & 4           \\\\\n",
       "\t 550          & InternRepair & 4           \\\\\n",
       "\t 552          & InternRepair & 4           \\\\\n",
       "\t 594          & InternRepair & 4           \\\\\n",
       "\t 619          & InternRepair & 4           \\\\\n",
       "\t 628          & InternRepair & 4           \\\\\n",
       "\t 753          & InternRepair & 4           \\\\\n",
       "\t 765          & InternRepair & 4           \\\\\n",
       "\t 776          & InternRepair & 4           \\\\\n",
       "\t 778          & InternRepair & 4           \\\\\n",
       "\t 818          & InternRepair & 4           \\\\\n",
       "\t 865          & InternRepair & 6           \\\\\n",
       "\t 904          & InternRepair & 4           \\\\\n",
       "\t 910          & InternRepair & 4           \\\\\n",
       "\t 950          & InternRepair & 4           \\\\\n",
       "\t 954          & InternRepair & 4           \\\\\n",
       "\t 955          & InternRepair & 4           \\\\\n",
       "\\end{tabular}\n"
      ],
      "text/markdown": [
       "\n",
       "caseID | taskID | count(*) | \n",
       "|---|---|---|---|---|---|---|---|---|---|---|---|---|---|---|---|---|---|---|---|---|---|---|---|---|---|---|---|---|---|---|---|---|---|---|---|---|---|\n",
       "|  12          | InternRepair | 4            | \n",
       "|  39          | InternRepair | 4            | \n",
       "|  52          | InternRepair | 4            | \n",
       "|  62          | InternRepair | 4            | \n",
       "|  73          | InternRepair | 4            | \n",
       "|  84          | InternRepair | 4            | \n",
       "| 111          | InternRepair | 4            | \n",
       "| 124          | InternRepair | 4            | \n",
       "| 143          | InternRepair | 4            | \n",
       "| 160          | InternRepair | 4            | \n",
       "| 193          | InternRepair | 4            | \n",
       "| 241          | InternRepair | 4            | \n",
       "| 300          | InternRepair | 4            | \n",
       "| 318          | InternRepair | 4            | \n",
       "| 325          | InternRepair | 4            | \n",
       "| 347          | InternRepair | 4            | \n",
       "| 396          | InternRepair | 4            | \n",
       "| 417          | InternRepair | 4            | \n",
       "| 425          | InternRepair | 4            | \n",
       "| 510          | InternRepair | 4            | \n",
       "| 512          | InternRepair | 4            | \n",
       "| 529          | InternRepair | 4            | \n",
       "| 550          | InternRepair | 4            | \n",
       "| 552          | InternRepair | 4            | \n",
       "| 594          | InternRepair | 4            | \n",
       "| 619          | InternRepair | 4            | \n",
       "| 628          | InternRepair | 4            | \n",
       "| 753          | InternRepair | 4            | \n",
       "| 765          | InternRepair | 4            | \n",
       "| 776          | InternRepair | 4            | \n",
       "| 778          | InternRepair | 4            | \n",
       "| 818          | InternRepair | 4            | \n",
       "| 865          | InternRepair | 6            | \n",
       "| 904          | InternRepair | 4            | \n",
       "| 910          | InternRepair | 4            | \n",
       "| 950          | InternRepair | 4            | \n",
       "| 954          | InternRepair | 4            | \n",
       "| 955          | InternRepair | 4            | \n",
       "\n",
       "\n"
      ],
      "text/plain": [
       "   caseID taskID       count(*)\n",
       "1   12    InternRepair 4       \n",
       "2   39    InternRepair 4       \n",
       "3   52    InternRepair 4       \n",
       "4   62    InternRepair 4       \n",
       "5   73    InternRepair 4       \n",
       "6   84    InternRepair 4       \n",
       "7  111    InternRepair 4       \n",
       "8  124    InternRepair 4       \n",
       "9  143    InternRepair 4       \n",
       "10 160    InternRepair 4       \n",
       "11 193    InternRepair 4       \n",
       "12 241    InternRepair 4       \n",
       "13 300    InternRepair 4       \n",
       "14 318    InternRepair 4       \n",
       "15 325    InternRepair 4       \n",
       "16 347    InternRepair 4       \n",
       "17 396    InternRepair 4       \n",
       "18 417    InternRepair 4       \n",
       "19 425    InternRepair 4       \n",
       "20 510    InternRepair 4       \n",
       "21 512    InternRepair 4       \n",
       "22 529    InternRepair 4       \n",
       "23 550    InternRepair 4       \n",
       "24 552    InternRepair 4       \n",
       "25 594    InternRepair 4       \n",
       "26 619    InternRepair 4       \n",
       "27 628    InternRepair 4       \n",
       "28 753    InternRepair 4       \n",
       "29 765    InternRepair 4       \n",
       "30 776    InternRepair 4       \n",
       "31 778    InternRepair 4       \n",
       "32 818    InternRepair 4       \n",
       "33 865    InternRepair 6       \n",
       "34 904    InternRepair 4       \n",
       "35 910    InternRepair 4       \n",
       "36 950    InternRepair 4       \n",
       "37 954    InternRepair 4       \n",
       "38 955    InternRepair 4       "
      ]
     },
     "metadata": {},
     "output_type": "display_data"
    }
   ],
   "source": [
    "sqldf('SELECT t.caseID, t.taskID, count(*) FROM repair AS t WHERE taskID like \"InternRepair\" GROUP BY t.caseID, t.taskID HAVING COUNT(*) > 3')"
   ]
  },
  {
   "cell_type": "markdown",
   "metadata": {},
   "source": [
    "* Intern Repair가 여러개 있는 Case 확인"
   ]
  },
  {
   "cell_type": "markdown",
   "metadata": {},
   "source": [
    "## 4. Data Handling\n",
    "### 1. Melt & Cast"
   ]
  },
  {
   "cell_type": "code",
   "execution_count": 29,
   "metadata": {},
   "outputs": [],
   "source": [
    "melrepair <- melt(repair, id = c('taskID'))"
   ]
  },
  {
   "cell_type": "code",
   "execution_count": 30,
   "metadata": {},
   "outputs": [
    {
     "data": {
      "text/html": [
       "<table>\n",
       "<thead><tr><th scope=col>taskID</th><th scope=col>variable</th><th scope=col>value</th></tr></thead>\n",
       "<tbody>\n",
       "\t<tr><td>FirstContact      </td><td>caseID            </td><td>1                 </td></tr>\n",
       "\t<tr><td>MakeTicket        </td><td>caseID            </td><td>1                 </td></tr>\n",
       "\t<tr><td>MakeTicket        </td><td>caseID            </td><td>1                 </td></tr>\n",
       "\t<tr><td>ArrangeSurvey     </td><td>caseID            </td><td>1                 </td></tr>\n",
       "\t<tr><td>ArrangeSurvey     </td><td>caseID            </td><td>1                 </td></tr>\n",
       "\t<tr><td>InformClientSurvey</td><td>caseID            </td><td>1                 </td></tr>\n",
       "</tbody>\n",
       "</table>\n"
      ],
      "text/latex": [
       "\\begin{tabular}{r|lll}\n",
       " taskID & variable & value\\\\\n",
       "\\hline\n",
       "\t FirstContact       & caseID             & 1                 \\\\\n",
       "\t MakeTicket         & caseID             & 1                 \\\\\n",
       "\t MakeTicket         & caseID             & 1                 \\\\\n",
       "\t ArrangeSurvey      & caseID             & 1                 \\\\\n",
       "\t ArrangeSurvey      & caseID             & 1                 \\\\\n",
       "\t InformClientSurvey & caseID             & 1                 \\\\\n",
       "\\end{tabular}\n"
      ],
      "text/markdown": [
       "\n",
       "taskID | variable | value | \n",
       "|---|---|---|---|---|---|\n",
       "| FirstContact       | caseID             | 1                  | \n",
       "| MakeTicket         | caseID             | 1                  | \n",
       "| MakeTicket         | caseID             | 1                  | \n",
       "| ArrangeSurvey      | caseID             | 1                  | \n",
       "| ArrangeSurvey      | caseID             | 1                  | \n",
       "| InformClientSurvey | caseID             | 1                  | \n",
       "\n",
       "\n"
      ],
      "text/plain": [
       "  taskID             variable value\n",
       "1 FirstContact       caseID   1    \n",
       "2 MakeTicket         caseID   1    \n",
       "3 MakeTicket         caseID   1    \n",
       "4 ArrangeSurvey      caseID   1    \n",
       "5 ArrangeSurvey      caseID   1    \n",
       "6 InformClientSurvey caseID   1    "
      ]
     },
     "metadata": {},
     "output_type": "display_data"
    }
   ],
   "source": [
    "head(melrepair)"
   ]
  },
  {
   "cell_type": "code",
   "execution_count": 43,
   "metadata": {},
   "outputs": [
    {
     "name": "stderr",
     "output_type": "stream",
     "text": [
      "Aggregation requires fun.aggregate: length used as default\n"
     ]
    }
   ],
   "source": [
    "castrepair <- cast(melrepair, value ~ taskID)"
   ]
  },
  {
   "cell_type": "code",
   "execution_count": 44,
   "metadata": {},
   "outputs": [
    {
     "data": {
      "text/html": [
       "<table>\n",
       "<thead><tr><th scope=col>value</th><th scope=col>ArrangeSurvey</th><th scope=col>ExternRepair</th><th scope=col>FirstContact</th><th scope=col>ImmediateRepair</th><th scope=col>InformClientSurvey</th><th scope=col>InformClientWrongPlace</th><th scope=col>InternRepair</th><th scope=col>MakeTicket</th><th scope=col>ReadyInformClient</th><th scope=col>RepairReady</th><th scope=col>SendTicketToFinAdmin</th><th scope=col>Survey</th><th scope=col>TicketReady</th></tr></thead>\n",
       "<tbody>\n",
       "\t<tr><td>    </td><td>3708</td><td>264 </td><td>1000</td><td>1532</td><td>1854</td><td>146 </td><td>2188</td><td>2781</td><td>1854</td><td>1854</td><td>1854</td><td>3708</td><td>1854</td></tr>\n",
       "\t<tr><td>1   </td><td>   2</td><td>  0 </td><td>   1</td><td>   0</td><td>   1</td><td>  0 </td><td>   2</td><td>   2</td><td>   1</td><td>   1</td><td>   1</td><td> 552</td><td>   1</td></tr>\n",
       "\t<tr><td>10  </td><td>   2</td><td>  0 </td><td>   1</td><td>   2</td><td>   1</td><td>  0 </td><td>   0</td><td>   2</td><td>   1</td><td>   1</td><td>   1</td><td>   2</td><td>   1</td></tr>\n",
       "\t<tr><td>100 </td><td>   2</td><td>  1 </td><td>   1</td><td>   0</td><td>   1</td><td>  0 </td><td>   0</td><td>   2</td><td>   1</td><td>   1</td><td>   1</td><td>   2</td><td>   1</td></tr>\n",
       "\t<tr><td>1000</td><td>   2</td><td>  0 </td><td>   1</td><td>   0</td><td>   1</td><td>  0 </td><td>   2</td><td>   2</td><td>   1</td><td>   1</td><td>   1</td><td>   2</td><td>   1</td></tr>\n",
       "\t<tr><td>1001</td><td>   0</td><td>  0 </td><td>   0</td><td>   0</td><td>   0</td><td>  0 </td><td>   0</td><td>   1</td><td>   0</td><td>   0</td><td>   0</td><td>   0</td><td>   0</td></tr>\n",
       "</tbody>\n",
       "</table>\n"
      ],
      "text/latex": [
       "\\begin{tabular}{r|llllllllllllll}\n",
       " value & ArrangeSurvey & ExternRepair & FirstContact & ImmediateRepair & InformClientSurvey & InformClientWrongPlace & InternRepair & MakeTicket & ReadyInformClient & RepairReady & SendTicketToFinAdmin & Survey & TicketReady\\\\\n",
       "\\hline\n",
       "\t      & 3708 & 264  & 1000 & 1532 & 1854 & 146  & 2188 & 2781 & 1854 & 1854 & 1854 & 3708 & 1854\\\\\n",
       "\t 1    &    2 &   0  &    1 &    0 &    1 &   0  &    2 &    2 &    1 &    1 &    1 &  552 &    1\\\\\n",
       "\t 10   &    2 &   0  &    1 &    2 &    1 &   0  &    0 &    2 &    1 &    1 &    1 &    2 &    1\\\\\n",
       "\t 100  &    2 &   1  &    1 &    0 &    1 &   0  &    0 &    2 &    1 &    1 &    1 &    2 &    1\\\\\n",
       "\t 1000 &    2 &   0  &    1 &    0 &    1 &   0  &    2 &    2 &    1 &    1 &    1 &    2 &    1\\\\\n",
       "\t 1001 &    0 &   0  &    0 &    0 &    0 &   0  &    0 &    1 &    0 &    0 &    0 &    0 &    0\\\\\n",
       "\\end{tabular}\n"
      ],
      "text/markdown": [
       "\n",
       "value | ArrangeSurvey | ExternRepair | FirstContact | ImmediateRepair | InformClientSurvey | InformClientWrongPlace | InternRepair | MakeTicket | ReadyInformClient | RepairReady | SendTicketToFinAdmin | Survey | TicketReady | \n",
       "|---|---|---|---|---|---|\n",
       "|      | 3708 | 264  | 1000 | 1532 | 1854 | 146  | 2188 | 2781 | 1854 | 1854 | 1854 | 3708 | 1854 | \n",
       "| 1    |    2 |   0  |    1 |    0 |    1 |   0  |    2 |    2 |    1 |    1 |    1 |  552 |    1 | \n",
       "| 10   |    2 |   0  |    1 |    2 |    1 |   0  |    0 |    2 |    1 |    1 |    1 |    2 |    1 | \n",
       "| 100  |    2 |   1  |    1 |    0 |    1 |   0  |    0 |    2 |    1 |    1 |    1 |    2 |    1 | \n",
       "| 1000 |    2 |   0  |    1 |    0 |    1 |   0  |    2 |    2 |    1 |    1 |    1 |    2 |    1 | \n",
       "| 1001 |    0 |   0  |    0 |    0 |    0 |   0  |    0 |    1 |    0 |    0 |    0 |    0 |    0 | \n",
       "\n",
       "\n"
      ],
      "text/plain": [
       "  value ArrangeSurvey ExternRepair FirstContact ImmediateRepair\n",
       "1       3708          264          1000         1532           \n",
       "2 1        2            0             1            0           \n",
       "3 10       2            0             1            2           \n",
       "4 100      2            1             1            0           \n",
       "5 1000     2            0             1            0           \n",
       "6 1001     0            0             0            0           \n",
       "  InformClientSurvey InformClientWrongPlace InternRepair MakeTicket\n",
       "1 1854               146                    2188         2781      \n",
       "2    1                 0                       2            2      \n",
       "3    1                 0                       0            2      \n",
       "4    1                 0                       0            2      \n",
       "5    1                 0                       2            2      \n",
       "6    0                 0                       0            1      \n",
       "  ReadyInformClient RepairReady SendTicketToFinAdmin Survey TicketReady\n",
       "1 1854              1854        1854                 3708   1854       \n",
       "2    1                 1           1                  552      1       \n",
       "3    1                 1           1                    2      1       \n",
       "4    1                 1           1                    2      1       \n",
       "5    1                 1           1                    2      1       \n",
       "6    0                 0           0                    0      0       "
      ]
     },
     "metadata": {},
     "output_type": "display_data"
    }
   ],
   "source": [
    "head(castrepair)"
   ]
  },
  {
   "cell_type": "code",
   "execution_count": 53,
   "metadata": {},
   "outputs": [],
   "source": [
    "meca <- read.csv('C:\\\\Users\\\\jeens\\\\Downloads\\\\test.csv')"
   ]
  },
  {
   "cell_type": "code",
   "execution_count": 59,
   "metadata": {},
   "outputs": [],
   "source": [
    "melrepair <- melt(meca, id = c('taskID'))"
   ]
  },
  {
   "cell_type": "code",
   "execution_count": 60,
   "metadata": {},
   "outputs": [
    {
     "name": "stderr",
     "output_type": "stream",
     "text": [
      "Aggregation requires fun.aggregate: length used as default\n"
     ]
    }
   ],
   "source": [
    "castrepair <- cast(melrepair, value ~ taskID)"
   ]
  },
  {
   "cell_type": "code",
   "execution_count": 61,
   "metadata": {},
   "outputs": [
    {
     "data": {
      "text/html": [
       "<table>\n",
       "<thead><tr><th scope=col>value</th><th scope=col>ArrangeSurvey</th><th scope=col>ExternRepair</th><th scope=col>FirstContact</th><th scope=col>ImmediateRepair</th><th scope=col>InformClientSurvey</th><th scope=col>InformClientWrongPlace</th><th scope=col>InternRepair</th><th scope=col>MakeTicket</th><th scope=col>ReadyInformClient</th><th scope=col>RepairReady</th><th scope=col>SendTicketToFinAdmin</th><th scope=col>Survey</th><th scope=col>TicketReady</th></tr></thead>\n",
       "<tbody>\n",
       "\t<tr><td>1</td><td>2</td><td>0</td><td>1</td><td>0</td><td>1</td><td>0</td><td>2</td><td>2</td><td>1</td><td>1</td><td>1</td><td>2</td><td>1</td></tr>\n",
       "\t<tr><td>2</td><td>2</td><td>1</td><td>1</td><td>2</td><td>1</td><td>0</td><td>0</td><td>2</td><td>1</td><td>1</td><td>1</td><td>2</td><td>1</td></tr>\n",
       "\t<tr><td>3</td><td>2</td><td>0</td><td>1</td><td>0</td><td>1</td><td>0</td><td>2</td><td>2</td><td>1</td><td>1</td><td>1</td><td>2</td><td>1</td></tr>\n",
       "\t<tr><td>4</td><td>2</td><td>0</td><td>1</td><td>2</td><td>1</td><td>0</td><td>0</td><td>2</td><td>1</td><td>1</td><td>1</td><td>2</td><td>1</td></tr>\n",
       "\t<tr><td>5</td><td>2</td><td>0</td><td>1</td><td>2</td><td>1</td><td>0</td><td>0</td><td>2</td><td>1</td><td>1</td><td>1</td><td>2</td><td>1</td></tr>\n",
       "\t<tr><td>6</td><td>0</td><td>0</td><td>1</td><td>0</td><td>0</td><td>1</td><td>0</td><td>0</td><td>0</td><td>0</td><td>0</td><td>0</td><td>0</td></tr>\n",
       "</tbody>\n",
       "</table>\n"
      ],
      "text/latex": [
       "\\begin{tabular}{r|llllllllllllll}\n",
       " value & ArrangeSurvey & ExternRepair & FirstContact & ImmediateRepair & InformClientSurvey & InformClientWrongPlace & InternRepair & MakeTicket & ReadyInformClient & RepairReady & SendTicketToFinAdmin & Survey & TicketReady\\\\\n",
       "\\hline\n",
       "\t 1 & 2 & 0 & 1 & 0 & 1 & 0 & 2 & 2 & 1 & 1 & 1 & 2 & 1\\\\\n",
       "\t 2 & 2 & 1 & 1 & 2 & 1 & 0 & 0 & 2 & 1 & 1 & 1 & 2 & 1\\\\\n",
       "\t 3 & 2 & 0 & 1 & 0 & 1 & 0 & 2 & 2 & 1 & 1 & 1 & 2 & 1\\\\\n",
       "\t 4 & 2 & 0 & 1 & 2 & 1 & 0 & 0 & 2 & 1 & 1 & 1 & 2 & 1\\\\\n",
       "\t 5 & 2 & 0 & 1 & 2 & 1 & 0 & 0 & 2 & 1 & 1 & 1 & 2 & 1\\\\\n",
       "\t 6 & 0 & 0 & 1 & 0 & 0 & 1 & 0 & 0 & 0 & 0 & 0 & 0 & 0\\\\\n",
       "\\end{tabular}\n"
      ],
      "text/markdown": [
       "\n",
       "value | ArrangeSurvey | ExternRepair | FirstContact | ImmediateRepair | InformClientSurvey | InformClientWrongPlace | InternRepair | MakeTicket | ReadyInformClient | RepairReady | SendTicketToFinAdmin | Survey | TicketReady | \n",
       "|---|---|---|---|---|---|\n",
       "| 1 | 2 | 0 | 1 | 0 | 1 | 0 | 2 | 2 | 1 | 1 | 1 | 2 | 1 | \n",
       "| 2 | 2 | 1 | 1 | 2 | 1 | 0 | 0 | 2 | 1 | 1 | 1 | 2 | 1 | \n",
       "| 3 | 2 | 0 | 1 | 0 | 1 | 0 | 2 | 2 | 1 | 1 | 1 | 2 | 1 | \n",
       "| 4 | 2 | 0 | 1 | 2 | 1 | 0 | 0 | 2 | 1 | 1 | 1 | 2 | 1 | \n",
       "| 5 | 2 | 0 | 1 | 2 | 1 | 0 | 0 | 2 | 1 | 1 | 1 | 2 | 1 | \n",
       "| 6 | 0 | 0 | 1 | 0 | 0 | 1 | 0 | 0 | 0 | 0 | 0 | 0 | 0 | \n",
       "\n",
       "\n"
      ],
      "text/plain": [
       "  value ArrangeSurvey ExternRepair FirstContact ImmediateRepair\n",
       "1 1     2             0            1            0              \n",
       "2 2     2             1            1            2              \n",
       "3 3     2             0            1            0              \n",
       "4 4     2             0            1            2              \n",
       "5 5     2             0            1            2              \n",
       "6 6     0             0            1            0              \n",
       "  InformClientSurvey InformClientWrongPlace InternRepair MakeTicket\n",
       "1 1                  0                      2            2         \n",
       "2 1                  0                      0            2         \n",
       "3 1                  0                      2            2         \n",
       "4 1                  0                      0            2         \n",
       "5 1                  0                      0            2         \n",
       "6 0                  1                      0            0         \n",
       "  ReadyInformClient RepairReady SendTicketToFinAdmin Survey TicketReady\n",
       "1 1                 1           1                    2      1          \n",
       "2 1                 1           1                    2      1          \n",
       "3 1                 1           1                    2      1          \n",
       "4 1                 1           1                    2      1          \n",
       "5 1                 1           1                    2      1          \n",
       "6 0                 0           0                    0      0          "
      ]
     },
     "metadata": {},
     "output_type": "display_data"
    }
   ],
   "source": [
    "head(castrepair)"
   ]
  },
  {
   "cell_type": "code",
   "execution_count": 62,
   "metadata": {},
   "outputs": [
    {
     "data": {
      "text/html": [
       "<table>\n",
       "<thead><tr><th></th><th scope=col>value</th><th scope=col>ArrangeSurvey</th><th scope=col>ExternRepair</th><th scope=col>FirstContact</th><th scope=col>ImmediateRepair</th><th scope=col>InformClientSurvey</th><th scope=col>InformClientWrongPlace</th><th scope=col>InternRepair</th><th scope=col>MakeTicket</th><th scope=col>ReadyInformClient</th><th scope=col>RepairReady</th><th scope=col>SendTicketToFinAdmin</th><th scope=col>Survey</th><th scope=col>TicketReady</th></tr></thead>\n",
       "<tbody>\n",
       "\t<tr><th scope=row>996</th><td> 996</td><td>   2</td><td>  0 </td><td>   1</td><td>   0</td><td>   1</td><td>  0 </td><td>   2</td><td>   2</td><td>   1</td><td>   1</td><td>   1</td><td>   2</td><td>   1</td></tr>\n",
       "\t<tr><th scope=row>997</th><td> 997</td><td>   2</td><td>  0 </td><td>   1</td><td>   0</td><td>   1</td><td>  0 </td><td>   2</td><td>   2</td><td>   1</td><td>   1</td><td>   1</td><td>   2</td><td>   1</td></tr>\n",
       "\t<tr><th scope=row>998</th><td> 998</td><td>   2</td><td>  0 </td><td>   1</td><td>   0</td><td>   1</td><td>  0 </td><td>   2</td><td>   2</td><td>   1</td><td>   1</td><td>   1</td><td>   2</td><td>   1</td></tr>\n",
       "\t<tr><th scope=row>999</th><td> 999</td><td>   2</td><td>  1 </td><td>   1</td><td>   0</td><td>   1</td><td>  0 </td><td>   0</td><td>   2</td><td>   1</td><td>   1</td><td>   1</td><td>   2</td><td>   1</td></tr>\n",
       "\t<tr><th scope=row>1000</th><td>1000</td><td>   2</td><td>  0 </td><td>   1</td><td>   0</td><td>   1</td><td>  0 </td><td>   2</td><td>   2</td><td>   1</td><td>   1</td><td>   1</td><td>   2</td><td>   1</td></tr>\n",
       "\t<tr><th scope=row>1001</th><td>  NA</td><td>5562</td><td>396 </td><td>3000</td><td>2298</td><td>2781</td><td>219 </td><td>3282</td><td>5562</td><td>2781</td><td>2781</td><td>2781</td><td>5562</td><td>2781</td></tr>\n",
       "</tbody>\n",
       "</table>\n"
      ],
      "text/latex": [
       "\\begin{tabular}{r|llllllllllllll}\n",
       "  & value & ArrangeSurvey & ExternRepair & FirstContact & ImmediateRepair & InformClientSurvey & InformClientWrongPlace & InternRepair & MakeTicket & ReadyInformClient & RepairReady & SendTicketToFinAdmin & Survey & TicketReady\\\\\n",
       "\\hline\n",
       "\t996 &  996 &    2 &   0  &    1 &    0 &    1 &   0  &    2 &    2 &    1 &    1 &    1 &    2 &    1\\\\\n",
       "\t997 &  997 &    2 &   0  &    1 &    0 &    1 &   0  &    2 &    2 &    1 &    1 &    1 &    2 &    1\\\\\n",
       "\t998 &  998 &    2 &   0  &    1 &    0 &    1 &   0  &    2 &    2 &    1 &    1 &    1 &    2 &    1\\\\\n",
       "\t999 &  999 &    2 &   1  &    1 &    0 &    1 &   0  &    0 &    2 &    1 &    1 &    1 &    2 &    1\\\\\n",
       "\t1000 & 1000 &    2 &   0  &    1 &    0 &    1 &   0  &    2 &    2 &    1 &    1 &    1 &    2 &    1\\\\\n",
       "\t1001 &   NA & 5562 & 396  & 3000 & 2298 & 2781 & 219  & 3282 & 5562 & 2781 & 2781 & 2781 & 5562 & 2781\\\\\n",
       "\\end{tabular}\n"
      ],
      "text/markdown": [
       "\n",
       "| <!--/--> | value | ArrangeSurvey | ExternRepair | FirstContact | ImmediateRepair | InformClientSurvey | InformClientWrongPlace | InternRepair | MakeTicket | ReadyInformClient | RepairReady | SendTicketToFinAdmin | Survey | TicketReady | \n",
       "|---|---|---|---|---|---|\n",
       "| 996 |  996 |    2 |   0  |    1 |    0 |    1 |   0  |    2 |    2 |    1 |    1 |    1 |    2 |    1 | \n",
       "| 997 |  997 |    2 |   0  |    1 |    0 |    1 |   0  |    2 |    2 |    1 |    1 |    1 |    2 |    1 | \n",
       "| 998 |  998 |    2 |   0  |    1 |    0 |    1 |   0  |    2 |    2 |    1 |    1 |    1 |    2 |    1 | \n",
       "| 999 |  999 |    2 |   1  |    1 |    0 |    1 |   0  |    0 |    2 |    1 |    1 |    1 |    2 |    1 | \n",
       "| 1000 | 1000 |    2 |   0  |    1 |    0 |    1 |   0  |    2 |    2 |    1 |    1 |    1 |    2 |    1 | \n",
       "| 1001 |   NA | 5562 | 396  | 3000 | 2298 | 2781 | 219  | 3282 | 5562 | 2781 | 2781 | 2781 | 5562 | 2781 | \n",
       "\n",
       "\n"
      ],
      "text/plain": [
       "     value ArrangeSurvey ExternRepair FirstContact ImmediateRepair\n",
       "996   996     2            0             1            0           \n",
       "997   997     2            0             1            0           \n",
       "998   998     2            0             1            0           \n",
       "999   999     2            1             1            0           \n",
       "1000 1000     2            0             1            0           \n",
       "1001   NA  5562          396          3000         2298           \n",
       "     InformClientSurvey InformClientWrongPlace InternRepair MakeTicket\n",
       "996     1                 0                       2            2      \n",
       "997     1                 0                       2            2      \n",
       "998     1                 0                       2            2      \n",
       "999     1                 0                       0            2      \n",
       "1000    1                 0                       2            2      \n",
       "1001 2781               219                    3282         5562      \n",
       "     ReadyInformClient RepairReady SendTicketToFinAdmin Survey TicketReady\n",
       "996     1                 1           1                    2      1       \n",
       "997     1                 1           1                    2      1       \n",
       "998     1                 1           1                    2      1       \n",
       "999     1                 1           1                    2      1       \n",
       "1000    1                 1           1                    2      1       \n",
       "1001 2781              2781        2781                 5562   2781       "
      ]
     },
     "metadata": {},
     "output_type": "display_data"
    }
   ],
   "source": [
    "tail(castrepair)"
   ]
  },
  {
   "cell_type": "markdown",
   "metadata": {},
   "source": [
    "### 2. Repair Process COUNT "
   ]
  },
  {
   "cell_type": "code",
   "execution_count": 65,
   "metadata": {},
   "outputs": [
    {
     "data": {
      "text/html": [
       "<table>\n",
       "<thead><tr><th scope=col>value</th><th scope=col>InternRepair</th><th scope=col>ImmediateRepair</th></tr></thead>\n",
       "<tbody>\n",
       "\t<tr><td> 35 </td><td>   2</td><td>   2</td></tr>\n",
       "\t<tr><td> 36 </td><td>   2</td><td>   2</td></tr>\n",
       "\t<tr><td> 41 </td><td>   2</td><td>   2</td></tr>\n",
       "\t<tr><td>153 </td><td>   2</td><td>   2</td></tr>\n",
       "\t<tr><td>155 </td><td>   2</td><td>   2</td></tr>\n",
       "\t<tr><td>286 </td><td>   2</td><td>   2</td></tr>\n",
       "\t<tr><td>395 </td><td>   2</td><td>   2</td></tr>\n",
       "\t<tr><td>404 </td><td>   2</td><td>   2</td></tr>\n",
       "\t<tr><td>456 </td><td>   2</td><td>   2</td></tr>\n",
       "\t<tr><td>493 </td><td>   2</td><td>   2</td></tr>\n",
       "\t<tr><td>512 </td><td>   4</td><td>   2</td></tr>\n",
       "\t<tr><td>538 </td><td>   2</td><td>   2</td></tr>\n",
       "\t<tr><td>542 </td><td>   2</td><td>   2</td></tr>\n",
       "\t<tr><td>557 </td><td>   2</td><td>   2</td></tr>\n",
       "\t<tr><td>566 </td><td>   2</td><td>   2</td></tr>\n",
       "\t<tr><td>613 </td><td>   2</td><td>   2</td></tr>\n",
       "\t<tr><td>645 </td><td>   2</td><td>   2</td></tr>\n",
       "\t<tr><td>653 </td><td>   2</td><td>   2</td></tr>\n",
       "\t<tr><td>762 </td><td>   2</td><td>   2</td></tr>\n",
       "\t<tr><td>767 </td><td>   2</td><td>   2</td></tr>\n",
       "\t<tr><td>775 </td><td>   2</td><td>   2</td></tr>\n",
       "\t<tr><td>828 </td><td>   2</td><td>   2</td></tr>\n",
       "\t<tr><td>953 </td><td>   2</td><td>   2</td></tr>\n",
       "\t<tr><td> NA </td><td>3282</td><td>2298</td></tr>\n",
       "</tbody>\n",
       "</table>\n"
      ],
      "text/latex": [
       "\\begin{tabular}{r|lll}\n",
       " value & InternRepair & ImmediateRepair\\\\\n",
       "\\hline\n",
       "\t  35  &    2 &    2\\\\\n",
       "\t  36  &    2 &    2\\\\\n",
       "\t  41  &    2 &    2\\\\\n",
       "\t 153  &    2 &    2\\\\\n",
       "\t 155  &    2 &    2\\\\\n",
       "\t 286  &    2 &    2\\\\\n",
       "\t 395  &    2 &    2\\\\\n",
       "\t 404  &    2 &    2\\\\\n",
       "\t 456  &    2 &    2\\\\\n",
       "\t 493  &    2 &    2\\\\\n",
       "\t 512  &    4 &    2\\\\\n",
       "\t 538  &    2 &    2\\\\\n",
       "\t 542  &    2 &    2\\\\\n",
       "\t 557  &    2 &    2\\\\\n",
       "\t 566  &    2 &    2\\\\\n",
       "\t 613  &    2 &    2\\\\\n",
       "\t 645  &    2 &    2\\\\\n",
       "\t 653  &    2 &    2\\\\\n",
       "\t 762  &    2 &    2\\\\\n",
       "\t 767  &    2 &    2\\\\\n",
       "\t 775  &    2 &    2\\\\\n",
       "\t 828  &    2 &    2\\\\\n",
       "\t 953  &    2 &    2\\\\\n",
       "\t  NA  & 3282 & 2298\\\\\n",
       "\\end{tabular}\n"
      ],
      "text/markdown": [
       "\n",
       "value | InternRepair | ImmediateRepair | \n",
       "|---|---|---|---|---|---|---|---|---|---|---|---|---|---|---|---|---|---|---|---|---|---|---|---|\n",
       "|  35  |    2 |    2 | \n",
       "|  36  |    2 |    2 | \n",
       "|  41  |    2 |    2 | \n",
       "| 153  |    2 |    2 | \n",
       "| 155  |    2 |    2 | \n",
       "| 286  |    2 |    2 | \n",
       "| 395  |    2 |    2 | \n",
       "| 404  |    2 |    2 | \n",
       "| 456  |    2 |    2 | \n",
       "| 493  |    2 |    2 | \n",
       "| 512  |    4 |    2 | \n",
       "| 538  |    2 |    2 | \n",
       "| 542  |    2 |    2 | \n",
       "| 557  |    2 |    2 | \n",
       "| 566  |    2 |    2 | \n",
       "| 613  |    2 |    2 | \n",
       "| 645  |    2 |    2 | \n",
       "| 653  |    2 |    2 | \n",
       "| 762  |    2 |    2 | \n",
       "| 767  |    2 |    2 | \n",
       "| 775  |    2 |    2 | \n",
       "| 828  |    2 |    2 | \n",
       "| 953  |    2 |    2 | \n",
       "|  NA  | 3282 | 2298 | \n",
       "\n",
       "\n"
      ],
      "text/plain": [
       "   value InternRepair ImmediateRepair\n",
       "1   35      2            2           \n",
       "2   36      2            2           \n",
       "3   41      2            2           \n",
       "4  153      2            2           \n",
       "5  155      2            2           \n",
       "6  286      2            2           \n",
       "7  395      2            2           \n",
       "8  404      2            2           \n",
       "9  456      2            2           \n",
       "10 493      2            2           \n",
       "11 512      4            2           \n",
       "12 538      2            2           \n",
       "13 542      2            2           \n",
       "14 557      2            2           \n",
       "15 566      2            2           \n",
       "16 613      2            2           \n",
       "17 645      2            2           \n",
       "18 653      2            2           \n",
       "19 762      2            2           \n",
       "20 767      2            2           \n",
       "21 775      2            2           \n",
       "22 828      2            2           \n",
       "23 953      2            2           \n",
       "24  NA   3282         2298           "
      ]
     },
     "metadata": {},
     "output_type": "display_data"
    }
   ],
   "source": [
    "sqldf('SELECT value, InternRepair, ImmediateRepair FROM castrepair WHERE InternRepair > 0 and ImmediateRepair > 0')"
   ]
  },
  {
   "cell_type": "code",
   "execution_count": 67,
   "metadata": {},
   "outputs": [
    {
     "data": {
      "text/html": [
       "<table>\n",
       "<thead><tr><th scope=col>COUNT(value)</th></tr></thead>\n",
       "<tbody>\n",
       "\t<tr><td>23</td></tr>\n",
       "</tbody>\n",
       "</table>\n"
      ],
      "text/latex": [
       "\\begin{tabular}{r|l}\n",
       " COUNT(value)\\\\\n",
       "\\hline\n",
       "\t 23\\\\\n",
       "\\end{tabular}\n"
      ],
      "text/markdown": [
       "\n",
       "COUNT(value) | \n",
       "|---|\n",
       "| 23 | \n",
       "\n",
       "\n"
      ],
      "text/plain": [
       "  COUNT(value)\n",
       "1 23          "
      ]
     },
     "metadata": {},
     "output_type": "display_data"
    }
   ],
   "source": [
    "sqldf('SELECT COUNT(value) FROM castrepair WHERE InternRepair > 0 and ImmediateRepair > 0')"
   ]
  },
  {
   "cell_type": "code",
   "execution_count": 69,
   "metadata": {},
   "outputs": [
    {
     "data": {
      "text/html": [
       "<table>\n",
       "<thead><tr><th scope=col>value</th><th scope=col>ExternRepair</th><th scope=col>ImmediateRepair</th></tr></thead>\n",
       "<tbody>\n",
       "\t<tr><td>  2 </td><td>  1 </td><td>   2</td></tr>\n",
       "\t<tr><td> 15 </td><td>  1 </td><td>   2</td></tr>\n",
       "\t<tr><td> 41 </td><td>  1 </td><td>   2</td></tr>\n",
       "\t<tr><td> 48 </td><td>  1 </td><td>   2</td></tr>\n",
       "\t<tr><td> 99 </td><td>  1 </td><td>   2</td></tr>\n",
       "\t<tr><td>110 </td><td>  1 </td><td>   2</td></tr>\n",
       "\t<tr><td>125 </td><td>  1 </td><td>   2</td></tr>\n",
       "\t<tr><td>133 </td><td>  1 </td><td>   2</td></tr>\n",
       "\t<tr><td>175 </td><td>  1 </td><td>   2</td></tr>\n",
       "\t<tr><td>180 </td><td>  1 </td><td>   2</td></tr>\n",
       "\t<tr><td>207 </td><td>  1 </td><td>   2</td></tr>\n",
       "\t<tr><td>229 </td><td>  1 </td><td>   2</td></tr>\n",
       "\t<tr><td>298 </td><td>  1 </td><td>   2</td></tr>\n",
       "\t<tr><td>336 </td><td>  1 </td><td>   2</td></tr>\n",
       "\t<tr><td>350 </td><td>  1 </td><td>   2</td></tr>\n",
       "\t<tr><td>388 </td><td>  1 </td><td>   2</td></tr>\n",
       "\t<tr><td>422 </td><td>  1 </td><td>   2</td></tr>\n",
       "\t<tr><td>456 </td><td>  1 </td><td>   2</td></tr>\n",
       "\t<tr><td>466 </td><td>  1 </td><td>   2</td></tr>\n",
       "\t<tr><td>477 </td><td>  1 </td><td>   2</td></tr>\n",
       "\t<tr><td>487 </td><td>  1 </td><td>   2</td></tr>\n",
       "\t<tr><td>501 </td><td>  1 </td><td>   2</td></tr>\n",
       "\t<tr><td>555 </td><td>  1 </td><td>   2</td></tr>\n",
       "\t<tr><td>565 </td><td>  1 </td><td>   2</td></tr>\n",
       "\t<tr><td>601 </td><td>  1 </td><td>   2</td></tr>\n",
       "\t<tr><td>613 </td><td>  1 </td><td>   2</td></tr>\n",
       "\t<tr><td>653 </td><td>  1 </td><td>   2</td></tr>\n",
       "\t<tr><td>661 </td><td>  1 </td><td>   2</td></tr>\n",
       "\t<tr><td>677 </td><td>  1 </td><td>   2</td></tr>\n",
       "\t<tr><td>689 </td><td>  1 </td><td>   2</td></tr>\n",
       "\t<tr><td>719 </td><td>  1 </td><td>   2</td></tr>\n",
       "\t<tr><td>746 </td><td>  1 </td><td>   2</td></tr>\n",
       "\t<tr><td>775 </td><td>  1 </td><td>   2</td></tr>\n",
       "\t<tr><td>792 </td><td>  1 </td><td>   2</td></tr>\n",
       "\t<tr><td>816 </td><td>  1 </td><td>   2</td></tr>\n",
       "\t<tr><td>826 </td><td>  1 </td><td>   2</td></tr>\n",
       "\t<tr><td>867 </td><td>  1 </td><td>   2</td></tr>\n",
       "\t<tr><td>872 </td><td>  1 </td><td>   2</td></tr>\n",
       "\t<tr><td>880 </td><td>  1 </td><td>   2</td></tr>\n",
       "\t<tr><td>912 </td><td>  1 </td><td>   2</td></tr>\n",
       "\t<tr><td>973 </td><td>  1 </td><td>   2</td></tr>\n",
       "\t<tr><td>981 </td><td>  1 </td><td>   2</td></tr>\n",
       "\t<tr><td>989 </td><td>  1 </td><td>   2</td></tr>\n",
       "\t<tr><td> NA </td><td>396 </td><td>2298</td></tr>\n",
       "</tbody>\n",
       "</table>\n"
      ],
      "text/latex": [
       "\\begin{tabular}{r|lll}\n",
       " value & ExternRepair & ImmediateRepair\\\\\n",
       "\\hline\n",
       "\t   2  &   1  &    2\\\\\n",
       "\t  15  &   1  &    2\\\\\n",
       "\t  41  &   1  &    2\\\\\n",
       "\t  48  &   1  &    2\\\\\n",
       "\t  99  &   1  &    2\\\\\n",
       "\t 110  &   1  &    2\\\\\n",
       "\t 125  &   1  &    2\\\\\n",
       "\t 133  &   1  &    2\\\\\n",
       "\t 175  &   1  &    2\\\\\n",
       "\t 180  &   1  &    2\\\\\n",
       "\t 207  &   1  &    2\\\\\n",
       "\t 229  &   1  &    2\\\\\n",
       "\t 298  &   1  &    2\\\\\n",
       "\t 336  &   1  &    2\\\\\n",
       "\t 350  &   1  &    2\\\\\n",
       "\t 388  &   1  &    2\\\\\n",
       "\t 422  &   1  &    2\\\\\n",
       "\t 456  &   1  &    2\\\\\n",
       "\t 466  &   1  &    2\\\\\n",
       "\t 477  &   1  &    2\\\\\n",
       "\t 487  &   1  &    2\\\\\n",
       "\t 501  &   1  &    2\\\\\n",
       "\t 555  &   1  &    2\\\\\n",
       "\t 565  &   1  &    2\\\\\n",
       "\t 601  &   1  &    2\\\\\n",
       "\t 613  &   1  &    2\\\\\n",
       "\t 653  &   1  &    2\\\\\n",
       "\t 661  &   1  &    2\\\\\n",
       "\t 677  &   1  &    2\\\\\n",
       "\t 689  &   1  &    2\\\\\n",
       "\t 719  &   1  &    2\\\\\n",
       "\t 746  &   1  &    2\\\\\n",
       "\t 775  &   1  &    2\\\\\n",
       "\t 792  &   1  &    2\\\\\n",
       "\t 816  &   1  &    2\\\\\n",
       "\t 826  &   1  &    2\\\\\n",
       "\t 867  &   1  &    2\\\\\n",
       "\t 872  &   1  &    2\\\\\n",
       "\t 880  &   1  &    2\\\\\n",
       "\t 912  &   1  &    2\\\\\n",
       "\t 973  &   1  &    2\\\\\n",
       "\t 981  &   1  &    2\\\\\n",
       "\t 989  &   1  &    2\\\\\n",
       "\t  NA  & 396  & 2298\\\\\n",
       "\\end{tabular}\n"
      ],
      "text/markdown": [
       "\n",
       "value | ExternRepair | ImmediateRepair | \n",
       "|---|---|---|---|---|---|---|---|---|---|---|---|---|---|---|---|---|---|---|---|---|---|---|---|---|---|---|---|---|---|---|---|---|---|---|---|---|---|---|---|---|---|---|---|\n",
       "|   2  |   1  |    2 | \n",
       "|  15  |   1  |    2 | \n",
       "|  41  |   1  |    2 | \n",
       "|  48  |   1  |    2 | \n",
       "|  99  |   1  |    2 | \n",
       "| 110  |   1  |    2 | \n",
       "| 125  |   1  |    2 | \n",
       "| 133  |   1  |    2 | \n",
       "| 175  |   1  |    2 | \n",
       "| 180  |   1  |    2 | \n",
       "| 207  |   1  |    2 | \n",
       "| 229  |   1  |    2 | \n",
       "| 298  |   1  |    2 | \n",
       "| 336  |   1  |    2 | \n",
       "| 350  |   1  |    2 | \n",
       "| 388  |   1  |    2 | \n",
       "| 422  |   1  |    2 | \n",
       "| 456  |   1  |    2 | \n",
       "| 466  |   1  |    2 | \n",
       "| 477  |   1  |    2 | \n",
       "| 487  |   1  |    2 | \n",
       "| 501  |   1  |    2 | \n",
       "| 555  |   1  |    2 | \n",
       "| 565  |   1  |    2 | \n",
       "| 601  |   1  |    2 | \n",
       "| 613  |   1  |    2 | \n",
       "| 653  |   1  |    2 | \n",
       "| 661  |   1  |    2 | \n",
       "| 677  |   1  |    2 | \n",
       "| 689  |   1  |    2 | \n",
       "| 719  |   1  |    2 | \n",
       "| 746  |   1  |    2 | \n",
       "| 775  |   1  |    2 | \n",
       "| 792  |   1  |    2 | \n",
       "| 816  |   1  |    2 | \n",
       "| 826  |   1  |    2 | \n",
       "| 867  |   1  |    2 | \n",
       "| 872  |   1  |    2 | \n",
       "| 880  |   1  |    2 | \n",
       "| 912  |   1  |    2 | \n",
       "| 973  |   1  |    2 | \n",
       "| 981  |   1  |    2 | \n",
       "| 989  |   1  |    2 | \n",
       "|  NA  | 396  | 2298 | \n",
       "\n",
       "\n"
      ],
      "text/plain": [
       "   value ExternRepair ImmediateRepair\n",
       "1    2     1             2           \n",
       "2   15     1             2           \n",
       "3   41     1             2           \n",
       "4   48     1             2           \n",
       "5   99     1             2           \n",
       "6  110     1             2           \n",
       "7  125     1             2           \n",
       "8  133     1             2           \n",
       "9  175     1             2           \n",
       "10 180     1             2           \n",
       "11 207     1             2           \n",
       "12 229     1             2           \n",
       "13 298     1             2           \n",
       "14 336     1             2           \n",
       "15 350     1             2           \n",
       "16 388     1             2           \n",
       "17 422     1             2           \n",
       "18 456     1             2           \n",
       "19 466     1             2           \n",
       "20 477     1             2           \n",
       "21 487     1             2           \n",
       "22 501     1             2           \n",
       "23 555     1             2           \n",
       "24 565     1             2           \n",
       "25 601     1             2           \n",
       "26 613     1             2           \n",
       "27 653     1             2           \n",
       "28 661     1             2           \n",
       "29 677     1             2           \n",
       "30 689     1             2           \n",
       "31 719     1             2           \n",
       "32 746     1             2           \n",
       "33 775     1             2           \n",
       "34 792     1             2           \n",
       "35 816     1             2           \n",
       "36 826     1             2           \n",
       "37 867     1             2           \n",
       "38 872     1             2           \n",
       "39 880     1             2           \n",
       "40 912     1             2           \n",
       "41 973     1             2           \n",
       "42 981     1             2           \n",
       "43 989     1             2           \n",
       "44  NA   396          2298           "
      ]
     },
     "metadata": {},
     "output_type": "display_data"
    }
   ],
   "source": [
    "sqldf('SELECT value, ExternRepair, ImmediateRepair FROM castrepair WHERE ExternRepair > 0 and ImmediateRepair > 0')"
   ]
  },
  {
   "cell_type": "code",
   "execution_count": 70,
   "metadata": {},
   "outputs": [
    {
     "data": {
      "text/html": [
       "<table>\n",
       "<thead><tr><th scope=col>COUNT(value)</th></tr></thead>\n",
       "<tbody>\n",
       "\t<tr><td>43</td></tr>\n",
       "</tbody>\n",
       "</table>\n"
      ],
      "text/latex": [
       "\\begin{tabular}{r|l}\n",
       " COUNT(value)\\\\\n",
       "\\hline\n",
       "\t 43\\\\\n",
       "\\end{tabular}\n"
      ],
      "text/markdown": [
       "\n",
       "COUNT(value) | \n",
       "|---|\n",
       "| 43 | \n",
       "\n",
       "\n"
      ],
      "text/plain": [
       "  COUNT(value)\n",
       "1 43          "
      ]
     },
     "metadata": {},
     "output_type": "display_data"
    }
   ],
   "source": [
    "sqldf('SELECT COUNT(value) FROM castrepair WHERE ExternRepair > 0 and ImmediateRepair > 0')"
   ]
  },
  {
   "cell_type": "code",
   "execution_count": 82,
   "metadata": {
    "scrolled": true
   },
   "outputs": [
    {
     "data": {
      "text/html": [
       "<table>\n",
       "<thead><tr><th scope=col>value</th><th scope=col>InternRepair</th><th scope=col>ExternRepair</th><th scope=col>ImmediateRepair</th></tr></thead>\n",
       "<tbody>\n",
       "\t<tr><td> 41 </td><td>   2</td><td>  1 </td><td>   2</td></tr>\n",
       "\t<tr><td>456 </td><td>   2</td><td>  1 </td><td>   2</td></tr>\n",
       "\t<tr><td>613 </td><td>   2</td><td>  1 </td><td>   2</td></tr>\n",
       "\t<tr><td>653 </td><td>   2</td><td>  1 </td><td>   2</td></tr>\n",
       "\t<tr><td>775 </td><td>   2</td><td>  1 </td><td>   2</td></tr>\n",
       "\t<tr><td> NA </td><td>3282</td><td>396 </td><td>2298</td></tr>\n",
       "</tbody>\n",
       "</table>\n"
      ],
      "text/latex": [
       "\\begin{tabular}{r|llll}\n",
       " value & InternRepair & ExternRepair & ImmediateRepair\\\\\n",
       "\\hline\n",
       "\t  41  &    2 &   1  &    2\\\\\n",
       "\t 456  &    2 &   1  &    2\\\\\n",
       "\t 613  &    2 &   1  &    2\\\\\n",
       "\t 653  &    2 &   1  &    2\\\\\n",
       "\t 775  &    2 &   1  &    2\\\\\n",
       "\t  NA  & 3282 & 396  & 2298\\\\\n",
       "\\end{tabular}\n"
      ],
      "text/markdown": [
       "\n",
       "value | InternRepair | ExternRepair | ImmediateRepair | \n",
       "|---|---|---|---|---|---|\n",
       "|  41  |    2 |   1  |    2 | \n",
       "| 456  |    2 |   1  |    2 | \n",
       "| 613  |    2 |   1  |    2 | \n",
       "| 653  |    2 |   1  |    2 | \n",
       "| 775  |    2 |   1  |    2 | \n",
       "|  NA  | 3282 | 396  | 2298 | \n",
       "\n",
       "\n"
      ],
      "text/plain": [
       "  value InternRepair ExternRepair ImmediateRepair\n",
       "1  41      2           1             2           \n",
       "2 456      2           1             2           \n",
       "3 613      2           1             2           \n",
       "4 653      2           1             2           \n",
       "5 775      2           1             2           \n",
       "6  NA   3282         396          2298           "
      ]
     },
     "metadata": {},
     "output_type": "display_data"
    }
   ],
   "source": [
    "sqldf('SELECT value, InternRepair, ExternRepair, ImmediateRepair FROM castrepair WHERE InternRepair > 0 and ExternRepair > 0 and ImmediateRepair > 0')"
   ]
  },
  {
   "cell_type": "markdown",
   "metadata": {},
   "source": [
    "### 3. Melt & Cast"
   ]
  },
  {
   "cell_type": "code",
   "execution_count": 11,
   "metadata": {},
   "outputs": [],
   "source": [
    "orgtsk <- read.csv('C:\\\\Users\\\\jeens\\\\Downloads\\\\test2.csv')"
   ]
  },
  {
   "cell_type": "code",
   "execution_count": 12,
   "metadata": {
    "scrolled": true
   },
   "outputs": [
    {
     "data": {
      "text/html": [
       "<table>\n",
       "<thead><tr><th scope=col>taskID</th><th scope=col>originator</th><th scope=col>X</th><th scope=col>X.1</th><th scope=col>X.2</th></tr></thead>\n",
       "<tbody>\n",
       "\t<tr><td>FirstContact      </td><td>Dian              </td><td>NA                </td><td>NA                </td><td>NA                </td></tr>\n",
       "\t<tr><td>MakeTicket        </td><td>Dian              </td><td>NA                </td><td>NA                </td><td>NA                </td></tr>\n",
       "\t<tr><td>MakeTicket        </td><td>Dian              </td><td>NA                </td><td>NA                </td><td>NA                </td></tr>\n",
       "\t<tr><td>ArrangeSurvey     </td><td>Dian              </td><td>NA                </td><td>NA                </td><td>NA                </td></tr>\n",
       "\t<tr><td>ArrangeSurvey     </td><td>Dian              </td><td>NA                </td><td>NA                </td><td>NA                </td></tr>\n",
       "\t<tr><td>InformClientSurvey</td><td>System            </td><td>NA                </td><td>NA                </td><td>NA                </td></tr>\n",
       "</tbody>\n",
       "</table>\n"
      ],
      "text/latex": [
       "\\begin{tabular}{r|lllll}\n",
       " taskID & originator & X & X.1 & X.2\\\\\n",
       "\\hline\n",
       "\t FirstContact       & Dian               & NA                 & NA                 & NA                \\\\\n",
       "\t MakeTicket         & Dian               & NA                 & NA                 & NA                \\\\\n",
       "\t MakeTicket         & Dian               & NA                 & NA                 & NA                \\\\\n",
       "\t ArrangeSurvey      & Dian               & NA                 & NA                 & NA                \\\\\n",
       "\t ArrangeSurvey      & Dian               & NA                 & NA                 & NA                \\\\\n",
       "\t InformClientSurvey & System             & NA                 & NA                 & NA                \\\\\n",
       "\\end{tabular}\n"
      ],
      "text/markdown": [
       "\n",
       "taskID | originator | X | X.1 | X.2 | \n",
       "|---|---|---|---|---|---|\n",
       "| FirstContact       | Dian               | NA                 | NA                 | NA                 | \n",
       "| MakeTicket         | Dian               | NA                 | NA                 | NA                 | \n",
       "| MakeTicket         | Dian               | NA                 | NA                 | NA                 | \n",
       "| ArrangeSurvey      | Dian               | NA                 | NA                 | NA                 | \n",
       "| ArrangeSurvey      | Dian               | NA                 | NA                 | NA                 | \n",
       "| InformClientSurvey | System             | NA                 | NA                 | NA                 | \n",
       "\n",
       "\n"
      ],
      "text/plain": [
       "  taskID             originator X  X.1 X.2\n",
       "1 FirstContact       Dian       NA NA  NA \n",
       "2 MakeTicket         Dian       NA NA  NA \n",
       "3 MakeTicket         Dian       NA NA  NA \n",
       "4 ArrangeSurvey      Dian       NA NA  NA \n",
       "5 ArrangeSurvey      Dian       NA NA  NA \n",
       "6 InformClientSurvey System     NA NA  NA "
      ]
     },
     "metadata": {},
     "output_type": "display_data"
    }
   ],
   "source": [
    "head(orgtsk)"
   ]
  },
  {
   "cell_type": "code",
   "execution_count": 15,
   "metadata": {},
   "outputs": [],
   "source": [
    "ortk <- orgtsk[0:2]"
   ]
  },
  {
   "cell_type": "code",
   "execution_count": 16,
   "metadata": {},
   "outputs": [
    {
     "data": {
      "text/html": [
       "<table>\n",
       "<thead><tr><th scope=col>taskID</th><th scope=col>originator</th></tr></thead>\n",
       "<tbody>\n",
       "\t<tr><td>FirstContact      </td><td>Dian              </td></tr>\n",
       "\t<tr><td>MakeTicket        </td><td>Dian              </td></tr>\n",
       "\t<tr><td>MakeTicket        </td><td>Dian              </td></tr>\n",
       "\t<tr><td>ArrangeSurvey     </td><td>Dian              </td></tr>\n",
       "\t<tr><td>ArrangeSurvey     </td><td>Dian              </td></tr>\n",
       "\t<tr><td>InformClientSurvey</td><td>System            </td></tr>\n",
       "</tbody>\n",
       "</table>\n"
      ],
      "text/latex": [
       "\\begin{tabular}{r|ll}\n",
       " taskID & originator\\\\\n",
       "\\hline\n",
       "\t FirstContact       & Dian              \\\\\n",
       "\t MakeTicket         & Dian              \\\\\n",
       "\t MakeTicket         & Dian              \\\\\n",
       "\t ArrangeSurvey      & Dian              \\\\\n",
       "\t ArrangeSurvey      & Dian              \\\\\n",
       "\t InformClientSurvey & System            \\\\\n",
       "\\end{tabular}\n"
      ],
      "text/markdown": [
       "\n",
       "taskID | originator | \n",
       "|---|---|---|---|---|---|\n",
       "| FirstContact       | Dian               | \n",
       "| MakeTicket         | Dian               | \n",
       "| MakeTicket         | Dian               | \n",
       "| ArrangeSurvey      | Dian               | \n",
       "| ArrangeSurvey      | Dian               | \n",
       "| InformClientSurvey | System             | \n",
       "\n",
       "\n"
      ],
      "text/plain": [
       "  taskID             originator\n",
       "1 FirstContact       Dian      \n",
       "2 MakeTicket         Dian      \n",
       "3 MakeTicket         Dian      \n",
       "4 ArrangeSurvey      Dian      \n",
       "5 ArrangeSurvey      Dian      \n",
       "6 InformClientSurvey System    "
      ]
     },
     "metadata": {},
     "output_type": "display_data"
    }
   ],
   "source": [
    "head(ortk)"
   ]
  },
  {
   "cell_type": "code",
   "execution_count": 18,
   "metadata": {},
   "outputs": [],
   "source": [
    "meltortk <- melt(ortk, id = 'originator')"
   ]
  },
  {
   "cell_type": "code",
   "execution_count": 19,
   "metadata": {},
   "outputs": [
    {
     "data": {
      "text/html": [
       "<table>\n",
       "<thead><tr><th scope=col>originator</th><th scope=col>variable</th><th scope=col>value</th></tr></thead>\n",
       "<tbody>\n",
       "\t<tr><td>Dian              </td><td>taskID            </td><td>FirstContact      </td></tr>\n",
       "\t<tr><td>Dian              </td><td>taskID            </td><td>MakeTicket        </td></tr>\n",
       "\t<tr><td>Dian              </td><td>taskID            </td><td>MakeTicket        </td></tr>\n",
       "\t<tr><td>Dian              </td><td>taskID            </td><td>ArrangeSurvey     </td></tr>\n",
       "\t<tr><td>Dian              </td><td>taskID            </td><td>ArrangeSurvey     </td></tr>\n",
       "\t<tr><td>System            </td><td>taskID            </td><td>InformClientSurvey</td></tr>\n",
       "</tbody>\n",
       "</table>\n"
      ],
      "text/latex": [
       "\\begin{tabular}{r|lll}\n",
       " originator & variable & value\\\\\n",
       "\\hline\n",
       "\t Dian               & taskID             & FirstContact      \\\\\n",
       "\t Dian               & taskID             & MakeTicket        \\\\\n",
       "\t Dian               & taskID             & MakeTicket        \\\\\n",
       "\t Dian               & taskID             & ArrangeSurvey     \\\\\n",
       "\t Dian               & taskID             & ArrangeSurvey     \\\\\n",
       "\t System             & taskID             & InformClientSurvey\\\\\n",
       "\\end{tabular}\n"
      ],
      "text/markdown": [
       "\n",
       "originator | variable | value | \n",
       "|---|---|---|---|---|---|\n",
       "| Dian               | taskID             | FirstContact       | \n",
       "| Dian               | taskID             | MakeTicket         | \n",
       "| Dian               | taskID             | MakeTicket         | \n",
       "| Dian               | taskID             | ArrangeSurvey      | \n",
       "| Dian               | taskID             | ArrangeSurvey      | \n",
       "| System             | taskID             | InformClientSurvey | \n",
       "\n",
       "\n"
      ],
      "text/plain": [
       "  originator variable value             \n",
       "1 Dian       taskID   FirstContact      \n",
       "2 Dian       taskID   MakeTicket        \n",
       "3 Dian       taskID   MakeTicket        \n",
       "4 Dian       taskID   ArrangeSurvey     \n",
       "5 Dian       taskID   ArrangeSurvey     \n",
       "6 System     taskID   InformClientSurvey"
      ]
     },
     "metadata": {},
     "output_type": "display_data"
    }
   ],
   "source": [
    "head(meltortk)"
   ]
  },
  {
   "cell_type": "code",
   "execution_count": 23,
   "metadata": {},
   "outputs": [
    {
     "name": "stderr",
     "output_type": "stream",
     "text": [
      "Aggregation requires fun.aggregate: length used as default\n"
     ]
    }
   ],
   "source": [
    "castortk <- cast(meltortk, originator~ value)"
   ]
  },
  {
   "cell_type": "code",
   "execution_count": 25,
   "metadata": {},
   "outputs": [
    {
     "data": {
      "text/html": [
       "<table>\n",
       "<thead><tr><th scope=col>originator</th><th scope=col>ArrangeSurvey</th><th scope=col>ExternRepair</th><th scope=col>FirstContact</th><th scope=col>ImmediateRepair</th><th scope=col>InformClientSurvey</th><th scope=col>InformClientWrongPlace</th><th scope=col>InternRepair</th><th scope=col>MakeTicket</th><th scope=col>ReadyInformClient</th><th scope=col>RepairReady</th><th scope=col>SendTicketToFinAdmin</th><th scope=col>Survey</th><th scope=col>TicketReady</th></tr></thead>\n",
       "<tbody>\n",
       "\t<tr><td>Anne   </td><td>  0    </td><td> 0     </td><td>  0    </td><td>370    </td><td>  0    </td><td> 0     </td><td> 60    </td><td>  0    </td><td>  0    </td><td>  0    </td><td>  0    </td><td>436    </td><td>  0    </td></tr>\n",
       "\t<tr><td>Barbara</td><td>  0    </td><td> 0     </td><td>  0    </td><td>176    </td><td>  0    </td><td> 0     </td><td> 30    </td><td>  0    </td><td>  0    </td><td>  0    </td><td>  0    </td><td>222    </td><td>  0    </td></tr>\n",
       "\t<tr><td>Ben    </td><td>  0    </td><td> 0     </td><td>  0    </td><td>  8    </td><td>  0    </td><td> 0     </td><td> 42    </td><td>  0    </td><td>  0    </td><td>  0    </td><td>  0    </td><td> 70    </td><td>  0    </td></tr>\n",
       "\t<tr><td>Cindy  </td><td>  0    </td><td> 0     </td><td>  0    </td><td>  0    </td><td>  0    </td><td> 0     </td><td>200    </td><td>  0    </td><td>  0    </td><td>  0    </td><td>  0    </td><td>188    </td><td>  0    </td></tr>\n",
       "\t<tr><td>Dian   </td><td>877    </td><td> 0     </td><td>466    </td><td>  0    </td><td>  0    </td><td>29     </td><td>  0    </td><td>874    </td><td>  0    </td><td>  0    </td><td>  0    </td><td>  0    </td><td>  0    </td></tr>\n",
       "\t<tr><td>DoIt   </td><td>  0    </td><td>66     </td><td>  0    </td><td>  0    </td><td>  0    </td><td> 0     </td><td>  0    </td><td>  0    </td><td>  0    </td><td>  0    </td><td>  0    </td><td>  0    </td><td>  0    </td></tr>\n",
       "\t<tr><td>Edd    </td><td>  0    </td><td> 0     </td><td>  0    </td><td>  0    </td><td>  0    </td><td> 0     </td><td>210    </td><td>  0    </td><td>  0    </td><td>  0    </td><td>  0    </td><td>162    </td><td>  0    </td></tr>\n",
       "\t<tr><td>Eric   </td><td>  0    </td><td> 0     </td><td>  0    </td><td>  8    </td><td>  0    </td><td> 0     </td><td> 44    </td><td>  0    </td><td>  0    </td><td>  0    </td><td>  0    </td><td> 46    </td><td>  0    </td></tr>\n",
       "\t<tr><td>FixIt  </td><td>  0    </td><td>66     </td><td>  0    </td><td>  0    </td><td>  0    </td><td> 0     </td><td>  0    </td><td>  0    </td><td>  0    </td><td>  0    </td><td>  0    </td><td>  0    </td><td>  0    </td></tr>\n",
       "\t<tr><td>Jacky  </td><td>  0    </td><td> 0     </td><td>  0    </td><td>184    </td><td>  0    </td><td> 0     </td><td> 34    </td><td>  0    </td><td>  0    </td><td>  0    </td><td>  0    </td><td>220    </td><td>  0    </td></tr>\n",
       "\t<tr><td>John   </td><td>  0    </td><td> 0     </td><td>  0    </td><td>  0    </td><td>  0    </td><td> 0     </td><td>194    </td><td>  0    </td><td>  0    </td><td>  0    </td><td>  0    </td><td>202    </td><td>  0    </td></tr>\n",
       "\t<tr><td>Lex    </td><td>  0    </td><td> 0     </td><td>  0    </td><td> 14    </td><td>  0    </td><td> 0     </td><td> 44    </td><td>  0    </td><td>  0    </td><td>  0    </td><td>  0    </td><td> 54    </td><td>  0    </td></tr>\n",
       "\t<tr><td>Monica </td><td>977    </td><td> 0     </td><td>534    </td><td>  0    </td><td>  0    </td><td>44     </td><td>  0    </td><td>980    </td><td>  0    </td><td>  0    </td><td>  0    </td><td>  0    </td><td>  0    </td></tr>\n",
       "\t<tr><td>Nick   </td><td>  0    </td><td> 0     </td><td>  0    </td><td>  6    </td><td>  0    </td><td> 0     </td><td> 36    </td><td>  0    </td><td>  0    </td><td>  0    </td><td>  0    </td><td> 66    </td><td>  0    </td></tr>\n",
       "\t<tr><td>Paul   </td><td>  0    </td><td> 0     </td><td>  0    </td><td>  0    </td><td>  0    </td><td> 0     </td><td>200    </td><td>  0    </td><td>  0    </td><td>  0    </td><td>  0    </td><td>188    </td><td>  0    </td></tr>\n",
       "\t<tr><td>System </td><td>  0    </td><td> 0     </td><td>  0    </td><td>  0    </td><td>927    </td><td> 0     </td><td>  0    </td><td>  0    </td><td>927    </td><td>927    </td><td>927    </td><td>  0    </td><td>927    </td></tr>\n",
       "</tbody>\n",
       "</table>\n"
      ],
      "text/latex": [
       "\\begin{tabular}{r|llllllllllllll}\n",
       " originator & ArrangeSurvey & ExternRepair & FirstContact & ImmediateRepair & InformClientSurvey & InformClientWrongPlace & InternRepair & MakeTicket & ReadyInformClient & RepairReady & SendTicketToFinAdmin & Survey & TicketReady\\\\\n",
       "\\hline\n",
       "\t Anne    &   0     &  0      &   0     & 370     &   0     &  0      &  60     &   0     &   0     &   0     &   0     & 436     &   0    \\\\\n",
       "\t Barbara &   0     &  0      &   0     & 176     &   0     &  0      &  30     &   0     &   0     &   0     &   0     & 222     &   0    \\\\\n",
       "\t Ben     &   0     &  0      &   0     &   8     &   0     &  0      &  42     &   0     &   0     &   0     &   0     &  70     &   0    \\\\\n",
       "\t Cindy   &   0     &  0      &   0     &   0     &   0     &  0      & 200     &   0     &   0     &   0     &   0     & 188     &   0    \\\\\n",
       "\t Dian    & 877     &  0      & 466     &   0     &   0     & 29      &   0     & 874     &   0     &   0     &   0     &   0     &   0    \\\\\n",
       "\t DoIt    &   0     & 66      &   0     &   0     &   0     &  0      &   0     &   0     &   0     &   0     &   0     &   0     &   0    \\\\\n",
       "\t Edd     &   0     &  0      &   0     &   0     &   0     &  0      & 210     &   0     &   0     &   0     &   0     & 162     &   0    \\\\\n",
       "\t Eric    &   0     &  0      &   0     &   8     &   0     &  0      &  44     &   0     &   0     &   0     &   0     &  46     &   0    \\\\\n",
       "\t FixIt   &   0     & 66      &   0     &   0     &   0     &  0      &   0     &   0     &   0     &   0     &   0     &   0     &   0    \\\\\n",
       "\t Jacky   &   0     &  0      &   0     & 184     &   0     &  0      &  34     &   0     &   0     &   0     &   0     & 220     &   0    \\\\\n",
       "\t John    &   0     &  0      &   0     &   0     &   0     &  0      & 194     &   0     &   0     &   0     &   0     & 202     &   0    \\\\\n",
       "\t Lex     &   0     &  0      &   0     &  14     &   0     &  0      &  44     &   0     &   0     &   0     &   0     &  54     &   0    \\\\\n",
       "\t Monica  & 977     &  0      & 534     &   0     &   0     & 44      &   0     & 980     &   0     &   0     &   0     &   0     &   0    \\\\\n",
       "\t Nick    &   0     &  0      &   0     &   6     &   0     &  0      &  36     &   0     &   0     &   0     &   0     &  66     &   0    \\\\\n",
       "\t Paul    &   0     &  0      &   0     &   0     &   0     &  0      & 200     &   0     &   0     &   0     &   0     & 188     &   0    \\\\\n",
       "\t System  &   0     &  0      &   0     &   0     & 927     &  0      &   0     &   0     & 927     & 927     & 927     &   0     & 927    \\\\\n",
       "\\end{tabular}\n"
      ],
      "text/markdown": [
       "\n",
       "originator | ArrangeSurvey | ExternRepair | FirstContact | ImmediateRepair | InformClientSurvey | InformClientWrongPlace | InternRepair | MakeTicket | ReadyInformClient | RepairReady | SendTicketToFinAdmin | Survey | TicketReady | \n",
       "|---|---|---|---|---|---|---|---|---|---|---|---|---|---|---|---|\n",
       "| Anne    |   0     |  0      |   0     | 370     |   0     |  0      |  60     |   0     |   0     |   0     |   0     | 436     |   0     | \n",
       "| Barbara |   0     |  0      |   0     | 176     |   0     |  0      |  30     |   0     |   0     |   0     |   0     | 222     |   0     | \n",
       "| Ben     |   0     |  0      |   0     |   8     |   0     |  0      |  42     |   0     |   0     |   0     |   0     |  70     |   0     | \n",
       "| Cindy   |   0     |  0      |   0     |   0     |   0     |  0      | 200     |   0     |   0     |   0     |   0     | 188     |   0     | \n",
       "| Dian    | 877     |  0      | 466     |   0     |   0     | 29      |   0     | 874     |   0     |   0     |   0     |   0     |   0     | \n",
       "| DoIt    |   0     | 66      |   0     |   0     |   0     |  0      |   0     |   0     |   0     |   0     |   0     |   0     |   0     | \n",
       "| Edd     |   0     |  0      |   0     |   0     |   0     |  0      | 210     |   0     |   0     |   0     |   0     | 162     |   0     | \n",
       "| Eric    |   0     |  0      |   0     |   8     |   0     |  0      |  44     |   0     |   0     |   0     |   0     |  46     |   0     | \n",
       "| FixIt   |   0     | 66      |   0     |   0     |   0     |  0      |   0     |   0     |   0     |   0     |   0     |   0     |   0     | \n",
       "| Jacky   |   0     |  0      |   0     | 184     |   0     |  0      |  34     |   0     |   0     |   0     |   0     | 220     |   0     | \n",
       "| John    |   0     |  0      |   0     |   0     |   0     |  0      | 194     |   0     |   0     |   0     |   0     | 202     |   0     | \n",
       "| Lex     |   0     |  0      |   0     |  14     |   0     |  0      |  44     |   0     |   0     |   0     |   0     |  54     |   0     | \n",
       "| Monica  | 977     |  0      | 534     |   0     |   0     | 44      |   0     | 980     |   0     |   0     |   0     |   0     |   0     | \n",
       "| Nick    |   0     |  0      |   0     |   6     |   0     |  0      |  36     |   0     |   0     |   0     |   0     |  66     |   0     | \n",
       "| Paul    |   0     |  0      |   0     |   0     |   0     |  0      | 200     |   0     |   0     |   0     |   0     | 188     |   0     | \n",
       "| System  |   0     |  0      |   0     |   0     | 927     |  0      |   0     |   0     | 927     | 927     | 927     |   0     | 927     | \n",
       "\n",
       "\n"
      ],
      "text/plain": [
       "   originator ArrangeSurvey ExternRepair FirstContact ImmediateRepair\n",
       "1  Anne         0            0             0          370            \n",
       "2  Barbara      0            0             0          176            \n",
       "3  Ben          0            0             0            8            \n",
       "4  Cindy        0            0             0            0            \n",
       "5  Dian       877            0           466            0            \n",
       "6  DoIt         0           66             0            0            \n",
       "7  Edd          0            0             0            0            \n",
       "8  Eric         0            0             0            8            \n",
       "9  FixIt        0           66             0            0            \n",
       "10 Jacky        0            0             0          184            \n",
       "11 John         0            0             0            0            \n",
       "12 Lex          0            0             0           14            \n",
       "13 Monica     977            0           534            0            \n",
       "14 Nick         0            0             0            6            \n",
       "15 Paul         0            0             0            0            \n",
       "16 System       0            0             0            0            \n",
       "   InformClientSurvey InformClientWrongPlace InternRepair MakeTicket\n",
       "1    0                 0                      60            0       \n",
       "2    0                 0                      30            0       \n",
       "3    0                 0                      42            0       \n",
       "4    0                 0                     200            0       \n",
       "5    0                29                       0          874       \n",
       "6    0                 0                       0            0       \n",
       "7    0                 0                     210            0       \n",
       "8    0                 0                      44            0       \n",
       "9    0                 0                       0            0       \n",
       "10   0                 0                      34            0       \n",
       "11   0                 0                     194            0       \n",
       "12   0                 0                      44            0       \n",
       "13   0                44                       0          980       \n",
       "14   0                 0                      36            0       \n",
       "15   0                 0                     200            0       \n",
       "16 927                 0                       0            0       \n",
       "   ReadyInformClient RepairReady SendTicketToFinAdmin Survey TicketReady\n",
       "1    0                 0           0                  436      0        \n",
       "2    0                 0           0                  222      0        \n",
       "3    0                 0           0                   70      0        \n",
       "4    0                 0           0                  188      0        \n",
       "5    0                 0           0                    0      0        \n",
       "6    0                 0           0                    0      0        \n",
       "7    0                 0           0                  162      0        \n",
       "8    0                 0           0                   46      0        \n",
       "9    0                 0           0                    0      0        \n",
       "10   0                 0           0                  220      0        \n",
       "11   0                 0           0                  202      0        \n",
       "12   0                 0           0                   54      0        \n",
       "13   0                 0           0                    0      0        \n",
       "14   0                 0           0                   66      0        \n",
       "15   0                 0           0                  188      0        \n",
       "16 927               927         927                    0    927        "
      ]
     },
     "metadata": {},
     "output_type": "display_data"
    }
   ],
   "source": [
    "castortk"
   ]
  },
  {
   "cell_type": "markdown",
   "metadata": {},
   "source": [
    "### 4. Sort"
   ]
  },
  {
   "cell_type": "code",
   "execution_count": 33,
   "metadata": {},
   "outputs": [],
   "source": [
    "orgtsk_sort <- castortk[, c(1, 4, 7, 9, 2, 6, 13, 5, 8, 3, 11, 10, 12, 14)]"
   ]
  },
  {
   "cell_type": "code",
   "execution_count": 34,
   "metadata": {},
   "outputs": [
    {
     "data": {
      "text/html": [
       "<table>\n",
       "<thead><tr><th scope=col>originator</th><th scope=col>FirstContact</th><th scope=col>InformClientWrongPlace</th><th scope=col>MakeTicket</th><th scope=col>ArrangeSurvey</th><th scope=col>InformClientSurvey</th><th scope=col>Survey</th><th scope=col>ImmediateRepair</th><th scope=col>InternRepair</th><th scope=col>ExternRepair</th><th scope=col>RepairReady</th><th scope=col>ReadyInformClient</th><th scope=col>SendTicketToFinAdmin</th><th scope=col>TicketReady</th></tr></thead>\n",
       "<tbody>\n",
       "\t<tr><td>Anne   </td><td>  0    </td><td> 0     </td><td>  0    </td><td>  0    </td><td>  0    </td><td>436    </td><td>370    </td><td> 60    </td><td> 0     </td><td>  0    </td><td>  0    </td><td>  0    </td><td>  0    </td></tr>\n",
       "\t<tr><td>Barbara</td><td>  0    </td><td> 0     </td><td>  0    </td><td>  0    </td><td>  0    </td><td>222    </td><td>176    </td><td> 30    </td><td> 0     </td><td>  0    </td><td>  0    </td><td>  0    </td><td>  0    </td></tr>\n",
       "\t<tr><td>Ben    </td><td>  0    </td><td> 0     </td><td>  0    </td><td>  0    </td><td>  0    </td><td> 70    </td><td>  8    </td><td> 42    </td><td> 0     </td><td>  0    </td><td>  0    </td><td>  0    </td><td>  0    </td></tr>\n",
       "\t<tr><td>Cindy  </td><td>  0    </td><td> 0     </td><td>  0    </td><td>  0    </td><td>  0    </td><td>188    </td><td>  0    </td><td>200    </td><td> 0     </td><td>  0    </td><td>  0    </td><td>  0    </td><td>  0    </td></tr>\n",
       "\t<tr><td>Dian   </td><td>466    </td><td>29     </td><td>874    </td><td>877    </td><td>  0    </td><td>  0    </td><td>  0    </td><td>  0    </td><td> 0     </td><td>  0    </td><td>  0    </td><td>  0    </td><td>  0    </td></tr>\n",
       "\t<tr><td>DoIt   </td><td>  0    </td><td> 0     </td><td>  0    </td><td>  0    </td><td>  0    </td><td>  0    </td><td>  0    </td><td>  0    </td><td>66     </td><td>  0    </td><td>  0    </td><td>  0    </td><td>  0    </td></tr>\n",
       "\t<tr><td>Edd    </td><td>  0    </td><td> 0     </td><td>  0    </td><td>  0    </td><td>  0    </td><td>162    </td><td>  0    </td><td>210    </td><td> 0     </td><td>  0    </td><td>  0    </td><td>  0    </td><td>  0    </td></tr>\n",
       "\t<tr><td>Eric   </td><td>  0    </td><td> 0     </td><td>  0    </td><td>  0    </td><td>  0    </td><td> 46    </td><td>  8    </td><td> 44    </td><td> 0     </td><td>  0    </td><td>  0    </td><td>  0    </td><td>  0    </td></tr>\n",
       "\t<tr><td>FixIt  </td><td>  0    </td><td> 0     </td><td>  0    </td><td>  0    </td><td>  0    </td><td>  0    </td><td>  0    </td><td>  0    </td><td>66     </td><td>  0    </td><td>  0    </td><td>  0    </td><td>  0    </td></tr>\n",
       "\t<tr><td>Jacky  </td><td>  0    </td><td> 0     </td><td>  0    </td><td>  0    </td><td>  0    </td><td>220    </td><td>184    </td><td> 34    </td><td> 0     </td><td>  0    </td><td>  0    </td><td>  0    </td><td>  0    </td></tr>\n",
       "\t<tr><td>John   </td><td>  0    </td><td> 0     </td><td>  0    </td><td>  0    </td><td>  0    </td><td>202    </td><td>  0    </td><td>194    </td><td> 0     </td><td>  0    </td><td>  0    </td><td>  0    </td><td>  0    </td></tr>\n",
       "\t<tr><td>Lex    </td><td>  0    </td><td> 0     </td><td>  0    </td><td>  0    </td><td>  0    </td><td> 54    </td><td> 14    </td><td> 44    </td><td> 0     </td><td>  0    </td><td>  0    </td><td>  0    </td><td>  0    </td></tr>\n",
       "\t<tr><td>Monica </td><td>534    </td><td>44     </td><td>980    </td><td>977    </td><td>  0    </td><td>  0    </td><td>  0    </td><td>  0    </td><td> 0     </td><td>  0    </td><td>  0    </td><td>  0    </td><td>  0    </td></tr>\n",
       "\t<tr><td>Nick   </td><td>  0    </td><td> 0     </td><td>  0    </td><td>  0    </td><td>  0    </td><td> 66    </td><td>  6    </td><td> 36    </td><td> 0     </td><td>  0    </td><td>  0    </td><td>  0    </td><td>  0    </td></tr>\n",
       "\t<tr><td>Paul   </td><td>  0    </td><td> 0     </td><td>  0    </td><td>  0    </td><td>  0    </td><td>188    </td><td>  0    </td><td>200    </td><td> 0     </td><td>  0    </td><td>  0    </td><td>  0    </td><td>  0    </td></tr>\n",
       "\t<tr><td>System </td><td>  0    </td><td> 0     </td><td>  0    </td><td>  0    </td><td>927    </td><td>  0    </td><td>  0    </td><td>  0    </td><td> 0     </td><td>927    </td><td>927    </td><td>927    </td><td>927    </td></tr>\n",
       "</tbody>\n",
       "</table>\n"
      ],
      "text/latex": [
       "\\begin{tabular}{r|llllllllllllll}\n",
       " originator & FirstContact & InformClientWrongPlace & MakeTicket & ArrangeSurvey & InformClientSurvey & Survey & ImmediateRepair & InternRepair & ExternRepair & RepairReady & ReadyInformClient & SendTicketToFinAdmin & TicketReady\\\\\n",
       "\\hline\n",
       "\t Anne    &   0     &  0      &   0     &   0     &   0     & 436     & 370     &  60     &  0      &   0     &   0     &   0     &   0    \\\\\n",
       "\t Barbara &   0     &  0      &   0     &   0     &   0     & 222     & 176     &  30     &  0      &   0     &   0     &   0     &   0    \\\\\n",
       "\t Ben     &   0     &  0      &   0     &   0     &   0     &  70     &   8     &  42     &  0      &   0     &   0     &   0     &   0    \\\\\n",
       "\t Cindy   &   0     &  0      &   0     &   0     &   0     & 188     &   0     & 200     &  0      &   0     &   0     &   0     &   0    \\\\\n",
       "\t Dian    & 466     & 29      & 874     & 877     &   0     &   0     &   0     &   0     &  0      &   0     &   0     &   0     &   0    \\\\\n",
       "\t DoIt    &   0     &  0      &   0     &   0     &   0     &   0     &   0     &   0     & 66      &   0     &   0     &   0     &   0    \\\\\n",
       "\t Edd     &   0     &  0      &   0     &   0     &   0     & 162     &   0     & 210     &  0      &   0     &   0     &   0     &   0    \\\\\n",
       "\t Eric    &   0     &  0      &   0     &   0     &   0     &  46     &   8     &  44     &  0      &   0     &   0     &   0     &   0    \\\\\n",
       "\t FixIt   &   0     &  0      &   0     &   0     &   0     &   0     &   0     &   0     & 66      &   0     &   0     &   0     &   0    \\\\\n",
       "\t Jacky   &   0     &  0      &   0     &   0     &   0     & 220     & 184     &  34     &  0      &   0     &   0     &   0     &   0    \\\\\n",
       "\t John    &   0     &  0      &   0     &   0     &   0     & 202     &   0     & 194     &  0      &   0     &   0     &   0     &   0    \\\\\n",
       "\t Lex     &   0     &  0      &   0     &   0     &   0     &  54     &  14     &  44     &  0      &   0     &   0     &   0     &   0    \\\\\n",
       "\t Monica  & 534     & 44      & 980     & 977     &   0     &   0     &   0     &   0     &  0      &   0     &   0     &   0     &   0    \\\\\n",
       "\t Nick    &   0     &  0      &   0     &   0     &   0     &  66     &   6     &  36     &  0      &   0     &   0     &   0     &   0    \\\\\n",
       "\t Paul    &   0     &  0      &   0     &   0     &   0     & 188     &   0     & 200     &  0      &   0     &   0     &   0     &   0    \\\\\n",
       "\t System  &   0     &  0      &   0     &   0     & 927     &   0     &   0     &   0     &  0      & 927     & 927     & 927     & 927    \\\\\n",
       "\\end{tabular}\n"
      ],
      "text/markdown": [
       "\n",
       "originator | FirstContact | InformClientWrongPlace | MakeTicket | ArrangeSurvey | InformClientSurvey | Survey | ImmediateRepair | InternRepair | ExternRepair | RepairReady | ReadyInformClient | SendTicketToFinAdmin | TicketReady | \n",
       "|---|---|---|---|---|---|---|---|---|---|---|---|---|---|---|---|\n",
       "| Anne    |   0     |  0      |   0     |   0     |   0     | 436     | 370     |  60     |  0      |   0     |   0     |   0     |   0     | \n",
       "| Barbara |   0     |  0      |   0     |   0     |   0     | 222     | 176     |  30     |  0      |   0     |   0     |   0     |   0     | \n",
       "| Ben     |   0     |  0      |   0     |   0     |   0     |  70     |   8     |  42     |  0      |   0     |   0     |   0     |   0     | \n",
       "| Cindy   |   0     |  0      |   0     |   0     |   0     | 188     |   0     | 200     |  0      |   0     |   0     |   0     |   0     | \n",
       "| Dian    | 466     | 29      | 874     | 877     |   0     |   0     |   0     |   0     |  0      |   0     |   0     |   0     |   0     | \n",
       "| DoIt    |   0     |  0      |   0     |   0     |   0     |   0     |   0     |   0     | 66      |   0     |   0     |   0     |   0     | \n",
       "| Edd     |   0     |  0      |   0     |   0     |   0     | 162     |   0     | 210     |  0      |   0     |   0     |   0     |   0     | \n",
       "| Eric    |   0     |  0      |   0     |   0     |   0     |  46     |   8     |  44     |  0      |   0     |   0     |   0     |   0     | \n",
       "| FixIt   |   0     |  0      |   0     |   0     |   0     |   0     |   0     |   0     | 66      |   0     |   0     |   0     |   0     | \n",
       "| Jacky   |   0     |  0      |   0     |   0     |   0     | 220     | 184     |  34     |  0      |   0     |   0     |   0     |   0     | \n",
       "| John    |   0     |  0      |   0     |   0     |   0     | 202     |   0     | 194     |  0      |   0     |   0     |   0     |   0     | \n",
       "| Lex     |   0     |  0      |   0     |   0     |   0     |  54     |  14     |  44     |  0      |   0     |   0     |   0     |   0     | \n",
       "| Monica  | 534     | 44      | 980     | 977     |   0     |   0     |   0     |   0     |  0      |   0     |   0     |   0     |   0     | \n",
       "| Nick    |   0     |  0      |   0     |   0     |   0     |  66     |   6     |  36     |  0      |   0     |   0     |   0     |   0     | \n",
       "| Paul    |   0     |  0      |   0     |   0     |   0     | 188     |   0     | 200     |  0      |   0     |   0     |   0     |   0     | \n",
       "| System  |   0     |  0      |   0     |   0     | 927     |   0     |   0     |   0     |  0      | 927     | 927     | 927     | 927     | \n",
       "\n",
       "\n"
      ],
      "text/plain": [
       "   originator FirstContact InformClientWrongPlace MakeTicket ArrangeSurvey\n",
       "1  Anne         0           0                       0          0          \n",
       "2  Barbara      0           0                       0          0          \n",
       "3  Ben          0           0                       0          0          \n",
       "4  Cindy        0           0                       0          0          \n",
       "5  Dian       466          29                     874        877          \n",
       "6  DoIt         0           0                       0          0          \n",
       "7  Edd          0           0                       0          0          \n",
       "8  Eric         0           0                       0          0          \n",
       "9  FixIt        0           0                       0          0          \n",
       "10 Jacky        0           0                       0          0          \n",
       "11 John         0           0                       0          0          \n",
       "12 Lex          0           0                       0          0          \n",
       "13 Monica     534          44                     980        977          \n",
       "14 Nick         0           0                       0          0          \n",
       "15 Paul         0           0                       0          0          \n",
       "16 System       0           0                       0          0          \n",
       "   InformClientSurvey Survey ImmediateRepair InternRepair ExternRepair\n",
       "1    0                436    370              60           0          \n",
       "2    0                222    176              30           0          \n",
       "3    0                 70      8              42           0          \n",
       "4    0                188      0             200           0          \n",
       "5    0                  0      0               0           0          \n",
       "6    0                  0      0               0          66          \n",
       "7    0                162      0             210           0          \n",
       "8    0                 46      8              44           0          \n",
       "9    0                  0      0               0          66          \n",
       "10   0                220    184              34           0          \n",
       "11   0                202      0             194           0          \n",
       "12   0                 54     14              44           0          \n",
       "13   0                  0      0               0           0          \n",
       "14   0                 66      6              36           0          \n",
       "15   0                188      0             200           0          \n",
       "16 927                  0      0               0           0          \n",
       "   RepairReady ReadyInformClient SendTicketToFinAdmin TicketReady\n",
       "1    0           0                 0                    0        \n",
       "2    0           0                 0                    0        \n",
       "3    0           0                 0                    0        \n",
       "4    0           0                 0                    0        \n",
       "5    0           0                 0                    0        \n",
       "6    0           0                 0                    0        \n",
       "7    0           0                 0                    0        \n",
       "8    0           0                 0                    0        \n",
       "9    0           0                 0                    0        \n",
       "10   0           0                 0                    0        \n",
       "11   0           0                 0                    0        \n",
       "12   0           0                 0                    0        \n",
       "13   0           0                 0                    0        \n",
       "14   0           0                 0                    0        \n",
       "15   0           0                 0                    0        \n",
       "16 927         927               927                  927        "
      ]
     },
     "metadata": {},
     "output_type": "display_data"
    }
   ],
   "source": [
    "orgtsk_sort"
   ]
  },
  {
   "cell_type": "code",
   "execution_count": 51,
   "metadata": {},
   "outputs": [],
   "source": [
    "orgtsk_full_sort <- castortk[c(5, 13, 1, 2, 10, 4, 11, 15, 7, 3, 8, 14, 12, 6, 9), c(1, 4, 7, 9, 2, 13, 5, 8, 3)]"
   ]
  },
  {
   "cell_type": "code",
   "execution_count": 52,
   "metadata": {
    "scrolled": true
   },
   "outputs": [
    {
     "data": {
      "text/html": [
       "<table>\n",
       "<thead><tr><th></th><th scope=col>originator</th><th scope=col>FirstContact</th><th scope=col>InformClientWrongPlace</th><th scope=col>MakeTicket</th><th scope=col>ArrangeSurvey</th><th scope=col>Survey</th><th scope=col>ImmediateRepair</th><th scope=col>InternRepair</th><th scope=col>ExternRepair</th></tr></thead>\n",
       "<tbody>\n",
       "\t<tr><th scope=row>5</th><td>Dian   </td><td>466    </td><td>29     </td><td>874    </td><td>877    </td><td>  0    </td><td>  0    </td><td>  0    </td><td> 0     </td></tr>\n",
       "\t<tr><th scope=row>13</th><td>Monica </td><td>534    </td><td>44     </td><td>980    </td><td>977    </td><td>  0    </td><td>  0    </td><td>  0    </td><td> 0     </td></tr>\n",
       "\t<tr><th scope=row>1</th><td>Anne   </td><td>  0    </td><td> 0     </td><td>  0    </td><td>  0    </td><td>436    </td><td>370    </td><td> 60    </td><td> 0     </td></tr>\n",
       "\t<tr><th scope=row>2</th><td>Barbara</td><td>  0    </td><td> 0     </td><td>  0    </td><td>  0    </td><td>222    </td><td>176    </td><td> 30    </td><td> 0     </td></tr>\n",
       "\t<tr><th scope=row>10</th><td>Jacky  </td><td>  0    </td><td> 0     </td><td>  0    </td><td>  0    </td><td>220    </td><td>184    </td><td> 34    </td><td> 0     </td></tr>\n",
       "\t<tr><th scope=row>4</th><td>Cindy  </td><td>  0    </td><td> 0     </td><td>  0    </td><td>  0    </td><td>188    </td><td>  0    </td><td>200    </td><td> 0     </td></tr>\n",
       "\t<tr><th scope=row>11</th><td>John   </td><td>  0    </td><td> 0     </td><td>  0    </td><td>  0    </td><td>202    </td><td>  0    </td><td>194    </td><td> 0     </td></tr>\n",
       "\t<tr><th scope=row>15</th><td>Paul   </td><td>  0    </td><td> 0     </td><td>  0    </td><td>  0    </td><td>188    </td><td>  0    </td><td>200    </td><td> 0     </td></tr>\n",
       "\t<tr><th scope=row>7</th><td>Edd    </td><td>  0    </td><td> 0     </td><td>  0    </td><td>  0    </td><td>162    </td><td>  0    </td><td>210    </td><td> 0     </td></tr>\n",
       "\t<tr><th scope=row>3</th><td>Ben    </td><td>  0    </td><td> 0     </td><td>  0    </td><td>  0    </td><td> 70    </td><td>  8    </td><td> 42    </td><td> 0     </td></tr>\n",
       "\t<tr><th scope=row>8</th><td>Eric   </td><td>  0    </td><td> 0     </td><td>  0    </td><td>  0    </td><td> 46    </td><td>  8    </td><td> 44    </td><td> 0     </td></tr>\n",
       "\t<tr><th scope=row>14</th><td>Nick   </td><td>  0    </td><td> 0     </td><td>  0    </td><td>  0    </td><td> 66    </td><td>  6    </td><td> 36    </td><td> 0     </td></tr>\n",
       "\t<tr><th scope=row>12</th><td>Lex    </td><td>  0    </td><td> 0     </td><td>  0    </td><td>  0    </td><td> 54    </td><td> 14    </td><td> 44    </td><td> 0     </td></tr>\n",
       "\t<tr><th scope=row>6</th><td>DoIt   </td><td>  0    </td><td> 0     </td><td>  0    </td><td>  0    </td><td>  0    </td><td>  0    </td><td>  0    </td><td>66     </td></tr>\n",
       "\t<tr><th scope=row>9</th><td>FixIt  </td><td>  0    </td><td> 0     </td><td>  0    </td><td>  0    </td><td>  0    </td><td>  0    </td><td>  0    </td><td>66     </td></tr>\n",
       "</tbody>\n",
       "</table>\n"
      ],
      "text/latex": [
       "\\begin{tabular}{r|lllllllll}\n",
       "  & originator & FirstContact & InformClientWrongPlace & MakeTicket & ArrangeSurvey & Survey & ImmediateRepair & InternRepair & ExternRepair\\\\\n",
       "\\hline\n",
       "\t5 & Dian    & 466     & 29      & 874     & 877     &   0     &   0     &   0     &  0     \\\\\n",
       "\t13 & Monica  & 534     & 44      & 980     & 977     &   0     &   0     &   0     &  0     \\\\\n",
       "\t1 & Anne    &   0     &  0      &   0     &   0     & 436     & 370     &  60     &  0     \\\\\n",
       "\t2 & Barbara &   0     &  0      &   0     &   0     & 222     & 176     &  30     &  0     \\\\\n",
       "\t10 & Jacky   &   0     &  0      &   0     &   0     & 220     & 184     &  34     &  0     \\\\\n",
       "\t4 & Cindy   &   0     &  0      &   0     &   0     & 188     &   0     & 200     &  0     \\\\\n",
       "\t11 & John    &   0     &  0      &   0     &   0     & 202     &   0     & 194     &  0     \\\\\n",
       "\t15 & Paul    &   0     &  0      &   0     &   0     & 188     &   0     & 200     &  0     \\\\\n",
       "\t7 & Edd     &   0     &  0      &   0     &   0     & 162     &   0     & 210     &  0     \\\\\n",
       "\t3 & Ben     &   0     &  0      &   0     &   0     &  70     &   8     &  42     &  0     \\\\\n",
       "\t8 & Eric    &   0     &  0      &   0     &   0     &  46     &   8     &  44     &  0     \\\\\n",
       "\t14 & Nick    &   0     &  0      &   0     &   0     &  66     &   6     &  36     &  0     \\\\\n",
       "\t12 & Lex     &   0     &  0      &   0     &   0     &  54     &  14     &  44     &  0     \\\\\n",
       "\t6 & DoIt    &   0     &  0      &   0     &   0     &   0     &   0     &   0     & 66     \\\\\n",
       "\t9 & FixIt   &   0     &  0      &   0     &   0     &   0     &   0     &   0     & 66     \\\\\n",
       "\\end{tabular}\n"
      ],
      "text/markdown": [
       "\n",
       "| <!--/--> | originator | FirstContact | InformClientWrongPlace | MakeTicket | ArrangeSurvey | Survey | ImmediateRepair | InternRepair | ExternRepair | \n",
       "|---|---|---|---|---|---|---|---|---|---|---|---|---|---|---|\n",
       "| 5 | Dian    | 466     | 29      | 874     | 877     |   0     |   0     |   0     |  0      | \n",
       "| 13 | Monica  | 534     | 44      | 980     | 977     |   0     |   0     |   0     |  0      | \n",
       "| 1 | Anne    |   0     |  0      |   0     |   0     | 436     | 370     |  60     |  0      | \n",
       "| 2 | Barbara |   0     |  0      |   0     |   0     | 222     | 176     |  30     |  0      | \n",
       "| 10 | Jacky   |   0     |  0      |   0     |   0     | 220     | 184     |  34     |  0      | \n",
       "| 4 | Cindy   |   0     |  0      |   0     |   0     | 188     |   0     | 200     |  0      | \n",
       "| 11 | John    |   0     |  0      |   0     |   0     | 202     |   0     | 194     |  0      | \n",
       "| 15 | Paul    |   0     |  0      |   0     |   0     | 188     |   0     | 200     |  0      | \n",
       "| 7 | Edd     |   0     |  0      |   0     |   0     | 162     |   0     | 210     |  0      | \n",
       "| 3 | Ben     |   0     |  0      |   0     |   0     |  70     |   8     |  42     |  0      | \n",
       "| 8 | Eric    |   0     |  0      |   0     |   0     |  46     |   8     |  44     |  0      | \n",
       "| 14 | Nick    |   0     |  0      |   0     |   0     |  66     |   6     |  36     |  0      | \n",
       "| 12 | Lex     |   0     |  0      |   0     |   0     |  54     |  14     |  44     |  0      | \n",
       "| 6 | DoIt    |   0     |  0      |   0     |   0     |   0     |   0     |   0     | 66      | \n",
       "| 9 | FixIt   |   0     |  0      |   0     |   0     |   0     |   0     |   0     | 66      | \n",
       "\n",
       "\n"
      ],
      "text/plain": [
       "   originator FirstContact InformClientWrongPlace MakeTicket ArrangeSurvey\n",
       "5  Dian       466          29                     874        877          \n",
       "13 Monica     534          44                     980        977          \n",
       "1  Anne         0           0                       0          0          \n",
       "2  Barbara      0           0                       0          0          \n",
       "10 Jacky        0           0                       0          0          \n",
       "4  Cindy        0           0                       0          0          \n",
       "11 John         0           0                       0          0          \n",
       "15 Paul         0           0                       0          0          \n",
       "7  Edd          0           0                       0          0          \n",
       "3  Ben          0           0                       0          0          \n",
       "8  Eric         0           0                       0          0          \n",
       "14 Nick         0           0                       0          0          \n",
       "12 Lex          0           0                       0          0          \n",
       "6  DoIt         0           0                       0          0          \n",
       "9  FixIt        0           0                       0          0          \n",
       "   Survey ImmediateRepair InternRepair ExternRepair\n",
       "5    0      0               0           0          \n",
       "13   0      0               0           0          \n",
       "1  436    370              60           0          \n",
       "2  222    176              30           0          \n",
       "10 220    184              34           0          \n",
       "4  188      0             200           0          \n",
       "11 202      0             194           0          \n",
       "15 188      0             200           0          \n",
       "7  162      0             210           0          \n",
       "3   70      8              42           0          \n",
       "8   46      8              44           0          \n",
       "14  66      6              36           0          \n",
       "12  54     14              44           0          \n",
       "6    0      0               0          66          \n",
       "9    0      0               0          66          "
      ]
     },
     "metadata": {},
     "output_type": "display_data"
    }
   ],
   "source": [
    "orgtsk_full_sort"
   ]
  },
  {
   "cell_type": "markdown",
   "metadata": {},
   "source": [
    "## 5. Visualization"
   ]
  },
  {
   "cell_type": "code",
   "execution_count": 54,
   "metadata": {},
   "outputs": [],
   "source": [
    "bar <- orgtsk_full_sort[c(1, 2), c(1, 2, 3, 4, 5)]"
   ]
  },
  {
   "cell_type": "code",
   "execution_count": 68,
   "metadata": {},
   "outputs": [],
   "source": [
    "bar2 <- bar[, c(-1)]"
   ]
  },
  {
   "cell_type": "code",
   "execution_count": 69,
   "metadata": {},
   "outputs": [
    {
     "data": {
      "text/html": [
       "<table>\n",
       "<thead><tr><th></th><th scope=col>FirstContact</th><th scope=col>InformClientWrongPlace</th><th scope=col>MakeTicket</th><th scope=col>ArrangeSurvey</th></tr></thead>\n",
       "<tbody>\n",
       "\t<tr><th scope=row>5</th><td>466</td><td>29 </td><td>874</td><td>877</td></tr>\n",
       "\t<tr><th scope=row>13</th><td>534</td><td>44 </td><td>980</td><td>977</td></tr>\n",
       "</tbody>\n",
       "</table>\n"
      ],
      "text/latex": [
       "\\begin{tabular}{r|llll}\n",
       "  & FirstContact & InformClientWrongPlace & MakeTicket & ArrangeSurvey\\\\\n",
       "\\hline\n",
       "\t5 & 466 & 29  & 874 & 877\\\\\n",
       "\t13 & 534 & 44  & 980 & 977\\\\\n",
       "\\end{tabular}\n"
      ],
      "text/markdown": [
       "\n",
       "| <!--/--> | FirstContact | InformClientWrongPlace | MakeTicket | ArrangeSurvey | \n",
       "|---|---|\n",
       "| 5 | 466 | 29  | 874 | 877 | \n",
       "| 13 | 534 | 44  | 980 | 977 | \n",
       "\n",
       "\n"
      ],
      "text/plain": [
       "   FirstContact InformClientWrongPlace MakeTicket ArrangeSurvey\n",
       "5  466          29                     874        877          \n",
       "13 534          44                     980        977          "
      ]
     },
     "metadata": {},
     "output_type": "display_data"
    }
   ],
   "source": [
    "bar2"
   ]
  },
  {
   "cell_type": "code",
   "execution_count": 77,
   "metadata": {},
   "outputs": [
    {
     "data": {
      "image/png": "[encoded data removed]",
      "text/plain": [
       "plot without title"
      ]
     },
     "metadata": {},
     "output_type": "display_data"
    }
   ],
   "source": [
    "barplot(as.matrix(bar2), beside = T, col = rainbow(nrow(bar2)), ylim = c(0, 1000))\n",
    "legend(1, 1000, c('Dian', 'Monica'), fill = rainbow(nrow(bar2)))"
   ]
  },
  {
   "cell_type": "code",
   "execution_count": 78,
   "metadata": {},
   "outputs": [],
   "source": [
    "bar3 <- orgtsk_full_sort[c(14, 15), c(9)]"
   ]
  },
  {
   "cell_type": "code",
   "execution_count": 79,
   "metadata": {},
   "outputs": [
    {
     "data": {
      "text/html": [
       "<ol class=list-inline>\n",
       "\t<li>66</li>\n",
       "\t<li>66</li>\n",
       "</ol>\n"
      ],
      "text/latex": [
       "\\begin{enumerate*}\n",
       "\\item 66\n",
       "\\item 66\n",
       "\\end{enumerate*}\n"
      ],
      "text/markdown": [
       "1. 66\n",
       "2. 66\n",
       "\n",
       "\n"
      ],
      "text/plain": [
       "[1] 66 66"
      ]
     },
     "metadata": {},
     "output_type": "display_data"
    }
   ],
   "source": [
    "bar3"
   ]
  },
  {
   "cell_type": "code",
   "execution_count": 87,
   "metadata": {},
   "outputs": [
    {
     "data": {
      "image/png": "[encoded data removed]",
      "text/plain": [
       "plot without title"
      ]
     },
     "metadata": {},
     "output_type": "display_data"
    }
   ],
   "source": [
    "barplot(as.matrix(bar3), beside = T, col = rainbow(nrow(bar2)), ylim = c(0, 100), space = 0.5)\n",
    "legend(2.5, 100, c('Do It', 'Fix It'), fill = rainbow(nrow(bar2)))"
   ]
  },
  {
   "cell_type": "code",
   "execution_count": 92,
   "metadata": {},
   "outputs": [],
   "source": [
    "bar4 <- orgtsk_full_sort[c(3 : 13), c(6 : 8)]"
   ]
  },
  {
   "cell_type": "code",
   "execution_count": 93,
   "metadata": {},
   "outputs": [
    {
     "data": {
      "text/html": [
       "<table>\n",
       "<thead><tr><th></th><th scope=col>Survey</th><th scope=col>ImmediateRepair</th><th scope=col>InternRepair</th></tr></thead>\n",
       "<tbody>\n",
       "\t<tr><th scope=row>1</th><td>436</td><td>370</td><td> 60</td></tr>\n",
       "\t<tr><th scope=row>2</th><td>222</td><td>176</td><td> 30</td></tr>\n",
       "\t<tr><th scope=row>10</th><td>220</td><td>184</td><td> 34</td></tr>\n",
       "\t<tr><th scope=row>4</th><td>188</td><td>  0</td><td>200</td></tr>\n",
       "\t<tr><th scope=row>11</th><td>202</td><td>  0</td><td>194</td></tr>\n",
       "\t<tr><th scope=row>15</th><td>188</td><td>  0</td><td>200</td></tr>\n",
       "\t<tr><th scope=row>7</th><td>162</td><td>  0</td><td>210</td></tr>\n",
       "\t<tr><th scope=row>3</th><td> 70</td><td>  8</td><td> 42</td></tr>\n",
       "\t<tr><th scope=row>8</th><td> 46</td><td>  8</td><td> 44</td></tr>\n",
       "\t<tr><th scope=row>14</th><td> 66</td><td>  6</td><td> 36</td></tr>\n",
       "\t<tr><th scope=row>12</th><td> 54</td><td> 14</td><td> 44</td></tr>\n",
       "</tbody>\n",
       "</table>\n"
      ],
      "text/latex": [
       "\\begin{tabular}{r|lll}\n",
       "  & Survey & ImmediateRepair & InternRepair\\\\\n",
       "\\hline\n",
       "\t1 & 436 & 370 &  60\\\\\n",
       "\t2 & 222 & 176 &  30\\\\\n",
       "\t10 & 220 & 184 &  34\\\\\n",
       "\t4 & 188 &   0 & 200\\\\\n",
       "\t11 & 202 &   0 & 194\\\\\n",
       "\t15 & 188 &   0 & 200\\\\\n",
       "\t7 & 162 &   0 & 210\\\\\n",
       "\t3 &  70 &   8 &  42\\\\\n",
       "\t8 &  46 &   8 &  44\\\\\n",
       "\t14 &  66 &   6 &  36\\\\\n",
       "\t12 &  54 &  14 &  44\\\\\n",
       "\\end{tabular}\n"
      ],
      "text/markdown": [
       "\n",
       "| <!--/--> | Survey | ImmediateRepair | InternRepair | \n",
       "|---|---|---|---|---|---|---|---|---|---|---|\n",
       "| 1 | 436 | 370 |  60 | \n",
       "| 2 | 222 | 176 |  30 | \n",
       "| 10 | 220 | 184 |  34 | \n",
       "| 4 | 188 |   0 | 200 | \n",
       "| 11 | 202 |   0 | 194 | \n",
       "| 15 | 188 |   0 | 200 | \n",
       "| 7 | 162 |   0 | 210 | \n",
       "| 3 |  70 |   8 |  42 | \n",
       "| 8 |  46 |   8 |  44 | \n",
       "| 14 |  66 |   6 |  36 | \n",
       "| 12 |  54 |  14 |  44 | \n",
       "\n",
       "\n"
      ],
      "text/plain": [
       "   Survey ImmediateRepair InternRepair\n",
       "1  436    370              60         \n",
       "2  222    176              30         \n",
       "10 220    184              34         \n",
       "4  188      0             200         \n",
       "11 202      0             194         \n",
       "15 188      0             200         \n",
       "7  162      0             210         \n",
       "3   70      8              42         \n",
       "8   46      8              44         \n",
       "14  66      6              36         \n",
       "12  54     14              44         "
      ]
     },
     "metadata": {},
     "output_type": "display_data"
    }
   ],
   "source": [
    "bar4"
   ]
  },
  {
   "cell_type": "code",
   "execution_count": 119,
   "metadata": {
    "scrolled": true
   },
   "outputs": [
    {
     "data": {
      "image/png": "[encoded data removed]",
      "text/plain": [
       "plot without title"
      ]
     },
     "metadata": {},
     "output_type": "display_data"
    }
   ],
   "source": [
    "barplot(as.matrix(t(bar4)), beside = T, col = rainbow(nrow(t(bar4))), ylim = c(0, 500))\n",
    "legend(30, 500, c('Survey', 'ImmediateRepair', 'InternRepair'), fill = rainbow(nrow(t(bar4))))"
   ]
  },
  {
   "cell_type": "code",
   "execution_count": 120,
   "metadata": {},
   "outputs": [
    {
     "data": {
      "text/html": [
       "<table>\n",
       "<thead><tr><th scope=col>caseID</th><th scope=col>taskID</th><th scope=col>originator</th><th scope=col>eventtype</th><th scope=col>timestamp</th><th scope=col>contact</th><th scope=col>RepairType</th><th scope=col>objectKey</th><th scope=col>RepairInternally</th><th scope=col>EstimatedRepairTime</th><th scope=col>RepairCode</th><th scope=col>RepairOK</th></tr></thead>\n",
       "<tbody>\n",
       "\t<tr><td>1                 </td><td>FirstContact      </td><td>Dian              </td><td>complete          </td><td>1970-01-02 8:08   </td><td>Phone             </td><td>                  </td><td>  NA              </td><td>NA                </td><td>NA                </td><td>NA                </td><td>NA                </td></tr>\n",
       "\t<tr><td>1                 </td><td>MakeTicket        </td><td>Dian              </td><td>start             </td><td>1970-01-02 8:08   </td><td>                  </td><td>                  </td><td>  NA              </td><td>NA                </td><td>NA                </td><td>NA                </td><td>NA                </td></tr>\n",
       "\t<tr><td>1                 </td><td>MakeTicket        </td><td>Dian              </td><td>complete          </td><td>1970-01-02 8:11   </td><td>                  </td><td>E                 </td><td>1340              </td><td>NA                </td><td>NA                </td><td>NA                </td><td>NA                </td></tr>\n",
       "\t<tr><td>1                 </td><td>ArrangeSurvey     </td><td>Dian              </td><td>start             </td><td>1970-01-02 8:11   </td><td>                  </td><td>                  </td><td>  NA              </td><td>NA                </td><td>NA                </td><td>NA                </td><td>NA                </td></tr>\n",
       "\t<tr><td>1                 </td><td>ArrangeSurvey     </td><td>Dian              </td><td>complete          </td><td>1970-01-02 8:16   </td><td>                  </td><td>                  </td><td>  NA              </td><td>NA                </td><td>NA                </td><td>NA                </td><td>NA                </td></tr>\n",
       "\t<tr><td>1                 </td><td>InformClientSurvey</td><td>System            </td><td>complete          </td><td>1970-01-02 8:16   </td><td>                  </td><td>                  </td><td>  NA              </td><td>NA                </td><td>NA                </td><td>NA                </td><td>NA                </td></tr>\n",
       "</tbody>\n",
       "</table>\n"
      ],
      "text/latex": [
       "\\begin{tabular}{r|llllllllllll}\n",
       " caseID & taskID & originator & eventtype & timestamp & contact & RepairType & objectKey & RepairInternally & EstimatedRepairTime & RepairCode & RepairOK\\\\\n",
       "\\hline\n",
       "\t 1                  & FirstContact       & Dian               & complete           & 1970-01-02 8:08    & Phone              &                    &   NA               & NA                 & NA                 & NA                 & NA                \\\\\n",
       "\t 1                  & MakeTicket         & Dian               & start              & 1970-01-02 8:08    &                    &                    &   NA               & NA                 & NA                 & NA                 & NA                \\\\\n",
       "\t 1                  & MakeTicket         & Dian               & complete           & 1970-01-02 8:11    &                    & E                  & 1340               & NA                 & NA                 & NA                 & NA                \\\\\n",
       "\t 1                  & ArrangeSurvey      & Dian               & start              & 1970-01-02 8:11    &                    &                    &   NA               & NA                 & NA                 & NA                 & NA                \\\\\n",
       "\t 1                  & ArrangeSurvey      & Dian               & complete           & 1970-01-02 8:16    &                    &                    &   NA               & NA                 & NA                 & NA                 & NA                \\\\\n",
       "\t 1                  & InformClientSurvey & System             & complete           & 1970-01-02 8:16    &                    &                    &   NA               & NA                 & NA                 & NA                 & NA                \\\\\n",
       "\\end{tabular}\n"
      ],
      "text/markdown": [
       "\n",
       "caseID | taskID | originator | eventtype | timestamp | contact | RepairType | objectKey | RepairInternally | EstimatedRepairTime | RepairCode | RepairOK | \n",
       "|---|---|---|---|---|---|\n",
       "| 1                  | FirstContact       | Dian               | complete           | 1970-01-02 8:08    | Phone              |                    |   NA               | NA                 | NA                 | NA                 | NA                 | \n",
       "| 1                  | MakeTicket         | Dian               | start              | 1970-01-02 8:08    |                    |                    |   NA               | NA                 | NA                 | NA                 | NA                 | \n",
       "| 1                  | MakeTicket         | Dian               | complete           | 1970-01-02 8:11    |                    | E                  | 1340               | NA                 | NA                 | NA                 | NA                 | \n",
       "| 1                  | ArrangeSurvey      | Dian               | start              | 1970-01-02 8:11    |                    |                    |   NA               | NA                 | NA                 | NA                 | NA                 | \n",
       "| 1                  | ArrangeSurvey      | Dian               | complete           | 1970-01-02 8:16    |                    |                    |   NA               | NA                 | NA                 | NA                 | NA                 | \n",
       "| 1                  | InformClientSurvey | System             | complete           | 1970-01-02 8:16    |                    |                    |   NA               | NA                 | NA                 | NA                 | NA                 | \n",
       "\n",
       "\n"
      ],
      "text/plain": [
       "  caseID taskID             originator eventtype timestamp       contact\n",
       "1 1      FirstContact       Dian       complete  1970-01-02 8:08 Phone  \n",
       "2 1      MakeTicket         Dian       start     1970-01-02 8:08        \n",
       "3 1      MakeTicket         Dian       complete  1970-01-02 8:11        \n",
       "4 1      ArrangeSurvey      Dian       start     1970-01-02 8:11        \n",
       "5 1      ArrangeSurvey      Dian       complete  1970-01-02 8:16        \n",
       "6 1      InformClientSurvey System     complete  1970-01-02 8:16        \n",
       "  RepairType objectKey RepairInternally EstimatedRepairTime RepairCode RepairOK\n",
       "1              NA      NA               NA                  NA         NA      \n",
       "2              NA      NA               NA                  NA         NA      \n",
       "3 E          1340      NA               NA                  NA         NA      \n",
       "4              NA      NA               NA                  NA         NA      \n",
       "5              NA      NA               NA                  NA         NA      \n",
       "6              NA      NA               NA                  NA         NA      "
      ]
     },
     "metadata": {},
     "output_type": "display_data"
    }
   ],
   "source": [
    "head(repair)"
   ]
  },
  {
   "cell_type": "code",
   "execution_count": 154,
   "metadata": {},
   "outputs": [],
   "source": [
    "bar6 <- sqldf('SELECT contact, COUNT(*) FROM repair GROUP BY contact')"
   ]
  },
  {
   "cell_type": "code",
   "execution_count": 155,
   "metadata": {},
   "outputs": [
    {
     "data": {
      "text/html": [
       "<table>\n",
       "<thead><tr><th scope=col>contact</th><th scope=col>COUNT(*)</th></tr></thead>\n",
       "<tbody>\n",
       "\t<tr><td>        </td><td>12262   </td></tr>\n",
       "\t<tr><td>Letter  </td><td>  225   </td></tr>\n",
       "\t<tr><td>Personal</td><td>  240   </td></tr>\n",
       "\t<tr><td>Phone   </td><td>  270   </td></tr>\n",
       "\t<tr><td>Web     </td><td>  265   </td></tr>\n",
       "</tbody>\n",
       "</table>\n"
      ],
      "text/latex": [
       "\\begin{tabular}{r|ll}\n",
       " contact & COUNT(*)\\\\\n",
       "\\hline\n",
       "\t          & 12262   \\\\\n",
       "\t Letter   &   225   \\\\\n",
       "\t Personal &   240   \\\\\n",
       "\t Phone    &   270   \\\\\n",
       "\t Web      &   265   \\\\\n",
       "\\end{tabular}\n"
      ],
      "text/markdown": [
       "\n",
       "contact | COUNT(*) | \n",
       "|---|---|---|---|---|\n",
       "|          | 12262    | \n",
       "| Letter   |   225    | \n",
       "| Personal |   240    | \n",
       "| Phone    |   270    | \n",
       "| Web      |   265    | \n",
       "\n",
       "\n"
      ],
      "text/plain": [
       "  contact  COUNT(*)\n",
       "1          12262   \n",
       "2 Letter     225   \n",
       "3 Personal   240   \n",
       "4 Phone      270   \n",
       "5 Web        265   "
      ]
     },
     "metadata": {},
     "output_type": "display_data"
    }
   ],
   "source": [
    "bar6"
   ]
  },
  {
   "cell_type": "code",
   "execution_count": 167,
   "metadata": {},
   "outputs": [
    {
     "data": {
      "image/png": "[encoded data removed]",
      "text/plain": [
       "plot without title"
      ]
     },
     "metadata": {},
     "output_type": "display_data"
    }
   ],
   "source": [
    "barplot(as.matrix(bar6[c(2, 3, 4, 5), c(2)]), beside=T, space = 1, ylim = c(0, 300), col = rainbow(nrow(bar6)))"
   ]
  },
  {
   "cell_type": "markdown",
   "metadata": {},
   "source": [
    "## 6. Column[6 :] 탐색"
   ]
  },
  {
   "cell_type": "code",
   "execution_count": 126,
   "metadata": {},
   "outputs": [
    {
     "data": {
      "text/html": [
       "<table>\n",
       "<thead><tr><th scope=col>RepairType</th></tr></thead>\n",
       "<tbody>\n",
       "\t<tr><td> </td></tr>\n",
       "\t<tr><td>E</td></tr>\n",
       "\t<tr><td>P</td></tr>\n",
       "\t<tr><td>B</td></tr>\n",
       "</tbody>\n",
       "</table>\n"
      ],
      "text/latex": [
       "\\begin{tabular}{r|l}\n",
       " RepairType\\\\\n",
       "\\hline\n",
       "\t  \\\\\n",
       "\t E\\\\\n",
       "\t P\\\\\n",
       "\t B\\\\\n",
       "\\end{tabular}\n"
      ],
      "text/markdown": [
       "\n",
       "RepairType | \n",
       "|---|---|---|---|\n",
       "|   | \n",
       "| E | \n",
       "| P | \n",
       "| B | \n",
       "\n",
       "\n"
      ],
      "text/plain": [
       "  RepairType\n",
       "1           \n",
       "2 E         \n",
       "3 P         \n",
       "4 B         "
      ]
     },
     "metadata": {},
     "output_type": "display_data"
    }
   ],
   "source": [
    "sqldf('SELECT DISTINCT RepairType From repair')"
   ]
  },
  {
   "cell_type": "code",
   "execution_count": 130,
   "metadata": {},
   "outputs": [
    {
     "data": {
      "text/html": [
       "<table>\n",
       "<thead><tr><th scope=col>EstimatedRepairTime</th></tr></thead>\n",
       "<tbody>\n",
       "\t<tr><td> NA</td></tr>\n",
       "\t<tr><td>240</td></tr>\n",
       "\t<tr><td>120</td></tr>\n",
       "\t<tr><td>480</td></tr>\n",
       "\t<tr><td>220</td></tr>\n",
       "\t<tr><td>360</td></tr>\n",
       "\t<tr><td> 60</td></tr>\n",
       "\t<tr><td>160</td></tr>\n",
       "</tbody>\n",
       "</table>\n"
      ],
      "text/latex": [
       "\\begin{tabular}{r|l}\n",
       " EstimatedRepairTime\\\\\n",
       "\\hline\n",
       "\t  NA\\\\\n",
       "\t 240\\\\\n",
       "\t 120\\\\\n",
       "\t 480\\\\\n",
       "\t 220\\\\\n",
       "\t 360\\\\\n",
       "\t  60\\\\\n",
       "\t 160\\\\\n",
       "\\end{tabular}\n"
      ],
      "text/markdown": [
       "\n",
       "EstimatedRepairTime | \n",
       "|---|---|---|---|---|---|---|---|\n",
       "|  NA | \n",
       "| 240 | \n",
       "| 120 | \n",
       "| 480 | \n",
       "| 220 | \n",
       "| 360 | \n",
       "|  60 | \n",
       "| 160 | \n",
       "\n",
       "\n"
      ],
      "text/plain": [
       "  EstimatedRepairTime\n",
       "1  NA                \n",
       "2 240                \n",
       "3 120                \n",
       "4 480                \n",
       "5 220                \n",
       "6 360                \n",
       "7  60                \n",
       "8 160                "
      ]
     },
     "metadata": {},
     "output_type": "display_data"
    }
   ],
   "source": [
    "sqldf('SELECT DISTINCT EstimatedRepairTime From repair')"
   ]
  },
  {
   "cell_type": "code",
   "execution_count": 131,
   "metadata": {},
   "outputs": [
    {
     "data": {
      "text/html": [
       "<table>\n",
       "<thead><tr><th scope=col>RepairCode</th></tr></thead>\n",
       "<tbody>\n",
       "\t<tr><td>NA</td></tr>\n",
       "\t<tr><td> 1</td></tr>\n",
       "\t<tr><td> 4</td></tr>\n",
       "\t<tr><td> 2</td></tr>\n",
       "\t<tr><td> 3</td></tr>\n",
       "</tbody>\n",
       "</table>\n"
      ],
      "text/latex": [
       "\\begin{tabular}{r|l}\n",
       " RepairCode\\\\\n",
       "\\hline\n",
       "\t NA\\\\\n",
       "\t  1\\\\\n",
       "\t  4\\\\\n",
       "\t  2\\\\\n",
       "\t  3\\\\\n",
       "\\end{tabular}\n"
      ],
      "text/markdown": [
       "\n",
       "RepairCode | \n",
       "|---|---|---|---|---|\n",
       "| NA | \n",
       "|  1 | \n",
       "|  4 | \n",
       "|  2 | \n",
       "|  3 | \n",
       "\n",
       "\n"
      ],
      "text/plain": [
       "  RepairCode\n",
       "1 NA        \n",
       "2  1        \n",
       "3  4        \n",
       "4  2        \n",
       "5  3        "
      ]
     },
     "metadata": {},
     "output_type": "display_data"
    }
   ],
   "source": [
    "sqldf('SELECT DISTINCT RepairCode From repair')"
   ]
  },
  {
   "cell_type": "code",
   "execution_count": 151,
   "metadata": {},
   "outputs": [],
   "source": [
    "bar5 <- sqldf('SELECT COUNT(taskID), RepairCode From repair GROUP BY RepairCode')"
   ]
  },
  {
   "cell_type": "code",
   "execution_count": 152,
   "metadata": {},
   "outputs": [
    {
     "data": {
      "text/html": [
       "<table>\n",
       "<thead><tr><th scope=col>COUNT(taskID)</th><th scope=col>RepairCode</th></tr></thead>\n",
       "<tbody>\n",
       "\t<tr><td>12335</td><td>NA   </td></tr>\n",
       "\t<tr><td>  550</td><td> 1   </td></tr>\n",
       "\t<tr><td>  224</td><td> 2   </td></tr>\n",
       "\t<tr><td>   94</td><td> 3   </td></tr>\n",
       "\t<tr><td>   59</td><td> 4   </td></tr>\n",
       "</tbody>\n",
       "</table>\n"
      ],
      "text/latex": [
       "\\begin{tabular}{r|ll}\n",
       " COUNT(taskID) & RepairCode\\\\\n",
       "\\hline\n",
       "\t 12335 & NA   \\\\\n",
       "\t   550 &  1   \\\\\n",
       "\t   224 &  2   \\\\\n",
       "\t    94 &  3   \\\\\n",
       "\t    59 &  4   \\\\\n",
       "\\end{tabular}\n"
      ],
      "text/markdown": [
       "\n",
       "COUNT(taskID) | RepairCode | \n",
       "|---|---|---|---|---|\n",
       "| 12335 | NA    | \n",
       "|   550 |  1    | \n",
       "|   224 |  2    | \n",
       "|    94 |  3    | \n",
       "|    59 |  4    | \n",
       "\n",
       "\n"
      ],
      "text/plain": [
       "  COUNT(taskID) RepairCode\n",
       "1 12335         NA        \n",
       "2   550          1        \n",
       "3   224          2        \n",
       "4    94          3        \n",
       "5    59          4        "
      ]
     },
     "metadata": {},
     "output_type": "display_data"
    }
   ],
   "source": [
    "bar5"
   ]
  },
  {
   "cell_type": "code",
   "execution_count": 169,
   "metadata": {
    "scrolled": true
   },
   "outputs": [
    {
     "data": {
      "image/png": "[encoded data removed]",
      "text/plain": [
       "plot without title"
      ]
     },
     "metadata": {},
     "output_type": "display_data"
    }
   ],
   "source": [
    "barplot(as.matrix(bar5[c(2, 3, 4, 5), c(1)]), beside=T, space = 1, ylim = c(0, 600), col = rainbow(nrow(bar6)))"
   ]
  },
  {
   "cell_type": "code",
   "execution_count": 137,
   "metadata": {},
   "outputs": [
    {
     "data": {
      "text/html": [
       "<table>\n",
       "<thead><tr><th scope=col>caseID</th><th scope=col>taskID</th></tr></thead>\n",
       "<tbody>\n",
       "\t<tr><td>17          </td><td>ExternRepair</td></tr>\n",
       "</tbody>\n",
       "</table>\n"
      ],
      "text/latex": [
       "\\begin{tabular}{r|ll}\n",
       " caseID & taskID\\\\\n",
       "\\hline\n",
       "\t 17           & ExternRepair\\\\\n",
       "\\end{tabular}\n"
      ],
      "text/markdown": [
       "\n",
       "caseID | taskID | \n",
       "|---|\n",
       "| 17           | ExternRepair | \n",
       "\n",
       "\n"
      ],
      "text/plain": [
       "  caseID taskID      \n",
       "1 17     ExternRepair"
      ]
     },
     "metadata": {},
     "output_type": "display_data"
    }
   ],
   "source": [
    "sqldf('SELECT caseID, taskID FROM repair WHERE caseID = (SELECT caseID FROM repair WHERE RepairCode = 4 ORDER BY CaseID) AND taskID = \"ExternRepair\"')"
   ]
  },
  {
   "cell_type": "code",
   "execution_count": 4,
   "metadata": {
    "scrolled": true
   },
   "outputs": [
    {
     "data": {
      "text/html": [
       "<table>\n",
       "<thead><tr><th scope=col>caseID</th><th scope=col>taskID</th><th scope=col>originator</th><th scope=col>eventtype</th><th scope=col>timestamp</th><th scope=col>contact</th><th scope=col>RepairType</th><th scope=col>objectKey</th><th scope=col>RepairInternally</th><th scope=col>EstimatedRepairTime</th><th scope=col>RepairCode</th><th scope=col>RepairOK</th></tr></thead>\n",
       "<tbody>\n",
       "\t<tr><td>1                 </td><td>FirstContact      </td><td>Dian              </td><td>complete          </td><td>1970-01-02 8:08   </td><td>Phone             </td><td>                  </td><td>  NA              </td><td>NA                </td><td>NA                </td><td>NA                </td><td>NA                </td></tr>\n",
       "\t<tr><td>1                 </td><td>MakeTicket        </td><td>Dian              </td><td>start             </td><td>1970-01-02 8:08   </td><td>                  </td><td>                  </td><td>  NA              </td><td>NA                </td><td>NA                </td><td>NA                </td><td>NA                </td></tr>\n",
       "\t<tr><td>1                 </td><td>MakeTicket        </td><td>Dian              </td><td>complete          </td><td>1970-01-02 8:11   </td><td>                  </td><td>E                 </td><td>1340              </td><td>NA                </td><td>NA                </td><td>NA                </td><td>NA                </td></tr>\n",
       "\t<tr><td>1                 </td><td>ArrangeSurvey     </td><td>Dian              </td><td>start             </td><td>1970-01-02 8:11   </td><td>                  </td><td>                  </td><td>  NA              </td><td>NA                </td><td>NA                </td><td>NA                </td><td>NA                </td></tr>\n",
       "\t<tr><td>1                 </td><td>ArrangeSurvey     </td><td>Dian              </td><td>complete          </td><td>1970-01-02 8:16   </td><td>                  </td><td>                  </td><td>  NA              </td><td>NA                </td><td>NA                </td><td>NA                </td><td>NA                </td></tr>\n",
       "\t<tr><td>1                 </td><td>InformClientSurvey</td><td>System            </td><td>complete          </td><td>1970-01-02 8:16   </td><td>                  </td><td>                  </td><td>  NA              </td><td>NA                </td><td>NA                </td><td>NA                </td><td>NA                </td></tr>\n",
       "</tbody>\n",
       "</table>\n"
      ],
      "text/latex": [
       "\\begin{tabular}{r|llllllllllll}\n",
       " caseID & taskID & originator & eventtype & timestamp & contact & RepairType & objectKey & RepairInternally & EstimatedRepairTime & RepairCode & RepairOK\\\\\n",
       "\\hline\n",
       "\t 1                  & FirstContact       & Dian               & complete           & 1970-01-02 8:08    & Phone              &                    &   NA               & NA                 & NA                 & NA                 & NA                \\\\\n",
       "\t 1                  & MakeTicket         & Dian               & start              & 1970-01-02 8:08    &                    &                    &   NA               & NA                 & NA                 & NA                 & NA                \\\\\n",
       "\t 1                  & MakeTicket         & Dian               & complete           & 1970-01-02 8:11    &                    & E                  & 1340               & NA                 & NA                 & NA                 & NA                \\\\\n",
       "\t 1                  & ArrangeSurvey      & Dian               & start              & 1970-01-02 8:11    &                    &                    &   NA               & NA                 & NA                 & NA                 & NA                \\\\\n",
       "\t 1                  & ArrangeSurvey      & Dian               & complete           & 1970-01-02 8:16    &                    &                    &   NA               & NA                 & NA                 & NA                 & NA                \\\\\n",
       "\t 1                  & InformClientSurvey & System             & complete           & 1970-01-02 8:16    &                    &                    &   NA               & NA                 & NA                 & NA                 & NA                \\\\\n",
       "\\end{tabular}\n"
      ],
      "text/markdown": [
       "\n",
       "caseID | taskID | originator | eventtype | timestamp | contact | RepairType | objectKey | RepairInternally | EstimatedRepairTime | RepairCode | RepairOK | \n",
       "|---|---|---|---|---|---|\n",
       "| 1                  | FirstContact       | Dian               | complete           | 1970-01-02 8:08    | Phone              |                    |   NA               | NA                 | NA                 | NA                 | NA                 | \n",
       "| 1                  | MakeTicket         | Dian               | start              | 1970-01-02 8:08    |                    |                    |   NA               | NA                 | NA                 | NA                 | NA                 | \n",
       "| 1                  | MakeTicket         | Dian               | complete           | 1970-01-02 8:11    |                    | E                  | 1340               | NA                 | NA                 | NA                 | NA                 | \n",
       "| 1                  | ArrangeSurvey      | Dian               | start              | 1970-01-02 8:11    |                    |                    |   NA               | NA                 | NA                 | NA                 | NA                 | \n",
       "| 1                  | ArrangeSurvey      | Dian               | complete           | 1970-01-02 8:16    |                    |                    |   NA               | NA                 | NA                 | NA                 | NA                 | \n",
       "| 1                  | InformClientSurvey | System             | complete           | 1970-01-02 8:16    |                    |                    |   NA               | NA                 | NA                 | NA                 | NA                 | \n",
       "\n",
       "\n"
      ],
      "text/plain": [
       "  caseID taskID             originator eventtype timestamp       contact\n",
       "1 1      FirstContact       Dian       complete  1970-01-02 8:08 Phone  \n",
       "2 1      MakeTicket         Dian       start     1970-01-02 8:08        \n",
       "3 1      MakeTicket         Dian       complete  1970-01-02 8:11        \n",
       "4 1      ArrangeSurvey      Dian       start     1970-01-02 8:11        \n",
       "5 1      ArrangeSurvey      Dian       complete  1970-01-02 8:16        \n",
       "6 1      InformClientSurvey System     complete  1970-01-02 8:16        \n",
       "  RepairType objectKey RepairInternally EstimatedRepairTime RepairCode RepairOK\n",
       "1              NA      NA               NA                  NA         NA      \n",
       "2              NA      NA               NA                  NA         NA      \n",
       "3 E          1340      NA               NA                  NA         NA      \n",
       "4              NA      NA               NA                  NA         NA      \n",
       "5              NA      NA               NA                  NA         NA      \n",
       "6              NA      NA               NA                  NA         NA      "
      ]
     },
     "metadata": {},
     "output_type": "display_data"
    }
   ],
   "source": [
    "head(repair)"
   ]
  },
  {
   "cell_type": "code",
   "execution_count": 6,
   "metadata": {},
   "outputs": [
    {
     "data": {
      "text/html": [
       "<table>\n",
       "<thead><tr><th scope=col>caseID</th><th scope=col>taskID</th><th scope=col>originator</th><th scope=col>eventtype</th><th scope=col>timestamp</th><th scope=col>contact</th><th scope=col>RepairType</th><th scope=col>objectKey</th><th scope=col>RepairInternally</th><th scope=col>EstimatedRepairTime</th><th scope=col>RepairCode</th><th scope=col>RepairOK</th></tr></thead>\n",
       "<tbody>\n",
       "\t<tr><td>12                  </td><td>FirstContact        </td><td>Monica              </td><td>complete            </td><td>1970-01-02 18:15    </td><td>Personal            </td><td>                    </td><td>  NA                </td><td>  NA                </td><td> NA                 </td><td>NA                  </td><td>  NA                </td></tr>\n",
       "\t<tr><td>12                  </td><td>MakeTicket          </td><td>Monica              </td><td>start               </td><td>1970-01-02 18:15    </td><td>                    </td><td>                    </td><td>  NA                </td><td>  NA                </td><td> NA                 </td><td>NA                  </td><td>  NA                </td></tr>\n",
       "\t<tr><td>12                  </td><td>MakeTicket          </td><td>Monica              </td><td>complete            </td><td>1970-01-02 18:21    </td><td>                    </td><td>E                   </td><td>7195                </td><td>  NA                </td><td> NA                 </td><td>NA                  </td><td>  NA                </td></tr>\n",
       "\t<tr><td>12                  </td><td>ArrangeSurvey       </td><td>Monica              </td><td>start               </td><td>1970-01-02 18:21    </td><td>                    </td><td>                    </td><td>  NA                </td><td>  NA                </td><td> NA                 </td><td>NA                  </td><td>  NA                </td></tr>\n",
       "\t<tr><td>12                  </td><td>ArrangeSurvey       </td><td>Monica              </td><td>complete            </td><td>1970-01-02 18:24    </td><td>                    </td><td>                    </td><td>  NA                </td><td>  NA                </td><td> NA                 </td><td>NA                  </td><td>  NA                </td></tr>\n",
       "\t<tr><td>12                  </td><td>InformClientSurvey  </td><td>System              </td><td>complete            </td><td>1970-01-02 18:24    </td><td>                    </td><td>                    </td><td>  NA                </td><td>  NA                </td><td> NA                 </td><td>NA                  </td><td>  NA                </td></tr>\n",
       "\t<tr><td>12                  </td><td>Survey              </td><td>Edd                 </td><td>start               </td><td>1970-01-05 20:50    </td><td>                    </td><td>                    </td><td>  NA                </td><td>  NA                </td><td> NA                 </td><td>NA                  </td><td>  NA                </td></tr>\n",
       "\t<tr><td>12                  </td><td>Survey              </td><td>Edd                 </td><td>complete            </td><td>1970-01-05 21:41    </td><td>                    </td><td>                    </td><td>  NA                </td><td>TRUE                </td><td>240                 </td><td> 1                  </td><td>  NA                </td></tr>\n",
       "\t<tr><td>12                  </td><td>InternRepair        </td><td>Paul                </td><td>start               </td><td>1970-01-08 4:49     </td><td>                    </td><td>                    </td><td>  NA                </td><td>  NA                </td><td> NA                 </td><td>NA                  </td><td>  NA                </td></tr>\n",
       "\t<tr><td>12                  </td><td>InternRepair        </td><td>Paul                </td><td>complete            </td><td>1970-01-08 9:13     </td><td>                    </td><td>                    </td><td>  NA                </td><td>  NA                </td><td> NA                 </td><td>NA                  </td><td>  NA                </td></tr>\n",
       "\t<tr><td>12                  </td><td>InternRepair        </td><td>Cindy               </td><td>start               </td><td>1970-01-08 18:10    </td><td>                    </td><td>                    </td><td>  NA                </td><td>  NA                </td><td> NA                 </td><td>NA                  </td><td>  NA                </td></tr>\n",
       "\t<tr><td>12                  </td><td>InternRepair        </td><td>Cindy               </td><td>complete            </td><td>1970-01-08 22:10    </td><td>                    </td><td>                    </td><td>  NA                </td><td>  NA                </td><td> NA                 </td><td>NA                  </td><td>  NA                </td></tr>\n",
       "\t<tr><td>12                  </td><td>RepairReady         </td><td>System              </td><td>complete            </td><td>1970-01-08 22:10    </td><td>                    </td><td>                    </td><td>  NA                </td><td>  NA                </td><td> NA                 </td><td>NA                  </td><td>TRUE                </td></tr>\n",
       "\t<tr><td>12                  </td><td>ReadyInformClient   </td><td>System              </td><td>complete            </td><td>1970-01-09 1:00     </td><td>                    </td><td>                    </td><td>  NA                </td><td>  NA                </td><td> NA                 </td><td>NA                  </td><td>TRUE                </td></tr>\n",
       "\t<tr><td>12                  </td><td>SendTicketToFinAdmin</td><td>System              </td><td>complete            </td><td>1970-01-09 5:16     </td><td>                    </td><td>                    </td><td>  NA                </td><td>  NA                </td><td> NA                 </td><td>NA                  </td><td>  NA                </td></tr>\n",
       "\t<tr><td>12                  </td><td>TicketReady         </td><td>System              </td><td>complete            </td><td>1970-01-09 5:16     </td><td>                    </td><td>                    </td><td>  NA                </td><td>  NA                </td><td> NA                 </td><td>NA                  </td><td>  NA                </td></tr>\n",
       "</tbody>\n",
       "</table>\n"
      ],
      "text/latex": [
       "\\begin{tabular}{r|llllllllllll}\n",
       " caseID & taskID & originator & eventtype & timestamp & contact & RepairType & objectKey & RepairInternally & EstimatedRepairTime & RepairCode & RepairOK\\\\\n",
       "\\hline\n",
       "\t 12                   & FirstContact         & Monica               & complete             & 1970-01-02 18:15     & Personal             &                      &   NA                 &   NA                 &  NA                  & NA                   &   NA                \\\\\n",
       "\t 12                   & MakeTicket           & Monica               & start                & 1970-01-02 18:15     &                      &                      &   NA                 &   NA                 &  NA                  & NA                   &   NA                \\\\\n",
       "\t 12                   & MakeTicket           & Monica               & complete             & 1970-01-02 18:21     &                      & E                    & 7195                 &   NA                 &  NA                  & NA                   &   NA                \\\\\n",
       "\t 12                   & ArrangeSurvey        & Monica               & start                & 1970-01-02 18:21     &                      &                      &   NA                 &   NA                 &  NA                  & NA                   &   NA                \\\\\n",
       "\t 12                   & ArrangeSurvey        & Monica               & complete             & 1970-01-02 18:24     &                      &                      &   NA                 &   NA                 &  NA                  & NA                   &   NA                \\\\\n",
       "\t 12                   & InformClientSurvey   & System               & complete             & 1970-01-02 18:24     &                      &                      &   NA                 &   NA                 &  NA                  & NA                   &   NA                \\\\\n",
       "\t 12                   & Survey               & Edd                  & start                & 1970-01-05 20:50     &                      &                      &   NA                 &   NA                 &  NA                  & NA                   &   NA                \\\\\n",
       "\t 12                   & Survey               & Edd                  & complete             & 1970-01-05 21:41     &                      &                      &   NA                 & TRUE                 & 240                  &  1                   &   NA                \\\\\n",
       "\t 12                   & InternRepair         & Paul                 & start                & 1970-01-08 4:49      &                      &                      &   NA                 &   NA                 &  NA                  & NA                   &   NA                \\\\\n",
       "\t 12                   & InternRepair         & Paul                 & complete             & 1970-01-08 9:13      &                      &                      &   NA                 &   NA                 &  NA                  & NA                   &   NA                \\\\\n",
       "\t 12                   & InternRepair         & Cindy                & start                & 1970-01-08 18:10     &                      &                      &   NA                 &   NA                 &  NA                  & NA                   &   NA                \\\\\n",
       "\t 12                   & InternRepair         & Cindy                & complete             & 1970-01-08 22:10     &                      &                      &   NA                 &   NA                 &  NA                  & NA                   &   NA                \\\\\n",
       "\t 12                   & RepairReady          & System               & complete             & 1970-01-08 22:10     &                      &                      &   NA                 &   NA                 &  NA                  & NA                   & TRUE                \\\\\n",
       "\t 12                   & ReadyInformClient    & System               & complete             & 1970-01-09 1:00      &                      &                      &   NA                 &   NA                 &  NA                  & NA                   & TRUE                \\\\\n",
       "\t 12                   & SendTicketToFinAdmin & System               & complete             & 1970-01-09 5:16      &                      &                      &   NA                 &   NA                 &  NA                  & NA                   &   NA                \\\\\n",
       "\t 12                   & TicketReady          & System               & complete             & 1970-01-09 5:16      &                      &                      &   NA                 &   NA                 &  NA                  & NA                   &   NA                \\\\\n",
       "\\end{tabular}\n"
      ],
      "text/markdown": [
       "\n",
       "caseID | taskID | originator | eventtype | timestamp | contact | RepairType | objectKey | RepairInternally | EstimatedRepairTime | RepairCode | RepairOK | \n",
       "|---|---|---|---|---|---|---|---|---|---|---|---|---|---|---|---|\n",
       "| 12                   | FirstContact         | Monica               | complete             | 1970-01-02 18:15     | Personal             |                      |   NA                 |   NA                 |  NA                  | NA                   |   NA                 | \n",
       "| 12                   | MakeTicket           | Monica               | start                | 1970-01-02 18:15     |                      |                      |   NA                 |   NA                 |  NA                  | NA                   |   NA                 | \n",
       "| 12                   | MakeTicket           | Monica               | complete             | 1970-01-02 18:21     |                      | E                    | 7195                 |   NA                 |  NA                  | NA                   |   NA                 | \n",
       "| 12                   | ArrangeSurvey        | Monica               | start                | 1970-01-02 18:21     |                      |                      |   NA                 |   NA                 |  NA                  | NA                   |   NA                 | \n",
       "| 12                   | ArrangeSurvey        | Monica               | complete             | 1970-01-02 18:24     |                      |                      |   NA                 |   NA                 |  NA                  | NA                   |   NA                 | \n",
       "| 12                   | InformClientSurvey   | System               | complete             | 1970-01-02 18:24     |                      |                      |   NA                 |   NA                 |  NA                  | NA                   |   NA                 | \n",
       "| 12                   | Survey               | Edd                  | start                | 1970-01-05 20:50     |                      |                      |   NA                 |   NA                 |  NA                  | NA                   |   NA                 | \n",
       "| 12                   | Survey               | Edd                  | complete             | 1970-01-05 21:41     |                      |                      |   NA                 | TRUE                 | 240                  |  1                   |   NA                 | \n",
       "| 12                   | InternRepair         | Paul                 | start                | 1970-01-08 4:49      |                      |                      |   NA                 |   NA                 |  NA                  | NA                   |   NA                 | \n",
       "| 12                   | InternRepair         | Paul                 | complete             | 1970-01-08 9:13      |                      |                      |   NA                 |   NA                 |  NA                  | NA                   |   NA                 | \n",
       "| 12                   | InternRepair         | Cindy                | start                | 1970-01-08 18:10     |                      |                      |   NA                 |   NA                 |  NA                  | NA                   |   NA                 | \n",
       "| 12                   | InternRepair         | Cindy                | complete             | 1970-01-08 22:10     |                      |                      |   NA                 |   NA                 |  NA                  | NA                   |   NA                 | \n",
       "| 12                   | RepairReady          | System               | complete             | 1970-01-08 22:10     |                      |                      |   NA                 |   NA                 |  NA                  | NA                   | TRUE                 | \n",
       "| 12                   | ReadyInformClient    | System               | complete             | 1970-01-09 1:00      |                      |                      |   NA                 |   NA                 |  NA                  | NA                   | TRUE                 | \n",
       "| 12                   | SendTicketToFinAdmin | System               | complete             | 1970-01-09 5:16      |                      |                      |   NA                 |   NA                 |  NA                  | NA                   |   NA                 | \n",
       "| 12                   | TicketReady          | System               | complete             | 1970-01-09 5:16      |                      |                      |   NA                 |   NA                 |  NA                  | NA                   |   NA                 | \n",
       "\n",
       "\n"
      ],
      "text/plain": [
       "   caseID taskID               originator eventtype timestamp        contact \n",
       "1  12     FirstContact         Monica     complete  1970-01-02 18:15 Personal\n",
       "2  12     MakeTicket           Monica     start     1970-01-02 18:15         \n",
       "3  12     MakeTicket           Monica     complete  1970-01-02 18:21         \n",
       "4  12     ArrangeSurvey        Monica     start     1970-01-02 18:21         \n",
       "5  12     ArrangeSurvey        Monica     complete  1970-01-02 18:24         \n",
       "6  12     InformClientSurvey   System     complete  1970-01-02 18:24         \n",
       "7  12     Survey               Edd        start     1970-01-05 20:50         \n",
       "8  12     Survey               Edd        complete  1970-01-05 21:41         \n",
       "9  12     InternRepair         Paul       start     1970-01-08 4:49          \n",
       "10 12     InternRepair         Paul       complete  1970-01-08 9:13          \n",
       "11 12     InternRepair         Cindy      start     1970-01-08 18:10         \n",
       "12 12     InternRepair         Cindy      complete  1970-01-08 22:10         \n",
       "13 12     RepairReady          System     complete  1970-01-08 22:10         \n",
       "14 12     ReadyInformClient    System     complete  1970-01-09 1:00          \n",
       "15 12     SendTicketToFinAdmin System     complete  1970-01-09 5:16          \n",
       "16 12     TicketReady          System     complete  1970-01-09 5:16          \n",
       "   RepairType objectKey RepairInternally EstimatedRepairTime RepairCode\n",
       "1               NA        NA              NA                 NA        \n",
       "2               NA        NA              NA                 NA        \n",
       "3  E          7195        NA              NA                 NA        \n",
       "4               NA        NA              NA                 NA        \n",
       "5               NA        NA              NA                 NA        \n",
       "6               NA        NA              NA                 NA        \n",
       "7               NA        NA              NA                 NA        \n",
       "8               NA      TRUE             240                  1        \n",
       "9               NA        NA              NA                 NA        \n",
       "10              NA        NA              NA                 NA        \n",
       "11              NA        NA              NA                 NA        \n",
       "12              NA        NA              NA                 NA        \n",
       "13              NA        NA              NA                 NA        \n",
       "14              NA        NA              NA                 NA        \n",
       "15              NA        NA              NA                 NA        \n",
       "16              NA        NA              NA                 NA        \n",
       "   RepairOK\n",
       "1    NA    \n",
       "2    NA    \n",
       "3    NA    \n",
       "4    NA    \n",
       "5    NA    \n",
       "6    NA    \n",
       "7    NA    \n",
       "8    NA    \n",
       "9    NA    \n",
       "10   NA    \n",
       "11   NA    \n",
       "12   NA    \n",
       "13 TRUE    \n",
       "14 TRUE    \n",
       "15   NA    \n",
       "16   NA    "
      ]
     },
     "metadata": {},
     "output_type": "display_data"
    }
   ],
   "source": [
    "sqldf('SELECT * FROM repair WHERE caseID = 12')"
   ]
  },
  {
   "cell_type": "code",
   "execution_count": 7,
   "metadata": {},
   "outputs": [
    {
     "data": {
      "text/html": [
       "<table>\n",
       "<thead><tr><th scope=col>caseID</th><th scope=col>taskID</th><th scope=col>originator</th><th scope=col>eventtype</th><th scope=col>timestamp</th><th scope=col>contact</th><th scope=col>RepairType</th><th scope=col>objectKey</th><th scope=col>RepairInternally</th><th scope=col>EstimatedRepairTime</th><th scope=col>RepairCode</th><th scope=col>RepairOK</th></tr></thead>\n",
       "<tbody>\n",
       "\t<tr><td>39                  </td><td>FirstContact        </td><td>Dian                </td><td>complete            </td><td>1970-01-05 17:57    </td><td>Web                 </td><td>                    </td><td>  NA                </td><td>  NA                </td><td> NA                 </td><td>NA                  </td><td>  NA                </td></tr>\n",
       "\t<tr><td>39                  </td><td>MakeTicket          </td><td>Dian                </td><td>start               </td><td>1970-01-05 17:57    </td><td>                    </td><td>                    </td><td>  NA                </td><td>  NA                </td><td> NA                 </td><td>NA                  </td><td>  NA                </td></tr>\n",
       "\t<tr><td>39                  </td><td>MakeTicket          </td><td>Dian                </td><td>complete            </td><td>1970-01-05 18:02    </td><td>                    </td><td>E                   </td><td>1672                </td><td>  NA                </td><td> NA                 </td><td>NA                  </td><td>  NA                </td></tr>\n",
       "\t<tr><td>39                  </td><td>ArrangeSurvey       </td><td>Dian                </td><td>start               </td><td>1970-01-05 18:02    </td><td>                    </td><td>                    </td><td>  NA                </td><td>  NA                </td><td> NA                 </td><td>NA                  </td><td>  NA                </td></tr>\n",
       "\t<tr><td>39                  </td><td>ArrangeSurvey       </td><td>Dian                </td><td>complete            </td><td>1970-01-05 18:07    </td><td>                    </td><td>                    </td><td>  NA                </td><td>  NA                </td><td> NA                 </td><td>NA                  </td><td>  NA                </td></tr>\n",
       "\t<tr><td>39                  </td><td>InformClientSurvey  </td><td>System              </td><td>complete            </td><td>1970-01-05 18:07    </td><td>                    </td><td>                    </td><td>  NA                </td><td>  NA                </td><td> NA                 </td><td>NA                  </td><td>  NA                </td></tr>\n",
       "\t<tr><td>39                  </td><td>Survey              </td><td>Paul                </td><td>start               </td><td>1970-01-11 23:06    </td><td>                    </td><td>                    </td><td>  NA                </td><td>  NA                </td><td> NA                 </td><td>NA                  </td><td>  NA                </td></tr>\n",
       "\t<tr><td>39                  </td><td>Survey              </td><td>Paul                </td><td>complete            </td><td>1970-01-11 23:22    </td><td>                    </td><td>                    </td><td>  NA                </td><td>TRUE                </td><td>240                 </td><td> 1                  </td><td>  NA                </td></tr>\n",
       "\t<tr><td>39                  </td><td>InternRepair        </td><td>Paul                </td><td>start               </td><td>1970-01-18 21:37    </td><td>                    </td><td>                    </td><td>  NA                </td><td>  NA                </td><td> NA                 </td><td>NA                  </td><td>  NA                </td></tr>\n",
       "\t<tr><td>39                  </td><td>InternRepair        </td><td>Paul                </td><td>complete            </td><td>1970-01-19 2:01     </td><td>                    </td><td>                    </td><td>  NA                </td><td>  NA                </td><td> NA                 </td><td>NA                  </td><td>  NA                </td></tr>\n",
       "\t<tr><td>39                  </td><td>InternRepair        </td><td>Edd                 </td><td>start               </td><td>1970-01-19 13:23    </td><td>                    </td><td>                    </td><td>  NA                </td><td>  NA                </td><td> NA                 </td><td>NA                  </td><td>  NA                </td></tr>\n",
       "\t<tr><td>39                  </td><td>InternRepair        </td><td>Edd                 </td><td>complete            </td><td>1970-01-19 16:59    </td><td>                    </td><td>                    </td><td>  NA                </td><td>  NA                </td><td> NA                 </td><td>NA                  </td><td>  NA                </td></tr>\n",
       "\t<tr><td>39                  </td><td>RepairReady         </td><td>System              </td><td>complete            </td><td>1970-01-19 16:59    </td><td>                    </td><td>                    </td><td>  NA                </td><td>  NA                </td><td> NA                 </td><td>NA                  </td><td>TRUE                </td></tr>\n",
       "\t<tr><td>39                  </td><td>ReadyInformClient   </td><td>System              </td><td>complete            </td><td>1970-01-19 17:21    </td><td>                    </td><td>                    </td><td>  NA                </td><td>  NA                </td><td> NA                 </td><td>NA                  </td><td>TRUE                </td></tr>\n",
       "\t<tr><td>39                  </td><td>SendTicketToFinAdmin</td><td>System              </td><td>complete            </td><td>1970-01-19 20:31    </td><td>                    </td><td>                    </td><td>  NA                </td><td>  NA                </td><td> NA                 </td><td>NA                  </td><td>  NA                </td></tr>\n",
       "\t<tr><td>39                  </td><td>TicketReady         </td><td>System              </td><td>complete            </td><td>1970-01-19 20:31    </td><td>                    </td><td>                    </td><td>  NA                </td><td>  NA                </td><td> NA                 </td><td>NA                  </td><td>  NA                </td></tr>\n",
       "</tbody>\n",
       "</table>\n"
      ],
      "text/latex": [
       "\\begin{tabular}{r|llllllllllll}\n",
       " caseID & taskID & originator & eventtype & timestamp & contact & RepairType & objectKey & RepairInternally & EstimatedRepairTime & RepairCode & RepairOK\\\\\n",
       "\\hline\n",
       "\t 39                   & FirstContact         & Dian                 & complete             & 1970-01-05 17:57     & Web                  &                      &   NA                 &   NA                 &  NA                  & NA                   &   NA                \\\\\n",
       "\t 39                   & MakeTicket           & Dian                 & start                & 1970-01-05 17:57     &                      &                      &   NA                 &   NA                 &  NA                  & NA                   &   NA                \\\\\n",
       "\t 39                   & MakeTicket           & Dian                 & complete             & 1970-01-05 18:02     &                      & E                    & 1672                 &   NA                 &  NA                  & NA                   &   NA                \\\\\n",
       "\t 39                   & ArrangeSurvey        & Dian                 & start                & 1970-01-05 18:02     &                      &                      &   NA                 &   NA                 &  NA                  & NA                   &   NA                \\\\\n",
       "\t 39                   & ArrangeSurvey        & Dian                 & complete             & 1970-01-05 18:07     &                      &                      &   NA                 &   NA                 &  NA                  & NA                   &   NA                \\\\\n",
       "\t 39                   & InformClientSurvey   & System               & complete             & 1970-01-05 18:07     &                      &                      &   NA                 &   NA                 &  NA                  & NA                   &   NA                \\\\\n",
       "\t 39                   & Survey               & Paul                 & start                & 1970-01-11 23:06     &                      &                      &   NA                 &   NA                 &  NA                  & NA                   &   NA                \\\\\n",
       "\t 39                   & Survey               & Paul                 & complete             & 1970-01-11 23:22     &                      &                      &   NA                 & TRUE                 & 240                  &  1                   &   NA                \\\\\n",
       "\t 39                   & InternRepair         & Paul                 & start                & 1970-01-18 21:37     &                      &                      &   NA                 &   NA                 &  NA                  & NA                   &   NA                \\\\\n",
       "\t 39                   & InternRepair         & Paul                 & complete             & 1970-01-19 2:01      &                      &                      &   NA                 &   NA                 &  NA                  & NA                   &   NA                \\\\\n",
       "\t 39                   & InternRepair         & Edd                  & start                & 1970-01-19 13:23     &                      &                      &   NA                 &   NA                 &  NA                  & NA                   &   NA                \\\\\n",
       "\t 39                   & InternRepair         & Edd                  & complete             & 1970-01-19 16:59     &                      &                      &   NA                 &   NA                 &  NA                  & NA                   &   NA                \\\\\n",
       "\t 39                   & RepairReady          & System               & complete             & 1970-01-19 16:59     &                      &                      &   NA                 &   NA                 &  NA                  & NA                   & TRUE                \\\\\n",
       "\t 39                   & ReadyInformClient    & System               & complete             & 1970-01-19 17:21     &                      &                      &   NA                 &   NA                 &  NA                  & NA                   & TRUE                \\\\\n",
       "\t 39                   & SendTicketToFinAdmin & System               & complete             & 1970-01-19 20:31     &                      &                      &   NA                 &   NA                 &  NA                  & NA                   &   NA                \\\\\n",
       "\t 39                   & TicketReady          & System               & complete             & 1970-01-19 20:31     &                      &                      &   NA                 &   NA                 &  NA                  & NA                   &   NA                \\\\\n",
       "\\end{tabular}\n"
      ],
      "text/markdown": [
       "\n",
       "caseID | taskID | originator | eventtype | timestamp | contact | RepairType | objectKey | RepairInternally | EstimatedRepairTime | RepairCode | RepairOK | \n",
       "|---|---|---|---|---|---|---|---|---|---|---|---|---|---|---|---|\n",
       "| 39                   | FirstContact         | Dian                 | complete             | 1970-01-05 17:57     | Web                  |                      |   NA                 |   NA                 |  NA                  | NA                   |   NA                 | \n",
       "| 39                   | MakeTicket           | Dian                 | start                | 1970-01-05 17:57     |                      |                      |   NA                 |   NA                 |  NA                  | NA                   |   NA                 | \n",
       "| 39                   | MakeTicket           | Dian                 | complete             | 1970-01-05 18:02     |                      | E                    | 1672                 |   NA                 |  NA                  | NA                   |   NA                 | \n",
       "| 39                   | ArrangeSurvey        | Dian                 | start                | 1970-01-05 18:02     |                      |                      |   NA                 |   NA                 |  NA                  | NA                   |   NA                 | \n",
       "| 39                   | ArrangeSurvey        | Dian                 | complete             | 1970-01-05 18:07     |                      |                      |   NA                 |   NA                 |  NA                  | NA                   |   NA                 | \n",
       "| 39                   | InformClientSurvey   | System               | complete             | 1970-01-05 18:07     |                      |                      |   NA                 |   NA                 |  NA                  | NA                   |   NA                 | \n",
       "| 39                   | Survey               | Paul                 | start                | 1970-01-11 23:06     |                      |                      |   NA                 |   NA                 |  NA                  | NA                   |   NA                 | \n",
       "| 39                   | Survey               | Paul                 | complete             | 1970-01-11 23:22     |                      |                      |   NA                 | TRUE                 | 240                  |  1                   |   NA                 | \n",
       "| 39                   | InternRepair         | Paul                 | start                | 1970-01-18 21:37     |                      |                      |   NA                 |   NA                 |  NA                  | NA                   |   NA                 | \n",
       "| 39                   | InternRepair         | Paul                 | complete             | 1970-01-19 2:01      |                      |                      |   NA                 |   NA                 |  NA                  | NA                   |   NA                 | \n",
       "| 39                   | InternRepair         | Edd                  | start                | 1970-01-19 13:23     |                      |                      |   NA                 |   NA                 |  NA                  | NA                   |   NA                 | \n",
       "| 39                   | InternRepair         | Edd                  | complete             | 1970-01-19 16:59     |                      |                      |   NA                 |   NA                 |  NA                  | NA                   |   NA                 | \n",
       "| 39                   | RepairReady          | System               | complete             | 1970-01-19 16:59     |                      |                      |   NA                 |   NA                 |  NA                  | NA                   | TRUE                 | \n",
       "| 39                   | ReadyInformClient    | System               | complete             | 1970-01-19 17:21     |                      |                      |   NA                 |   NA                 |  NA                  | NA                   | TRUE                 | \n",
       "| 39                   | SendTicketToFinAdmin | System               | complete             | 1970-01-19 20:31     |                      |                      |   NA                 |   NA                 |  NA                  | NA                   |   NA                 | \n",
       "| 39                   | TicketReady          | System               | complete             | 1970-01-19 20:31     |                      |                      |   NA                 |   NA                 |  NA                  | NA                   |   NA                 | \n",
       "\n",
       "\n"
      ],
      "text/plain": [
       "   caseID taskID               originator eventtype timestamp        contact\n",
       "1  39     FirstContact         Dian       complete  1970-01-05 17:57 Web    \n",
       "2  39     MakeTicket           Dian       start     1970-01-05 17:57        \n",
       "3  39     MakeTicket           Dian       complete  1970-01-05 18:02        \n",
       "4  39     ArrangeSurvey        Dian       start     1970-01-05 18:02        \n",
       "5  39     ArrangeSurvey        Dian       complete  1970-01-05 18:07        \n",
       "6  39     InformClientSurvey   System     complete  1970-01-05 18:07        \n",
       "7  39     Survey               Paul       start     1970-01-11 23:06        \n",
       "8  39     Survey               Paul       complete  1970-01-11 23:22        \n",
       "9  39     InternRepair         Paul       start     1970-01-18 21:37        \n",
       "10 39     InternRepair         Paul       complete  1970-01-19 2:01         \n",
       "11 39     InternRepair         Edd        start     1970-01-19 13:23        \n",
       "12 39     InternRepair         Edd        complete  1970-01-19 16:59        \n",
       "13 39     RepairReady          System     complete  1970-01-19 16:59        \n",
       "14 39     ReadyInformClient    System     complete  1970-01-19 17:21        \n",
       "15 39     SendTicketToFinAdmin System     complete  1970-01-19 20:31        \n",
       "16 39     TicketReady          System     complete  1970-01-19 20:31        \n",
       "   RepairType objectKey RepairInternally EstimatedRepairTime RepairCode\n",
       "1               NA        NA              NA                 NA        \n",
       "2               NA        NA              NA                 NA        \n",
       "3  E          1672        NA              NA                 NA        \n",
       "4               NA        NA              NA                 NA        \n",
       "5               NA        NA              NA                 NA        \n",
       "6               NA        NA              NA                 NA        \n",
       "7               NA        NA              NA                 NA        \n",
       "8               NA      TRUE             240                  1        \n",
       "9               NA        NA              NA                 NA        \n",
       "10              NA        NA              NA                 NA        \n",
       "11              NA        NA              NA                 NA        \n",
       "12              NA        NA              NA                 NA        \n",
       "13              NA        NA              NA                 NA        \n",
       "14              NA        NA              NA                 NA        \n",
       "15              NA        NA              NA                 NA        \n",
       "16              NA        NA              NA                 NA        \n",
       "   RepairOK\n",
       "1    NA    \n",
       "2    NA    \n",
       "3    NA    \n",
       "4    NA    \n",
       "5    NA    \n",
       "6    NA    \n",
       "7    NA    \n",
       "8    NA    \n",
       "9    NA    \n",
       "10   NA    \n",
       "11   NA    \n",
       "12   NA    \n",
       "13 TRUE    \n",
       "14 TRUE    \n",
       "15   NA    \n",
       "16   NA    "
      ]
     },
     "metadata": {},
     "output_type": "display_data"
    }
   ],
   "source": [
    "sqldf('SELECT * FROM repair WHERE caseID = 39')"
   ]
  },
  {
   "cell_type": "code",
   "execution_count": 8,
   "metadata": {},
   "outputs": [
    {
     "data": {
      "text/html": [
       "<table>\n",
       "<thead><tr><th scope=col>caseID</th><th scope=col>taskID</th><th scope=col>originator</th><th scope=col>eventtype</th><th scope=col>timestamp</th><th scope=col>contact</th><th scope=col>RepairType</th><th scope=col>objectKey</th><th scope=col>RepairInternally</th><th scope=col>EstimatedRepairTime</th><th scope=col>RepairCode</th><th scope=col>RepairOK</th></tr></thead>\n",
       "<tbody>\n",
       "\t<tr><td>52                  </td><td>FirstContact        </td><td>Dian                </td><td>complete            </td><td>1970-01-01 20:43    </td><td>Phone               </td><td>                    </td><td>  NA                </td><td>  NA                </td><td> NA                 </td><td>NA                  </td><td>  NA                </td></tr>\n",
       "\t<tr><td>52                  </td><td>MakeTicket          </td><td>Dian                </td><td>start               </td><td>1970-01-01 20:43    </td><td>                    </td><td>                    </td><td>  NA                </td><td>  NA                </td><td> NA                 </td><td>NA                  </td><td>  NA                </td></tr>\n",
       "\t<tr><td>52                  </td><td>MakeTicket          </td><td>Dian                </td><td>complete            </td><td>1970-01-01 20:49    </td><td>                    </td><td>E                   </td><td>2059                </td><td>  NA                </td><td> NA                 </td><td>NA                  </td><td>  NA                </td></tr>\n",
       "\t<tr><td>52                  </td><td>ArrangeSurvey       </td><td>Dian                </td><td>start               </td><td>1970-01-01 20:49    </td><td>                    </td><td>                    </td><td>  NA                </td><td>  NA                </td><td> NA                 </td><td>NA                  </td><td>  NA                </td></tr>\n",
       "\t<tr><td>52                  </td><td>ArrangeSurvey       </td><td>Dian                </td><td>complete            </td><td>1970-01-01 20:54    </td><td>                    </td><td>                    </td><td>  NA                </td><td>  NA                </td><td> NA                 </td><td>NA                  </td><td>  NA                </td></tr>\n",
       "\t<tr><td>52                  </td><td>InformClientSurvey  </td><td>System              </td><td>complete            </td><td>1970-01-01 20:54    </td><td>                    </td><td>                    </td><td>  NA                </td><td>  NA                </td><td> NA                 </td><td>NA                  </td><td>  NA                </td></tr>\n",
       "\t<tr><td>52                  </td><td>Survey              </td><td>Cindy               </td><td>start               </td><td>1970-01-01 22:10    </td><td>                    </td><td>                    </td><td>  NA                </td><td>  NA                </td><td> NA                 </td><td>NA                  </td><td>  NA                </td></tr>\n",
       "\t<tr><td>52                  </td><td>Survey              </td><td>Cindy               </td><td>complete            </td><td>1970-01-01 23:01    </td><td>                    </td><td>                    </td><td>  NA                </td><td>TRUE                </td><td>220                 </td><td> 2                  </td><td>  NA                </td></tr>\n",
       "\t<tr><td>52                  </td><td>InternRepair        </td><td>Cindy               </td><td>start               </td><td>1970-01-01 23:01    </td><td>                    </td><td>                    </td><td>  NA                </td><td>  NA                </td><td> NA                 </td><td>NA                  </td><td>  NA                </td></tr>\n",
       "\t<tr><td>52                  </td><td>InternRepair        </td><td>Cindy               </td><td>complete            </td><td>1970-01-02 2:41     </td><td>                    </td><td>                    </td><td>  NA                </td><td>  NA                </td><td> NA                 </td><td>NA                  </td><td>  NA                </td></tr>\n",
       "\t<tr><td>52                  </td><td>InternRepair        </td><td>Cindy               </td><td>start               </td><td>1970-01-02 2:41     </td><td>                    </td><td>                    </td><td>  NA                </td><td>  NA                </td><td> NA                 </td><td>NA                  </td><td>  NA                </td></tr>\n",
       "\t<tr><td>52                  </td><td>InternRepair        </td><td>Cindy               </td><td>complete            </td><td>1970-01-02 6:43     </td><td>                    </td><td>                    </td><td>  NA                </td><td>  NA                </td><td> NA                 </td><td>NA                  </td><td>  NA                </td></tr>\n",
       "\t<tr><td>52                  </td><td>RepairReady         </td><td>System              </td><td>complete            </td><td>1970-01-02 6:43     </td><td>                    </td><td>                    </td><td>  NA                </td><td>  NA                </td><td> NA                 </td><td>NA                  </td><td>TRUE                </td></tr>\n",
       "\t<tr><td>52                  </td><td>ReadyInformClient   </td><td>System              </td><td>complete            </td><td>1970-01-02 8:11     </td><td>                    </td><td>                    </td><td>  NA                </td><td>  NA                </td><td> NA                 </td><td>NA                  </td><td>TRUE                </td></tr>\n",
       "\t<tr><td>52                  </td><td>SendTicketToFinAdmin</td><td>System              </td><td>complete            </td><td>1970-01-02 11:10    </td><td>                    </td><td>                    </td><td>  NA                </td><td>  NA                </td><td> NA                 </td><td>NA                  </td><td>  NA                </td></tr>\n",
       "\t<tr><td>52                  </td><td>TicketReady         </td><td>System              </td><td>complete            </td><td>1970-01-02 11:10    </td><td>                    </td><td>                    </td><td>  NA                </td><td>  NA                </td><td> NA                 </td><td>NA                  </td><td>  NA                </td></tr>\n",
       "</tbody>\n",
       "</table>\n"
      ],
      "text/latex": [
       "\\begin{tabular}{r|llllllllllll}\n",
       " caseID & taskID & originator & eventtype & timestamp & contact & RepairType & objectKey & RepairInternally & EstimatedRepairTime & RepairCode & RepairOK\\\\\n",
       "\\hline\n",
       "\t 52                   & FirstContact         & Dian                 & complete             & 1970-01-01 20:43     & Phone                &                      &   NA                 &   NA                 &  NA                  & NA                   &   NA                \\\\\n",
       "\t 52                   & MakeTicket           & Dian                 & start                & 1970-01-01 20:43     &                      &                      &   NA                 &   NA                 &  NA                  & NA                   &   NA                \\\\\n",
       "\t 52                   & MakeTicket           & Dian                 & complete             & 1970-01-01 20:49     &                      & E                    & 2059                 &   NA                 &  NA                  & NA                   &   NA                \\\\\n",
       "\t 52                   & ArrangeSurvey        & Dian                 & start                & 1970-01-01 20:49     &                      &                      &   NA                 &   NA                 &  NA                  & NA                   &   NA                \\\\\n",
       "\t 52                   & ArrangeSurvey        & Dian                 & complete             & 1970-01-01 20:54     &                      &                      &   NA                 &   NA                 &  NA                  & NA                   &   NA                \\\\\n",
       "\t 52                   & InformClientSurvey   & System               & complete             & 1970-01-01 20:54     &                      &                      &   NA                 &   NA                 &  NA                  & NA                   &   NA                \\\\\n",
       "\t 52                   & Survey               & Cindy                & start                & 1970-01-01 22:10     &                      &                      &   NA                 &   NA                 &  NA                  & NA                   &   NA                \\\\\n",
       "\t 52                   & Survey               & Cindy                & complete             & 1970-01-01 23:01     &                      &                      &   NA                 & TRUE                 & 220                  &  2                   &   NA                \\\\\n",
       "\t 52                   & InternRepair         & Cindy                & start                & 1970-01-01 23:01     &                      &                      &   NA                 &   NA                 &  NA                  & NA                   &   NA                \\\\\n",
       "\t 52                   & InternRepair         & Cindy                & complete             & 1970-01-02 2:41      &                      &                      &   NA                 &   NA                 &  NA                  & NA                   &   NA                \\\\\n",
       "\t 52                   & InternRepair         & Cindy                & start                & 1970-01-02 2:41      &                      &                      &   NA                 &   NA                 &  NA                  & NA                   &   NA                \\\\\n",
       "\t 52                   & InternRepair         & Cindy                & complete             & 1970-01-02 6:43      &                      &                      &   NA                 &   NA                 &  NA                  & NA                   &   NA                \\\\\n",
       "\t 52                   & RepairReady          & System               & complete             & 1970-01-02 6:43      &                      &                      &   NA                 &   NA                 &  NA                  & NA                   & TRUE                \\\\\n",
       "\t 52                   & ReadyInformClient    & System               & complete             & 1970-01-02 8:11      &                      &                      &   NA                 &   NA                 &  NA                  & NA                   & TRUE                \\\\\n",
       "\t 52                   & SendTicketToFinAdmin & System               & complete             & 1970-01-02 11:10     &                      &                      &   NA                 &   NA                 &  NA                  & NA                   &   NA                \\\\\n",
       "\t 52                   & TicketReady          & System               & complete             & 1970-01-02 11:10     &                      &                      &   NA                 &   NA                 &  NA                  & NA                   &   NA                \\\\\n",
       "\\end{tabular}\n"
      ],
      "text/markdown": [
       "\n",
       "caseID | taskID | originator | eventtype | timestamp | contact | RepairType | objectKey | RepairInternally | EstimatedRepairTime | RepairCode | RepairOK | \n",
       "|---|---|---|---|---|---|---|---|---|---|---|---|---|---|---|---|\n",
       "| 52                   | FirstContact         | Dian                 | complete             | 1970-01-01 20:43     | Phone                |                      |   NA                 |   NA                 |  NA                  | NA                   |   NA                 | \n",
       "| 52                   | MakeTicket           | Dian                 | start                | 1970-01-01 20:43     |                      |                      |   NA                 |   NA                 |  NA                  | NA                   |   NA                 | \n",
       "| 52                   | MakeTicket           | Dian                 | complete             | 1970-01-01 20:49     |                      | E                    | 2059                 |   NA                 |  NA                  | NA                   |   NA                 | \n",
       "| 52                   | ArrangeSurvey        | Dian                 | start                | 1970-01-01 20:49     |                      |                      |   NA                 |   NA                 |  NA                  | NA                   |   NA                 | \n",
       "| 52                   | ArrangeSurvey        | Dian                 | complete             | 1970-01-01 20:54     |                      |                      |   NA                 |   NA                 |  NA                  | NA                   |   NA                 | \n",
       "| 52                   | InformClientSurvey   | System               | complete             | 1970-01-01 20:54     |                      |                      |   NA                 |   NA                 |  NA                  | NA                   |   NA                 | \n",
       "| 52                   | Survey               | Cindy                | start                | 1970-01-01 22:10     |                      |                      |   NA                 |   NA                 |  NA                  | NA                   |   NA                 | \n",
       "| 52                   | Survey               | Cindy                | complete             | 1970-01-01 23:01     |                      |                      |   NA                 | TRUE                 | 220                  |  2                   |   NA                 | \n",
       "| 52                   | InternRepair         | Cindy                | start                | 1970-01-01 23:01     |                      |                      |   NA                 |   NA                 |  NA                  | NA                   |   NA                 | \n",
       "| 52                   | InternRepair         | Cindy                | complete             | 1970-01-02 2:41      |                      |                      |   NA                 |   NA                 |  NA                  | NA                   |   NA                 | \n",
       "| 52                   | InternRepair         | Cindy                | start                | 1970-01-02 2:41      |                      |                      |   NA                 |   NA                 |  NA                  | NA                   |   NA                 | \n",
       "| 52                   | InternRepair         | Cindy                | complete             | 1970-01-02 6:43      |                      |                      |   NA                 |   NA                 |  NA                  | NA                   |   NA                 | \n",
       "| 52                   | RepairReady          | System               | complete             | 1970-01-02 6:43      |                      |                      |   NA                 |   NA                 |  NA                  | NA                   | TRUE                 | \n",
       "| 52                   | ReadyInformClient    | System               | complete             | 1970-01-02 8:11      |                      |                      |   NA                 |   NA                 |  NA                  | NA                   | TRUE                 | \n",
       "| 52                   | SendTicketToFinAdmin | System               | complete             | 1970-01-02 11:10     |                      |                      |   NA                 |   NA                 |  NA                  | NA                   |   NA                 | \n",
       "| 52                   | TicketReady          | System               | complete             | 1970-01-02 11:10     |                      |                      |   NA                 |   NA                 |  NA                  | NA                   |   NA                 | \n",
       "\n",
       "\n"
      ],
      "text/plain": [
       "   caseID taskID               originator eventtype timestamp        contact\n",
       "1  52     FirstContact         Dian       complete  1970-01-01 20:43 Phone  \n",
       "2  52     MakeTicket           Dian       start     1970-01-01 20:43        \n",
       "3  52     MakeTicket           Dian       complete  1970-01-01 20:49        \n",
       "4  52     ArrangeSurvey        Dian       start     1970-01-01 20:49        \n",
       "5  52     ArrangeSurvey        Dian       complete  1970-01-01 20:54        \n",
       "6  52     InformClientSurvey   System     complete  1970-01-01 20:54        \n",
       "7  52     Survey               Cindy      start     1970-01-01 22:10        \n",
       "8  52     Survey               Cindy      complete  1970-01-01 23:01        \n",
       "9  52     InternRepair         Cindy      start     1970-01-01 23:01        \n",
       "10 52     InternRepair         Cindy      complete  1970-01-02 2:41         \n",
       "11 52     InternRepair         Cindy      start     1970-01-02 2:41         \n",
       "12 52     InternRepair         Cindy      complete  1970-01-02 6:43         \n",
       "13 52     RepairReady          System     complete  1970-01-02 6:43         \n",
       "14 52     ReadyInformClient    System     complete  1970-01-02 8:11         \n",
       "15 52     SendTicketToFinAdmin System     complete  1970-01-02 11:10        \n",
       "16 52     TicketReady          System     complete  1970-01-02 11:10        \n",
       "   RepairType objectKey RepairInternally EstimatedRepairTime RepairCode\n",
       "1               NA        NA              NA                 NA        \n",
       "2               NA        NA              NA                 NA        \n",
       "3  E          2059        NA              NA                 NA        \n",
       "4               NA        NA              NA                 NA        \n",
       "5               NA        NA              NA                 NA        \n",
       "6               NA        NA              NA                 NA        \n",
       "7               NA        NA              NA                 NA        \n",
       "8               NA      TRUE             220                  2        \n",
       "9               NA        NA              NA                 NA        \n",
       "10              NA        NA              NA                 NA        \n",
       "11              NA        NA              NA                 NA        \n",
       "12              NA        NA              NA                 NA        \n",
       "13              NA        NA              NA                 NA        \n",
       "14              NA        NA              NA                 NA        \n",
       "15              NA        NA              NA                 NA        \n",
       "16              NA        NA              NA                 NA        \n",
       "   RepairOK\n",
       "1    NA    \n",
       "2    NA    \n",
       "3    NA    \n",
       "4    NA    \n",
       "5    NA    \n",
       "6    NA    \n",
       "7    NA    \n",
       "8    NA    \n",
       "9    NA    \n",
       "10   NA    \n",
       "11   NA    \n",
       "12   NA    \n",
       "13 TRUE    \n",
       "14 TRUE    \n",
       "15   NA    \n",
       "16   NA    "
      ]
     },
     "metadata": {},
     "output_type": "display_data"
    }
   ],
   "source": [
    "sqldf('SELECT * FROM repair WHERE caseID = 52')"
   ]
  },
  {
   "cell_type": "code",
   "execution_count": 12,
   "metadata": {},
   "outputs": [
    {
     "ename": "ERROR",
     "evalue": "Error in rsqlite_send_query(conn@ptr, statement): no such table: InternRepair\n",
     "output_type": "error",
     "traceback": [
      "Error in rsqlite_send_query(conn@ptr, statement): no such table: InternRepair\nTraceback:\n",
      "1. sqldf(\"SELECT * FROM repair WHERE caseID = (SELECT caseID FROM repair WHERE taskID in \\\"InternRepair\\\" GROUP BY caseID, taskID Having COUNT(*) > 3)\")",
      "2. dbGetQuery(connection, xi)",
      "3. dbGetQuery(connection, xi)",
      "4. .local(conn, statement, ...)",
      "5. dbSendQuery(conn, statement, ...)",
      "6. dbSendQuery(conn, statement, ...)",
      "7. .local(conn, statement, ...)",
      "8. new(\"SQLiteResult\", sql = statement, ptr = rsqlite_send_query(conn@ptr, \n .     statement), conn = conn)",
      "9. initialize(value, ...)",
      "10. initialize(value, ...)",
      "11. rsqlite_send_query(conn@ptr, statement)"
     ]
    }
   ],
   "source": [
    "sqldf('SELECT * FROM repair WHERE caseID = (SELECT caseID FROM repair WHERE taskID  \"InternRepair\" GROUP BY caseID, taskID Having COUNT(*) > 3)')"
   ]
  },
  {
   "cell_type": "code",
   "execution_count": 14,
   "metadata": {},
   "outputs": [
    {
     "data": {
      "text/html": [
       "<table>\n",
       "<thead><tr><th scope=col>caseID</th><th scope=col>taskID</th><th scope=col>originator</th><th scope=col>eventtype</th><th scope=col>timestamp</th><th scope=col>contact</th><th scope=col>RepairType</th><th scope=col>objectKey</th><th scope=col>RepairInternally</th><th scope=col>EstimatedRepairTime</th><th scope=col>RepairCode</th><th scope=col>RepairOK</th></tr></thead>\n",
       "<tbody>\n",
       "\t<tr><td>41                  </td><td>FirstContact        </td><td>Dian                </td><td>complete            </td><td>1970-01-01 15:15    </td><td>Phone               </td><td>                    </td><td>  NA                </td><td>  NA                </td><td> NA                 </td><td>NA                  </td><td>  NA                </td></tr>\n",
       "\t<tr><td>41                  </td><td>MakeTicket          </td><td>Dian                </td><td>start               </td><td>1970-01-01 15:15    </td><td>                    </td><td>                    </td><td>  NA                </td><td>  NA                </td><td> NA                 </td><td>NA                  </td><td>  NA                </td></tr>\n",
       "\t<tr><td>41                  </td><td>MakeTicket          </td><td>Dian                </td><td>complete            </td><td>1970-01-01 15:21    </td><td>                    </td><td>P                   </td><td>6789                </td><td>  NA                </td><td> NA                 </td><td>NA                  </td><td>  NA                </td></tr>\n",
       "\t<tr><td>41                  </td><td>ArrangeSurvey       </td><td>Dian                </td><td>start               </td><td>1970-01-01 15:21    </td><td>                    </td><td>                    </td><td>  NA                </td><td>  NA                </td><td> NA                 </td><td>NA                  </td><td>  NA                </td></tr>\n",
       "\t<tr><td>41                  </td><td>ArrangeSurvey       </td><td>Dian                </td><td>complete            </td><td>1970-01-01 15:25    </td><td>                    </td><td>                    </td><td>  NA                </td><td>  NA                </td><td> NA                 </td><td>NA                  </td><td>  NA                </td></tr>\n",
       "\t<tr><td>41                  </td><td>InformClientSurvey  </td><td>System              </td><td>complete            </td><td>1970-01-01 15:25    </td><td>                    </td><td>                    </td><td>  NA                </td><td>  NA                </td><td> NA                 </td><td>NA                  </td><td>  NA                </td></tr>\n",
       "\t<tr><td>41                  </td><td>Survey              </td><td>Anne                </td><td>start               </td><td>1970-01-01 16:45    </td><td>                    </td><td>                    </td><td>  NA                </td><td>  NA                </td><td> NA                 </td><td>NA                  </td><td>  NA                </td></tr>\n",
       "\t<tr><td>41                  </td><td>Survey              </td><td>Anne                </td><td>complete            </td><td>1970-01-01 17:35    </td><td>                    </td><td>                    </td><td>  NA                </td><td>TRUE                </td><td>120                 </td><td> 3                  </td><td>  NA                </td></tr>\n",
       "\t<tr><td>41                  </td><td>ImmediateRepair     </td><td>Anne                </td><td>start               </td><td>1970-01-01 17:35    </td><td>                    </td><td>                    </td><td>  NA                </td><td>  NA                </td><td> NA                 </td><td>NA                  </td><td>  NA                </td></tr>\n",
       "\t<tr><td>41                  </td><td>ImmediateRepair     </td><td>Anne                </td><td>complete            </td><td>1970-01-01 19:35    </td><td>                    </td><td>                    </td><td>  NA                </td><td>  NA                </td><td> NA                 </td><td>NA                  </td><td>  NA                </td></tr>\n",
       "\t<tr><td>41                  </td><td>InternRepair        </td><td>Jacky               </td><td>start               </td><td>1970-01-01 20:47    </td><td>                    </td><td>                    </td><td>  NA                </td><td>  NA                </td><td> NA                 </td><td>NA                  </td><td>  NA                </td></tr>\n",
       "\t<tr><td>41                  </td><td>InternRepair        </td><td>Jacky               </td><td>complete            </td><td>1970-01-01 22:47    </td><td>                    </td><td>                    </td><td>  NA                </td><td>  NA                </td><td> NA                 </td><td>NA                  </td><td>  NA                </td></tr>\n",
       "\t<tr><td>41                  </td><td>ExternRepair        </td><td>FixIt               </td><td>start               </td><td>1970-01-01 22:47    </td><td>                    </td><td>                    </td><td>  NA                </td><td>  NA                </td><td> NA                 </td><td>NA                  </td><td>  NA                </td></tr>\n",
       "\t<tr><td>41                  </td><td>RepairReady         </td><td>System              </td><td>complete            </td><td>1970-01-02 0:47     </td><td>                    </td><td>                    </td><td>  NA                </td><td>  NA                </td><td> NA                 </td><td>NA                  </td><td>TRUE                </td></tr>\n",
       "\t<tr><td>41                  </td><td>SendTicketToFinAdmin</td><td>System              </td><td>complete            </td><td>1970-01-02 3:17     </td><td>                    </td><td>                    </td><td>  NA                </td><td>  NA                </td><td> NA                 </td><td>NA                  </td><td>  NA                </td></tr>\n",
       "\t<tr><td>41                  </td><td>ReadyInformClient   </td><td>System              </td><td>complete            </td><td>1970-01-02 7:55     </td><td>                    </td><td>                    </td><td>  NA                </td><td>  NA                </td><td> NA                 </td><td>NA                  </td><td>TRUE                </td></tr>\n",
       "\t<tr><td>41                  </td><td>TicketReady         </td><td>System              </td><td>complete            </td><td>1970-01-02 7:55     </td><td>                    </td><td>                    </td><td>  NA                </td><td>  NA                </td><td> NA                 </td><td>NA                  </td><td>  NA                </td></tr>\n",
       "</tbody>\n",
       "</table>\n"
      ],
      "text/latex": [
       "\\begin{tabular}{r|llllllllllll}\n",
       " caseID & taskID & originator & eventtype & timestamp & contact & RepairType & objectKey & RepairInternally & EstimatedRepairTime & RepairCode & RepairOK\\\\\n",
       "\\hline\n",
       "\t 41                   & FirstContact         & Dian                 & complete             & 1970-01-01 15:15     & Phone                &                      &   NA                 &   NA                 &  NA                  & NA                   &   NA                \\\\\n",
       "\t 41                   & MakeTicket           & Dian                 & start                & 1970-01-01 15:15     &                      &                      &   NA                 &   NA                 &  NA                  & NA                   &   NA                \\\\\n",
       "\t 41                   & MakeTicket           & Dian                 & complete             & 1970-01-01 15:21     &                      & P                    & 6789                 &   NA                 &  NA                  & NA                   &   NA                \\\\\n",
       "\t 41                   & ArrangeSurvey        & Dian                 & start                & 1970-01-01 15:21     &                      &                      &   NA                 &   NA                 &  NA                  & NA                   &   NA                \\\\\n",
       "\t 41                   & ArrangeSurvey        & Dian                 & complete             & 1970-01-01 15:25     &                      &                      &   NA                 &   NA                 &  NA                  & NA                   &   NA                \\\\\n",
       "\t 41                   & InformClientSurvey   & System               & complete             & 1970-01-01 15:25     &                      &                      &   NA                 &   NA                 &  NA                  & NA                   &   NA                \\\\\n",
       "\t 41                   & Survey               & Anne                 & start                & 1970-01-01 16:45     &                      &                      &   NA                 &   NA                 &  NA                  & NA                   &   NA                \\\\\n",
       "\t 41                   & Survey               & Anne                 & complete             & 1970-01-01 17:35     &                      &                      &   NA                 & TRUE                 & 120                  &  3                   &   NA                \\\\\n",
       "\t 41                   & ImmediateRepair      & Anne                 & start                & 1970-01-01 17:35     &                      &                      &   NA                 &   NA                 &  NA                  & NA                   &   NA                \\\\\n",
       "\t 41                   & ImmediateRepair      & Anne                 & complete             & 1970-01-01 19:35     &                      &                      &   NA                 &   NA                 &  NA                  & NA                   &   NA                \\\\\n",
       "\t 41                   & InternRepair         & Jacky                & start                & 1970-01-01 20:47     &                      &                      &   NA                 &   NA                 &  NA                  & NA                   &   NA                \\\\\n",
       "\t 41                   & InternRepair         & Jacky                & complete             & 1970-01-01 22:47     &                      &                      &   NA                 &   NA                 &  NA                  & NA                   &   NA                \\\\\n",
       "\t 41                   & ExternRepair         & FixIt                & start                & 1970-01-01 22:47     &                      &                      &   NA                 &   NA                 &  NA                  & NA                   &   NA                \\\\\n",
       "\t 41                   & RepairReady          & System               & complete             & 1970-01-02 0:47      &                      &                      &   NA                 &   NA                 &  NA                  & NA                   & TRUE                \\\\\n",
       "\t 41                   & SendTicketToFinAdmin & System               & complete             & 1970-01-02 3:17      &                      &                      &   NA                 &   NA                 &  NA                  & NA                   &   NA                \\\\\n",
       "\t 41                   & ReadyInformClient    & System               & complete             & 1970-01-02 7:55      &                      &                      &   NA                 &   NA                 &  NA                  & NA                   & TRUE                \\\\\n",
       "\t 41                   & TicketReady          & System               & complete             & 1970-01-02 7:55      &                      &                      &   NA                 &   NA                 &  NA                  & NA                   &   NA                \\\\\n",
       "\\end{tabular}\n"
      ],
      "text/markdown": [
       "\n",
       "caseID | taskID | originator | eventtype | timestamp | contact | RepairType | objectKey | RepairInternally | EstimatedRepairTime | RepairCode | RepairOK | \n",
       "|---|---|---|---|---|---|---|---|---|---|---|---|---|---|---|---|---|\n",
       "| 41                   | FirstContact         | Dian                 | complete             | 1970-01-01 15:15     | Phone                |                      |   NA                 |   NA                 |  NA                  | NA                   |   NA                 | \n",
       "| 41                   | MakeTicket           | Dian                 | start                | 1970-01-01 15:15     |                      |                      |   NA                 |   NA                 |  NA                  | NA                   |   NA                 | \n",
       "| 41                   | MakeTicket           | Dian                 | complete             | 1970-01-01 15:21     |                      | P                    | 6789                 |   NA                 |  NA                  | NA                   |   NA                 | \n",
       "| 41                   | ArrangeSurvey        | Dian                 | start                | 1970-01-01 15:21     |                      |                      |   NA                 |   NA                 |  NA                  | NA                   |   NA                 | \n",
       "| 41                   | ArrangeSurvey        | Dian                 | complete             | 1970-01-01 15:25     |                      |                      |   NA                 |   NA                 |  NA                  | NA                   |   NA                 | \n",
       "| 41                   | InformClientSurvey   | System               | complete             | 1970-01-01 15:25     |                      |                      |   NA                 |   NA                 |  NA                  | NA                   |   NA                 | \n",
       "| 41                   | Survey               | Anne                 | start                | 1970-01-01 16:45     |                      |                      |   NA                 |   NA                 |  NA                  | NA                   |   NA                 | \n",
       "| 41                   | Survey               | Anne                 | complete             | 1970-01-01 17:35     |                      |                      |   NA                 | TRUE                 | 120                  |  3                   |   NA                 | \n",
       "| 41                   | ImmediateRepair      | Anne                 | start                | 1970-01-01 17:35     |                      |                      |   NA                 |   NA                 |  NA                  | NA                   |   NA                 | \n",
       "| 41                   | ImmediateRepair      | Anne                 | complete             | 1970-01-01 19:35     |                      |                      |   NA                 |   NA                 |  NA                  | NA                   |   NA                 | \n",
       "| 41                   | InternRepair         | Jacky                | start                | 1970-01-01 20:47     |                      |                      |   NA                 |   NA                 |  NA                  | NA                   |   NA                 | \n",
       "| 41                   | InternRepair         | Jacky                | complete             | 1970-01-01 22:47     |                      |                      |   NA                 |   NA                 |  NA                  | NA                   |   NA                 | \n",
       "| 41                   | ExternRepair         | FixIt                | start                | 1970-01-01 22:47     |                      |                      |   NA                 |   NA                 |  NA                  | NA                   |   NA                 | \n",
       "| 41                   | RepairReady          | System               | complete             | 1970-01-02 0:47      |                      |                      |   NA                 |   NA                 |  NA                  | NA                   | TRUE                 | \n",
       "| 41                   | SendTicketToFinAdmin | System               | complete             | 1970-01-02 3:17      |                      |                      |   NA                 |   NA                 |  NA                  | NA                   |   NA                 | \n",
       "| 41                   | ReadyInformClient    | System               | complete             | 1970-01-02 7:55      |                      |                      |   NA                 |   NA                 |  NA                  | NA                   | TRUE                 | \n",
       "| 41                   | TicketReady          | System               | complete             | 1970-01-02 7:55      |                      |                      |   NA                 |   NA                 |  NA                  | NA                   |   NA                 | \n",
       "\n",
       "\n"
      ],
      "text/plain": [
       "   caseID taskID               originator eventtype timestamp        contact\n",
       "1  41     FirstContact         Dian       complete  1970-01-01 15:15 Phone  \n",
       "2  41     MakeTicket           Dian       start     1970-01-01 15:15        \n",
       "3  41     MakeTicket           Dian       complete  1970-01-01 15:21        \n",
       "4  41     ArrangeSurvey        Dian       start     1970-01-01 15:21        \n",
       "5  41     ArrangeSurvey        Dian       complete  1970-01-01 15:25        \n",
       "6  41     InformClientSurvey   System     complete  1970-01-01 15:25        \n",
       "7  41     Survey               Anne       start     1970-01-01 16:45        \n",
       "8  41     Survey               Anne       complete  1970-01-01 17:35        \n",
       "9  41     ImmediateRepair      Anne       start     1970-01-01 17:35        \n",
       "10 41     ImmediateRepair      Anne       complete  1970-01-01 19:35        \n",
       "11 41     InternRepair         Jacky      start     1970-01-01 20:47        \n",
       "12 41     InternRepair         Jacky      complete  1970-01-01 22:47        \n",
       "13 41     ExternRepair         FixIt      start     1970-01-01 22:47        \n",
       "14 41     RepairReady          System     complete  1970-01-02 0:47         \n",
       "15 41     SendTicketToFinAdmin System     complete  1970-01-02 3:17         \n",
       "16 41     ReadyInformClient    System     complete  1970-01-02 7:55         \n",
       "17 41     TicketReady          System     complete  1970-01-02 7:55         \n",
       "   RepairType objectKey RepairInternally EstimatedRepairTime RepairCode\n",
       "1               NA        NA              NA                 NA        \n",
       "2               NA        NA              NA                 NA        \n",
       "3  P          6789        NA              NA                 NA        \n",
       "4               NA        NA              NA                 NA        \n",
       "5               NA        NA              NA                 NA        \n",
       "6               NA        NA              NA                 NA        \n",
       "7               NA        NA              NA                 NA        \n",
       "8               NA      TRUE             120                  3        \n",
       "9               NA        NA              NA                 NA        \n",
       "10              NA        NA              NA                 NA        \n",
       "11              NA        NA              NA                 NA        \n",
       "12              NA        NA              NA                 NA        \n",
       "13              NA        NA              NA                 NA        \n",
       "14              NA        NA              NA                 NA        \n",
       "15              NA        NA              NA                 NA        \n",
       "16              NA        NA              NA                 NA        \n",
       "17              NA        NA              NA                 NA        \n",
       "   RepairOK\n",
       "1    NA    \n",
       "2    NA    \n",
       "3    NA    \n",
       "4    NA    \n",
       "5    NA    \n",
       "6    NA    \n",
       "7    NA    \n",
       "8    NA    \n",
       "9    NA    \n",
       "10   NA    \n",
       "11   NA    \n",
       "12   NA    \n",
       "13   NA    \n",
       "14 TRUE    \n",
       "15   NA    \n",
       "16 TRUE    \n",
       "17   NA    "
      ]
     },
     "metadata": {},
     "output_type": "display_data"
    }
   ],
   "source": [
    "sqldf('SELECT * FROM repair WHERE caseID = 41')"
   ]
  }
 ],
 "metadata": {
  "kernelspec": {
   "display_name": "R [conda env:Anaconda3]",
   "language": "R",
   "name": "conda-env-Anaconda3-r"
  },
  "language_info": {
   "codemirror_mode": "r",
   "file_extension": ".r",
   "mimetype": "text/x-r-source",
   "name": "R",
   "pygments_lexer": "r",
   "version": "3.4.3"
  }
 },
 "nbformat": 4,
 "nbformat_minor": 2
}
